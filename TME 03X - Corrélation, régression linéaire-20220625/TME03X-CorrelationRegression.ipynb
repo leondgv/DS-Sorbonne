{
 "cells": [
  {
   "cell_type": "markdown",
   "id": "25758d42",
   "metadata": {},
   "source": [
    "# Qui êtes-vous ?\n",
    "<div class=\"alert alert-block alert-info\">\n",
    "Écrire ci-dessous le nom, le prénom et le numéro étudiant de chaque membre du binôme :\n",
    "</div>"
   ]
  },
  {
   "cell_type": "markdown",
   "id": "a0305b37",
   "metadata": {},
   "source": [
    "Vu Hoang Thuy Duong - 21110221 SCFO"
   ]
  },
  {
   "cell_type": "markdown",
   "id": "9379cb74",
   "metadata": {},
   "source": [
    "# TME 3X - Corrélation, régression linéaire"
   ]
  },
  {
   "cell_type": "markdown",
   "id": "89c89eb6",
   "metadata": {},
   "source": [
    "<div class=\"alert alert-block alert-warning\">\n",
    "Dans ce TME, nous allons étudier la corrélation entre deux variables et la régression linéaire.\n",
    "</div>\n",
    "<div class=\"alert alert-block alert-warning\">\n",
    "Voici le plan :\n",
    "    <ol>\n",
    "        <li>Chargement de données à partir d'un fichier</li>\n",
    "        <li>Visualisation d'un nuage de points</li>\n",
    "        <li>Calcul d'une covariance et d'un coefficient de corrélation linéaire</li>\n",
    "        <li>Visualiser une droite</li>\n",
    "        <li>Moindres carrés</li>\n",
    "        <li>Ajustement</li>\n",
    "        <li>Traitement des deux autres variables\n",
    "    </ol>\n",
    "</div>"
   ]
  },
  {
   "cell_type": "markdown",
   "id": "b1c71e86",
   "metadata": {},
   "source": [
    "<div class=\"alert alert-block alert-info\">\n",
    "Tout d'abord, exécuter la boite ci-dessous pour importer les bibliothèques nécessaires.\n",
    "</div>"
   ]
  },
  {
   "cell_type": "code",
   "execution_count": 1,
   "id": "c8165340",
   "metadata": {},
   "outputs": [],
   "source": [
    "import numpy as np\n",
    "import pandas as pd\n",
    "%matplotlib inline\n",
    "import matplotlib.pyplot as plt"
   ]
  },
  {
   "cell_type": "markdown",
   "id": "aa5be4ac",
   "metadata": {},
   "source": [
    "## 1 - Chargement de données à partir d'un fichier\n",
    "\n",
    "<div class=\"alert alert-block alert-warning\">\n",
    "Les données nécessaires à ce TME sont stockées dans le fichier <code>advertising.csv</code> qui se présente ainsi :\n",
    "<pre>\n",
    "TV,Radio,Newspaper,Sales\n",
    "230.1,37.8,69.2,22.1\n",
    "44.5,39.3,45.1,10.4\n",
    "17.2,45.9,69.3,12\n",
    "151.5,41.3,58.5,16.5\n",
    "...\n",
    "</pre>\n",
    "    Il contient quatre colonnes. Les trois premières sont une mesure de la quantité de publicité diffusée respectivement à la télévision, à la radio et dans les journaux. La dernière colonne mesure les ventes.\n",
    "    <br/><em>Source : <a href=\"https://www.kaggle.com/ashydv/advertising-dataset\">https://www.kaggle.com/ashydv/advertising-dataset</a></em>\n",
    "</div>\n",
    "<div class=\"alert alert-block alert-info\">\n",
    "    Q1.1 - Charger les données du fichier dans une variable <code>data_pub</code> à l'aide de la fonction <code>pd.read_csv('nom_de_fichier.csv')</code>.\n",
    "</div>"
   ]
  },
  {
   "cell_type": "code",
   "execution_count": 2,
   "id": "7f5001d3",
   "metadata": {},
   "outputs": [],
   "source": [
    "data_pub = pd.read_csv(\"advertising.csv\")"
   ]
  },
  {
   "cell_type": "markdown",
   "id": "af1e28c5",
   "metadata": {},
   "source": [
    "<div class=\"alert alert-block alert-info\">\n",
    "    Q1.2 - Définir la variable <code>tv</code> pour qu'elle contienne le vecteur NumPy de la colonne <code>'TV'</code>.\n",
    "</div>"
   ]
  },
  {
   "cell_type": "code",
   "execution_count": 3,
   "id": "889715ff",
   "metadata": {
    "scrolled": true
   },
   "outputs": [],
   "source": [
    "tv = data_pub[\"TV\"]"
   ]
  },
  {
   "cell_type": "markdown",
   "id": "010090d7",
   "metadata": {},
   "source": [
    "<div class=\"alert alert-block alert-info\">\n",
    "    Q1.3 - Définir la variable <code>ventes</code> correspondant à cette série de données.\n",
    "</div>"
   ]
  },
  {
   "cell_type": "code",
   "execution_count": 4,
   "id": "8041113f",
   "metadata": {},
   "outputs": [],
   "source": [
    "ventes = data_pub[\"Sales\"]"
   ]
  },
  {
   "cell_type": "markdown",
   "id": "f335459f",
   "metadata": {},
   "source": [
    "## 2 - Visualisation d'un nuage de points\n",
    "<div class=\"alert alert-block alert-warning\">\n",
    "    Dans la partie précédente, vous devez avoir défini les deux séries de données <code>tv</code> et <code>ventes</code> que nous allons visualiser.\n",
    "</div>"
   ]
  },
  {
   "cell_type": "markdown",
   "id": "2e8bf934",
   "metadata": {},
   "source": [
    "<div class=\"alert alert-block alert-info\">\n",
    "Q2.1 - Écrire la définition de la fonction <code>fig_nuage</code> qui prend en paramètres deux vecteurs de nombres <code>x</code> et <code>y</code> de même taille et qui affiche le nuage de points correspondant.\n",
    "</div>"
   ]
  },
  {
   "cell_type": "code",
   "execution_count": 23,
   "id": "fc33d6c6",
   "metadata": {},
   "outputs": [],
   "source": [
    "def fig_nuage(x,y,c):\n",
    "    plt.scatter(x,y,color=c,s=3)"
   ]
  },
  {
   "cell_type": "markdown",
   "id": "e45781b9",
   "metadata": {},
   "source": [
    "<div class=\"alert alert-block alert-info\">\n",
    "    Q2.2 - Appliquer la fonction <code>fig_nuage</code> pour visualiser les ventes en fonction de la publicité à la télévision.\n",
    "</div>"
   ]
  },
  {
   "cell_type": "code",
   "execution_count": 24,
   "id": "2cc3b724",
   "metadata": {
    "scrolled": false
   },
   "outputs": [
    {
     "data": {
      "image/png": "[encoded data removed]",
      "text/plain": [
       "<Figure size 432x288 with 1 Axes>"
      ]
     },
     "metadata": {
      "needs_background": "light"
     },
     "output_type": "display_data"
    }
   ],
   "source": [
    "fig_nuage(tv,ventes,\"orange\")"
   ]
  },
  {
   "cell_type": "markdown",
   "id": "8e8d2507",
   "metadata": {},
   "source": [
    "## 3 - Calcul d'une covariance et d'un coefficient de corrélation linéaire"
   ]
  },
  {
   "cell_type": "markdown",
   "id": "4d5aea02",
   "metadata": {},
   "source": [
    "<div class=\"alert alert-block alert-info\">\n",
    "    Q3.1 - Calculer la moyenne de la variable <code>tv</code>.\n",
    "</div>"
   ]
  },
  {
   "cell_type": "code",
   "execution_count": 25,
   "id": "7ad225af",
   "metadata": {},
   "outputs": [
    {
     "data": {
      "text/plain": [
       "147.0425"
      ]
     },
     "execution_count": 25,
     "metadata": {},
     "output_type": "execute_result"
    }
   ],
   "source": [
    "np.mean(tv)"
   ]
  },
  {
   "cell_type": "markdown",
   "id": "db2ea3f3",
   "metadata": {},
   "source": [
    "<div class=\"alert alert-block alert-warning\">\n",
    "Dans la boite précédente, vous devriez obtenir une valeur très proche de :\n",
    "<pre>\n",
    "147.0425\n",
    "</pre>\n",
    "</div>"
   ]
  },
  {
   "cell_type": "markdown",
   "id": "3c1866f0",
   "metadata": {},
   "source": [
    "<div class=\"alert alert-block alert-info\">\n",
    "    Q3.2 - Calculer la variance de la variable <code>tv</code>.\n",
    "</div>"
   ]
  },
  {
   "cell_type": "code",
   "execution_count": 26,
   "id": "e3e5ff49",
   "metadata": {},
   "outputs": [
    {
     "data": {
      "text/plain": [
       "7334.095143750001"
      ]
     },
     "execution_count": 26,
     "metadata": {},
     "output_type": "execute_result"
    }
   ],
   "source": [
    "np.var(tv)"
   ]
  },
  {
   "cell_type": "markdown",
   "id": "f28e5f45",
   "metadata": {},
   "source": [
    "<div class=\"alert alert-block alert-warning\">\n",
    "Dans la boite précédente, vous devriez obtenir une valeur très proche de :\n",
    "<pre>\n",
    "7334.09514375\n",
    "</pre>\n",
    "</div>"
   ]
  },
  {
   "cell_type": "markdown",
   "id": "8bfa3c97",
   "metadata": {},
   "source": [
    "<div class=\"alert alert-block alert-info\">\n",
    "    Q3.3 - Écrire la fonction <code>cov</code> qui étant données deux vecteurs d'observations <code>x</code> et <code>y</code> de même taille, retourne la covariance de ces deux variables.\n",
    "    On rappelle la formule de la covariance : $$cov(\\mathbf{x}, \\mathbf{y}) = \\frac{1}{n} \\sum_{i = 1}^{n}(x_i - \\bar{\\mathbf{x}})(y_i - \\bar{\\mathbf{y}})$$\n",
    "</div>"
   ]
  },
  {
   "cell_type": "code",
   "execution_count": 27,
   "id": "5b80168e",
   "metadata": {},
   "outputs": [],
   "source": [
    "def cov(x,y):\n",
    "    \n",
    "    s = 0\n",
    "    for i in range(len(x)):\n",
    "        s += (x[i] - x.mean()) * (y[i] - y.mean())\n",
    "    return 1/len(x) * s"
   ]
  },
  {
   "cell_type": "markdown",
   "id": "d4b8b274",
   "metadata": {},
   "source": [
    "<div class=\"alert alert-block alert-info\">\n",
    "    Q3.4 - Appliquer la fonction <code>cov</code> pour calculer la covariance des variables <code>tv</code> et <code>ventes</code>.\n",
    "</div>"
   ]
  },
  {
   "cell_type": "code",
   "execution_count": 28,
   "id": "4ebba862",
   "metadata": {},
   "outputs": [
    {
     "data": {
      "text/plain": [
       "406.78390374999987"
      ]
     },
     "execution_count": 28,
     "metadata": {},
     "output_type": "execute_result"
    }
   ],
   "source": [
    "cov(tv,ventes)"
   ]
  },
  {
   "cell_type": "markdown",
   "id": "6be92901",
   "metadata": {},
   "source": [
    "<div class=\"alert alert-block alert-warning\">\n",
    "Dans la boite précédente, vous devriez obtenir une valeur très proche de :\n",
    "<pre>\n",
    "406.78390375000004\n",
    "</pre>\n",
    "</div>"
   ]
  },
  {
   "cell_type": "markdown",
   "id": "032ddb2a",
   "metadata": {},
   "source": [
    "<div class=\"alert alert-block alert-info\">\n",
    "    Q3.5 - Sans utiliser <code>np.corrcoef</code>, écrire une fonction qui étant donné deux vecteurs d'observations <code>x</code> et <code>y</code>, retourne le coefficient de corrélation entre <code>x</code> et <code>y</code>.\n",
    "    On rappelle la formule du coefficient de corrélation :\n",
    "    $$\\displaystyle cor(\\mathbf{x}, \\mathbf{y}) = \\frac{cov(\\mathbf{x}, \\mathbf{y})}{\\sqrt{var(\\mathbf{x}).var(\\mathbf{y})}}$$\n",
    "</div>"
   ]
  },
  {
   "cell_type": "code",
   "execution_count": 29,
   "id": "ef97029b",
   "metadata": {},
   "outputs": [],
   "source": [
    "def cor(x,y):\n",
    "    return cov(x,y) / np.sqrt(np.var(x) * np.var(y))"
   ]
  },
  {
   "cell_type": "markdown",
   "id": "f8f1b278",
   "metadata": {},
   "source": [
    "<div class=\"alert alert-block alert-info\">\n",
    "    Q3.6 - Appliquer la fonction <code>cor</code> pour calculer le coefficient de corrélation linéaire entre les variables <code>tv</code> et <code>ventes</code>.\n",
    "</div>"
   ]
  },
  {
   "cell_type": "code",
   "execution_count": 30,
   "id": "699f2092",
   "metadata": {},
   "outputs": [
    {
     "data": {
      "text/plain": [
       "0.9012079133023305"
      ]
     },
     "execution_count": 30,
     "metadata": {},
     "output_type": "execute_result"
    }
   ],
   "source": [
    "cor(tv,ventes)"
   ]
  },
  {
   "cell_type": "markdown",
   "id": "da564200",
   "metadata": {},
   "source": [
    "<div class=\"alert alert-block alert-warning\">\n",
    "Dans la boite précédente, vous devriez obtenir une valeur très proche de :\n",
    "<pre>\n",
    "0.901207913302331\n",
    "</pre>\n",
    "</div>"
   ]
  },
  {
   "cell_type": "markdown",
   "id": "09dd37aa",
   "metadata": {},
   "source": [
    "<div class=\"alert alert-block alert-info\">\n",
    "    Q3.7 - Vérifier le résultat du calcul du coefficient de corrélation linéaire à l'aide de la fonction <code>.corrcoef()</code>\n",
    "</div>"
   ]
  },
  {
   "cell_type": "code",
   "execution_count": 31,
   "id": "96fb430b",
   "metadata": {},
   "outputs": [
    {
     "data": {
      "text/plain": [
       "0.9012079133023305"
      ]
     },
     "execution_count": 31,
     "metadata": {},
     "output_type": "execute_result"
    }
   ],
   "source": [
    "np.corrcoef(tv,ventes)[0][1]"
   ]
  },
  {
   "cell_type": "markdown",
   "id": "29da7ac1",
   "metadata": {},
   "source": [
    "## 4 - Visualiser une droite"
   ]
  },
  {
   "cell_type": "markdown",
   "id": "6a1f6cd4",
   "metadata": {},
   "source": [
    "<div class=\"alert alert-block alert-info\">\n",
    "Q4.1 - Écrire la définition de la fonction <code>fig_droite</code> qui prend en paramètres un couple de coefficients $(m, p)$ nommé <code>coefs</code> puis <code>xmin</code> et <code>xmax</code> et qui affiche le graphe de la droite $y = mx + p$ pour des abscisses comprises entre $x_{min}$ et $x_{max}$.\n",
    "</div>"
   ]
  },
  {
   "cell_type": "code",
   "execution_count": 32,
   "id": "711b8c92",
   "metadata": {
    "scrolled": true
   },
   "outputs": [],
   "source": [
    "def fig_droite(coefs,xMin,xMax,c):\n",
    "    m,p = coefs\n",
    "    x = np.array([xMin, xMax])\n",
    "    y = m * x + p\n",
    "    \n",
    "    plt.plot(x, y, color = c)"
   ]
  },
  {
   "cell_type": "markdown",
   "id": "9207a31a",
   "metadata": {},
   "source": [
    "<div class=\"alert alert-block alert-info\">\n",
    "Q4.2 - Appliquer la fonction <code>fig_droite</code> pour visualiser la droite d'équation $y = 3x - 200$ pour les valeurs de $x$ entre $0$ et $300$.\n",
    "</div>"
   ]
  },
  {
   "cell_type": "code",
   "execution_count": 33,
   "id": "fb063691",
   "metadata": {},
   "outputs": [
    {
     "data": {
      "image/png": "[encoded data removed]",
      "text/plain": [
       "<Figure size 432x288 with 1 Axes>"
      ]
     },
     "metadata": {
      "needs_background": "light"
     },
     "output_type": "display_data"
    }
   ],
   "source": [
    "fig_droite((3,-200),0,300,\"black\")"
   ]
  },
  {
   "cell_type": "markdown",
   "id": "c3b2a7e1",
   "metadata": {},
   "source": [
    "## 5 - Moindres carrés"
   ]
  },
  {
   "cell_type": "markdown",
   "id": "914408c3",
   "metadata": {},
   "source": [
    "<div class=\"alert alert-block alert-info\">\n",
    "Q5.1 - Écrire la définition de la fonction <code>regression_mc</code> qui, étant donné deux vecteurs d'observations <code>x</code> et <code>y</code> de même taille $n$, retourne le couple de coefficients <code>(m, p)</code> de la droite de régression $y = mx + p$ qui minimise le critère des moindres carrés $\\sum_{i = 1}^{n} (y_i - (m.x_i + p))^2$.\n",
    "On rappelle que les coefficients qui minimisent le critère des moindres carrés sont :\n",
    "    $$m^* = \\frac{cov(\\mathbf{x}, \\mathbf{y})}{var(\\mathbf{x})} \\text{ et } p^* = \\bar{\\mathbf{y}} - m^*.\\bar{\\mathbf{x}}$$\n",
    "</div>"
   ]
  },
  {
   "cell_type": "code",
   "execution_count": 34,
   "id": "d0bfc55c",
   "metadata": {},
   "outputs": [],
   "source": [
    "def regression_mc(x,y):\n",
    "    return (cov(x,y)/np.var(x),y.mean() - cov(x,y)/np.var(x) * x.mean())"
   ]
  },
  {
   "cell_type": "markdown",
   "id": "a93e81b6",
   "metadata": {},
   "source": [
    "<div class=\"alert alert-block alert-info\">\n",
    "Q5.2 - Appliquer la fonction <code>regression_mc</code> pour calculer les coefficients de la régression de <code>ventes</code> en fonction de <code>tv</code>.\n",
    "</div>"
   ]
  },
  {
   "cell_type": "code",
   "execution_count": 35,
   "id": "69686aa0",
   "metadata": {},
   "outputs": [
    {
     "data": {
      "text/plain": [
       "(0.05546477046955883, 6.974821488229898)"
      ]
     },
     "execution_count": 35,
     "metadata": {},
     "output_type": "execute_result"
    }
   ],
   "source": [
    "regression_mc(tv,ventes)"
   ]
  },
  {
   "cell_type": "markdown",
   "id": "9b765106",
   "metadata": {},
   "source": [
    "<div class=\"alert alert-block alert-warning\">\n",
    "Dans la boite précédente, vous devriez obtenir des valeurs très proches de :\n",
    "<pre>\n",
    "(0.05546477046955886, 6.9748214882298925)\n",
    "</pre>\n",
    "</div>"
   ]
  },
  {
   "cell_type": "markdown",
   "id": "49422b63",
   "metadata": {},
   "source": [
    "<div class=\"alert alert-block alert-info\">\n",
    "Q5.3 - Écrire la définition de la fonction <code>fig_regression</code> qui, étant donné deux vecteurs d'observations <code>x</code> et <code>y</code> de même taille, génère le  graphique avec le nuage de points et la droite de régression par les moindres carrés en rouge.\n",
    "</div>"
   ]
  },
  {
   "cell_type": "code",
   "execution_count": 39,
   "id": "42a6c52a",
   "metadata": {},
   "outputs": [],
   "source": [
    "def fig_regression(x,y,c1,c2):\n",
    "    fig_droite(regression_mc(x,y),x.min(),x.max(),c1)\n",
    "    fig_nuage(x,y,c2)"
   ]
  },
  {
   "cell_type": "markdown",
   "id": "7ebccb89",
   "metadata": {},
   "source": [
    "<div class=\"alert alert-block alert-info\">\n",
    "Q5.4 - Appliquer la fonction <code>fig_regression</code> pour visualiser le nuage de points de <code>ventes</code> en fonction de <code>tv</code> ainsi que la droite de régression sur le même graphique.\n",
    "</div>"
   ]
  },
  {
   "cell_type": "code",
   "execution_count": 40,
   "id": "1869c452",
   "metadata": {},
   "outputs": [
    {
     "data": {
      "image/png": "[encoded data removed]",
      "text/plain": [
       "<Figure size 432x288 with 1 Axes>"
      ]
     },
     "metadata": {
      "needs_background": "light"
     },
     "output_type": "display_data"
    }
   ],
   "source": [
    "fig_regression(tv,ventes,\"black\",\"orange\")"
   ]
  },
  {
   "cell_type": "markdown",
   "id": "46fe470f",
   "metadata": {},
   "source": [
    "<div class=\"alert alert-block alert-info\">\n",
    "Q5.5 - Refaire les deux questions précédentes pour visualiser, sur un même graphique, le nuage de points, la droite de régression de <code>ventes</code> en fonction de <code>tv</code> en rouge et la droite de régression de <code>tv</code> en fonction de <code>ventes</code> en vert.\n",
    "</div>"
   ]
  },
  {
   "cell_type": "code",
   "execution_count": 47,
   "id": "5b8ea805",
   "metadata": {},
   "outputs": [
    {
     "data": {
      "image/png": "[encoded data removed]",
      "text/plain": [
       "<Figure size 432x288 with 1 Axes>"
      ]
     },
     "metadata": {
      "needs_background": "light"
     },
     "output_type": "display_data"
    }
   ],
   "source": [
    "fig_regression(tv,ventes,\"red\",\"orange\")\n",
    "fig_regression(ventes,tv,\"green\",\"black\")"
   ]
  },
  {
   "cell_type": "markdown",
   "id": "06641e15",
   "metadata": {},
   "source": [
    "## 6 - Ajustement"
   ]
  },
  {
   "cell_type": "markdown",
   "id": "d45e63fa",
   "metadata": {},
   "source": [
    "<div class=\"alert alert-block alert-info\">\n",
    "    Q6.1 - Écrire un fonction <code>r2</code> qui, étant donné deux vecteurs de mesures <code>x</code> et <code>y</code> mesure la qualité de l'approximation des $y_i = m^* x_i + p$ par :\n",
    "    $$R^2 = \\left( cor(p^* \\mathbf{1} + m^* \\mathbf{x} , \\mathbf{y}) \\right)^2$$\n",
    "</div>"
   ]
  },
  {
   "cell_type": "code",
   "execution_count": 48,
   "id": "ed3cd110",
   "metadata": {},
   "outputs": [],
   "source": [
    "def r2(x,y):\n",
    "    m,p = regression_mc(x,y)\n",
    "    return (cor(p + m*x,y))**2"
   ]
  },
  {
   "cell_type": "markdown",
   "id": "b49e2fd6",
   "metadata": {},
   "source": [
    "<div class=\"alert alert-block alert-info\">\n",
    "Q6.2 - Appliquer la fonction <code>r2</code> pour mesurer la qualité de l'ajustement de <code>ventes</code> en fonction de <code>tv</code> pour la méthode des moindres carrés.\n",
    "</div>"
   ]
  },
  {
   "cell_type": "code",
   "execution_count": 49,
   "id": "0b3bf358",
   "metadata": {},
   "outputs": [
    {
     "data": {
      "text/plain": [
       "0.8121757029987423"
      ]
     },
     "execution_count": 49,
     "metadata": {},
     "output_type": "execute_result"
    }
   ],
   "source": [
    "r2(tv,ventes)"
   ]
  },
  {
   "cell_type": "markdown",
   "id": "bac7a321",
   "metadata": {},
   "source": [
    "<div class=\"alert alert-block alert-warning\">\n",
    "Dans la boite précédente, vous devriez obtenir une valeur très proche de :\n",
    "<pre>\n",
    "0.8121757029987419\n",
    "</pre>\n",
    "</div>"
   ]
  },
  {
   "cell_type": "markdown",
   "id": "e5437d08",
   "metadata": {},
   "source": [
    "## 7 - Traitement des deux autres variables"
   ]
  },
  {
   "cell_type": "markdown",
   "id": "13241ee5",
   "metadata": {},
   "source": [
    "<div class=\"alert alert-block alert-info\">\n",
    "Q7.1 - Visualiser la droite de régression linéraire pour les ventes en fonction de la publicité à la radio.\n",
    "</div>"
   ]
  },
  {
   "cell_type": "code",
   "execution_count": 62,
   "id": "c13e5c70",
   "metadata": {},
   "outputs": [
    {
     "data": {
      "image/png": "[encoded data removed]",
      "text/plain": [
       "<Figure size 432x288 with 1 Axes>"
      ]
     },
     "metadata": {
      "needs_background": "light"
     },
     "output_type": "display_data"
    }
   ],
   "source": [
    "radio = data_pub[\"Radio\"]\n",
    "fig_droite(\n",
    "    regression_mc(radio,ventes),radio.min(),radio.max(),\"blue\")"
   ]
  },
  {
   "cell_type": "markdown",
   "id": "5d4d0d29",
   "metadata": {},
   "source": [
    "<div class=\"alert alert-block alert-info\">\n",
    "Q7.2 - Calculer le $R2$ de la régression précédente.\n",
    "</div>"
   ]
  },
  {
   "cell_type": "code",
   "execution_count": 54,
   "id": "a593f9f2",
   "metadata": {},
   "outputs": [
    {
     "data": {
      "text/plain": [
       "0.12224190399478616"
      ]
     },
     "execution_count": 54,
     "metadata": {},
     "output_type": "execute_result"
    }
   ],
   "source": [
    "r2(radio,ventes)"
   ]
  },
  {
   "cell_type": "markdown",
   "id": "7d00be80",
   "metadata": {},
   "source": [
    "<div class=\"alert alert-block alert-info\">\n",
    "Q7.3 - Visualiser la droite de régression linéraire pour les ventes en fonction de la publicité dans les journaux.\n",
    "</div>"
   ]
  },
  {
   "cell_type": "code",
   "execution_count": 63,
   "id": "f2465c9b",
   "metadata": {},
   "outputs": [
    {
     "data": {
      "image/png": "[encoded data removed]",
      "text/plain": [
       "<Figure size 432x288 with 1 Axes>"
      ]
     },
     "metadata": {
      "needs_background": "light"
     },
     "output_type": "display_data"
    }
   ],
   "source": [
    "journaux = data_pub[\"Newspaper\"]\n",
    "fig_droite(regression_mc(journaux,ventes),journaux.min(),journaux.max(),\"black\")"
   ]
  },
  {
   "cell_type": "markdown",
   "id": "0b030975",
   "metadata": {},
   "source": [
    "<div class=\"alert alert-block alert-info\">\n",
    "Q7.4 - Calculer le $R2$ de la régression précédente.\n",
    "</div>"
   ]
  },
  {
   "cell_type": "code",
   "execution_count": 57,
   "id": "56debd80",
   "metadata": {},
   "outputs": [
    {
     "data": {
      "text/plain": [
       "0.024951369862864982"
      ]
     },
     "execution_count": 57,
     "metadata": {},
     "output_type": "execute_result"
    }
   ],
   "source": [
    "r2(journaux,ventes)"
   ]
  },
  {
   "cell_type": "markdown",
   "id": "42d167a0",
   "metadata": {},
   "source": [
    "---"
   ]
  }
 ],
 "metadata": {
  "kernelspec": {
   "display_name": "Python 3 (ipykernel)",
   "language": "python",
   "name": "python3"
  },
  "language_info": {
   "codemirror_mode": {
    "name": "ipython",
    "version": 3
   },
   "file_extension": ".py",
   "mimetype": "text/x-python",
   "name": "python",
   "nbconvert_exporter": "python",
   "pygments_lexer": "ipython3",
   "version": "3.9.7"
  }
 },
 "nbformat": 4,
 "nbformat_minor": 5
}
