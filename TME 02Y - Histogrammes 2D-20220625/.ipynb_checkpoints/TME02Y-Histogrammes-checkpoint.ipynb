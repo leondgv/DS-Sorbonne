{
 "cells": [
  {
   "cell_type": "markdown",
   "id": "25758d42",
   "metadata": {},
   "source": [
    "# Qui êtes-vous ?\n",
    "<div class=\"alert alert-block alert-info\">\n",
    "Écrire ci-dessous le nom, le prénom et le numéro étudiant de chaque membre du binôme :\n",
    "</div>"
   ]
  },
  {
   "cell_type": "markdown",
   "id": "e47e51a9",
   "metadata": {},
   "source": [
    "Vu Hoang Thuy Duong - 21110221 SCFO"
   ]
  },
  {
   "cell_type": "markdown",
   "id": "7be7a50d",
   "metadata": {},
   "source": [
    "# TME 2Y - Histogrammes"
   ]
  },
  {
   "cell_type": "markdown",
   "id": "sharing-setting",
   "metadata": {},
   "source": [
    "<div class=\"alert alert-block alert-warning\">\n",
    "Nous allons reprendre dans ce TME les données du TME 1 sur la géolocalisation de points d'intérêt dans Paris et l'isolation faite dans le TME précédent en séparant dans des variables `bars`,`restos` et `barestos`  les lieux correspondants respectivement à des bars seul, des restaurants seul et des bars-restaurants, qui ont une note existante.\n",
    "</div>"
   ]
  },
  {
   "cell_type": "markdown",
   "id": "462708bf",
   "metadata": {},
   "source": [
    "<div class=\"alert alert-block alert-info\">\n",
    "Tout d'abord, exécuter le bloc ci-dessous pour importer les bibliothèques Pandas, MatPlotLib et Numpy.\n",
    "</div>"
   ]
  },
  {
   "cell_type": "code",
   "execution_count": 1,
   "id": "cellular-complexity",
   "metadata": {},
   "outputs": [],
   "source": [
    "# Chargement des bibliothèque pandas, matplotlib et numpy\n",
    "import pandas as pd\n",
    "%matplotlib inline\n",
    "import matplotlib.pyplot as plt\n",
    "import numpy as np"
   ]
  },
  {
   "cell_type": "markdown",
   "id": "surrounded-being",
   "metadata": {},
   "source": [
    "# 1 - Simulation et histogrammes"
   ]
  },
  {
   "cell_type": "markdown",
   "id": "upper-youth",
   "metadata": {},
   "source": [
    "<div class=\"alert alert-block alert-warning\">\n",
    "Afin de mieux comprendre l'estimation par histogramme (et les pièges possibles), nous allons étudier dans un premier temps des données simulés. La fonction <code>np.random.uniform(size = N)</code> permet de tirer uniformément dans $[0,1[$ un échantillon de taille <code>N</code>.\n",
    "</div>"
   ]
  },
  {
   "cell_type": "markdown",
   "id": "surrounded-gothic",
   "metadata": {},
   "source": [
    "<div class=\"alert alert-block alert-info\">\n",
    "    Q1.1 - Tirer un échantillon <code>ech50</code> de taille 50 et faire un histogramme des valeurs obtenues en utilisant 2, 5, 10 et 20 segments.\n",
    "</div>"
   ]
  },
  {
   "cell_type": "code",
   "execution_count": 63,
   "id": "acceptable-companion",
   "metadata": {},
   "outputs": [
    {
     "data": {
      "text/plain": [
       "(array([2., 6., 3., 0., 2., 3., 3., 1., 2., 3., 4., 2., 4., 3., 0., 2., 2.,\n",
       "        3., 4., 1.]),\n",
       " array([0.02185429, 0.07008196, 0.11830963, 0.1665373 , 0.21476497,\n",
       "        0.26299264, 0.31122031, 0.35944798, 0.40767564, 0.45590331,\n",
       "        0.50413098, 0.55235865, 0.60058632, 0.64881399, 0.69704166,\n",
       "        0.74526933, 0.793497  , 0.84172467, 0.88995233, 0.93818   ,\n",
       "        0.98640767]),\n",
       " <BarContainer object of 20 artists>)"
      ]
     },
     "execution_count": 63,
     "metadata": {},
     "output_type": "execute_result"
    },
    {
     "data": {
      "image/png": "[encoded data removed]",
      "text/plain": [
       "<Figure size 432x288 with 1 Axes>"
      ]
     },
     "metadata": {
      "needs_background": "light"
     },
     "output_type": "display_data"
    }
   ],
   "source": [
    "ech50 = np.random.uniform(size=50)\n",
    "\n",
    "plt.hist(ech50, 2)\n",
    "plt.hist(ech50, 5)\n",
    "plt.hist(ech50, 10)\n",
    "plt.hist(ech50, 20)"
   ]
  },
  {
   "cell_type": "markdown",
   "id": "lined-participation",
   "metadata": {},
   "source": [
    "<div class=\"alert alert-block alert-info\">\n",
    "Q1.2 - Tirer un échantillon <code>ech100</code> de taille 100 et faire un histogramme des valeurs obtenues en utilisant 2, 5, 10 et 20 segments.\n",
    "</div>"
   ]
  },
  {
   "cell_type": "code",
   "execution_count": 64,
   "id": "imposed-bicycle",
   "metadata": {},
   "outputs": [
    {
     "data": {
      "text/plain": [
       "(array([ 5.,  6.,  6.,  4.,  9.,  5.,  3.,  5.,  3.,  4.,  2.,  6.,  5.,\n",
       "         4.,  4.,  6.,  5., 10.,  4.,  4.]),\n",
       " array([0.02245484, 0.06938142, 0.116308  , 0.16323458, 0.21016116,\n",
       "        0.25708774, 0.30401432, 0.3509409 , 0.39786748, 0.44479406,\n",
       "        0.49172064, 0.53864723, 0.58557381, 0.63250039, 0.67942697,\n",
       "        0.72635355, 0.77328013, 0.82020671, 0.86713329, 0.91405987,\n",
       "        0.96098645]),\n",
       " <BarContainer object of 20 artists>)"
      ]
     },
     "execution_count": 64,
     "metadata": {},
     "output_type": "execute_result"
    },
    {
     "data": {
      "image/png": "[encoded data removed]",
      "text/plain": [
       "<Figure size 432x288 with 1 Axes>"
      ]
     },
     "metadata": {
      "needs_background": "light"
     },
     "output_type": "display_data"
    }
   ],
   "source": [
    "ech100 = np.random.uniform(size=100)\n",
    "\n",
    "plt.hist(ech100, 2)\n",
    "plt.hist(ech100, 5)\n",
    "plt.hist(ech100, 10)\n",
    "plt.hist(ech100, 20)"
   ]
  },
  {
   "cell_type": "markdown",
   "id": "matched-census",
   "metadata": {},
   "source": [
    "<div class=\"alert alert-block alert-info\">\n",
    "Q1.3 - Tirer un échantillon <code>ech1000</code> de taille 1000 et faire un histogramme des valeurs obtenues en utilisant 2, 5, 10 et 20 segments.\n",
    "</div>"
   ]
  },
  {
   "cell_type": "code",
   "execution_count": 65,
   "id": "covered-munich",
   "metadata": {},
   "outputs": [
    {
     "data": {
      "text/plain": [
       "(array([49., 53., 43., 51., 50., 51., 47., 44., 43., 50., 54., 39., 42.,\n",
       "        63., 55., 56., 39., 56., 68., 47.]),\n",
       " array([0.00100665, 0.05090241, 0.10079817, 0.15069394, 0.2005897 ,\n",
       "        0.25048546, 0.30038123, 0.35027699, 0.40017275, 0.45006851,\n",
       "        0.49996428, 0.54986004, 0.5997558 , 0.64965157, 0.69954733,\n",
       "        0.74944309, 0.79933885, 0.84923462, 0.89913038, 0.94902614,\n",
       "        0.99892191]),\n",
       " <BarContainer object of 20 artists>)"
      ]
     },
     "execution_count": 65,
     "metadata": {},
     "output_type": "execute_result"
    },
    {
     "data": {
      "image/png": "[encoded data removed]",
      "text/plain": [
       "<Figure size 432x288 with 1 Axes>"
      ]
     },
     "metadata": {
      "needs_background": "light"
     },
     "output_type": "display_data"
    }
   ],
   "source": [
    "ech1000 = np.random.uniform(size=1000)\n",
    "\n",
    "plt.hist(ech1000, 2)\n",
    "plt.hist(ech1000, 5)\n",
    "plt.hist(ech1000, 10)\n",
    "plt.hist(ech1000, 20)"
   ]
  },
  {
   "cell_type": "markdown",
   "id": "graduate-feelings",
   "metadata": {},
   "source": [
    "<div class=\"alert alert-block alert-info\">\n",
    "Q1.4 - Comparer les trois résultats. Quel est le nombre de segments optimaux pour $N=50$ ? Pour $N=1000$ ? Comment évolue ce nombre en fonction de la taille de l'échantillon ?\n",
    "</div>"
   ]
  },
  {
   "cell_type": "raw",
   "id": "76341ced",
   "metadata": {},
   "source": [
    "# Pour n= 50, le nombre optimal de segments est de 10\n",
    "# Pour n = 1000, le nombre optimal de segments est de 20"
   ]
  },
  {
   "cell_type": "markdown",
   "id": "genetic-heritage",
   "metadata": {},
   "source": [
    "# 2 - Histogramme 2D"
   ]
  },
  {
   "cell_type": "markdown",
   "id": "minimal-secret",
   "metadata": {},
   "source": [
    "<div class=\"alert alert-block alert-warning\">\n",
    "On peut généraliser les histogrammes à des dimensions supérieures, en particulier dans le cas de dimension 2. \n",
    "    La fonction <code>plt.hist2d(dataX, dataY, bins = N)</code> permet de construire l'histogramme  des points en 2 dimensions dont la liste des abscisses est passée dans <code>dataX</code> et la liste des ordonnées dans <code>dataY</code>. Vous pouvez connaître l'échelle des couleurs en rajoutant juste après l'instruction <code>plt.colorbar()</code>.\n",
    "La fonction retourne 4 valeurs : le tableau du nombre d'échantillons dans chaque case, les bornes des cases des abscisses, les bornes des cases des ordonnées, et la figure.\n",
    "</div>"
   ]
  },
  {
   "cell_type": "markdown",
   "id": "municipal-oregon",
   "metadata": {},
   "source": [
    "<div class=\"alert alert-block alert-info\">\n",
    "    Q2.1 - En utilisant toujours <code>np.random.uniform()</code>, tirer un échantillon de 50 points 2D  en stockant les abscisses dans <code>echX50</code> et les ordonnées dans <code>echY50</code>. Faire les histogrammes 2D avec 2, 5, 10 et 50 segments par axe. Répéter l'expérience avec $100$ puis $1000$ points. \n",
    "\n",
    "Que remarquez vous dans ce cas 2D sur le rapport entre taille de l'échantillon et nombre de segments ? À votre avis, que se passe-t-il lorsqu'on augment encore la dimension ?\n",
    "</div>"
   ]
  },
  {
   "cell_type": "code",
   "execution_count": 23,
   "id": "monetary-qualification",
   "metadata": {},
   "outputs": [],
   "source": [
    "echX50 = np.random.uniform(size=50)\n",
    "echY50 = np.random.uniform(size=50)"
   ]
  },
  {
   "cell_type": "markdown",
   "id": "06c34093",
   "metadata": {},
   "source": [
    "<div class=\"alert alert-block alert-info\">\n",
    "    Q2.2 - Faire les histogrammes 2D avec 2, 5, 10 et 50 segments par axe.\n",
    "</div>"
   ]
  },
  {
   "cell_type": "code",
   "execution_count": 25,
   "id": "e0775dbd",
   "metadata": {},
   "outputs": [
    {
     "data": {
      "text/plain": [
       "<matplotlib.colorbar.Colorbar at 0x7fb6527c3370>"
      ]
     },
     "execution_count": 25,
     "metadata": {},
     "output_type": "execute_result"
    },
    {
     "data": {
      "image/png": "[encoded data removed]",
      "text/plain": [
       "<Figure size 432x288 with 2 Axes>"
      ]
     },
     "metadata": {
      "needs_background": "light"
     },
     "output_type": "display_data"
    }
   ],
   "source": [
    "plt.hist2d(echX50,echY50,bins=2)\n",
    "plt.title(\"N = 2\")\n",
    "plt.colorbar()"
   ]
  },
  {
   "cell_type": "code",
   "execution_count": 26,
   "id": "447e69ae",
   "metadata": {},
   "outputs": [
    {
     "data": {
      "text/plain": [
       "<matplotlib.colorbar.Colorbar at 0x7fb652913a90>"
      ]
     },
     "execution_count": 26,
     "metadata": {},
     "output_type": "execute_result"
    },
    {
     "data": {
      "image/png": "[encoded data removed]",
      "text/plain": [
       "<Figure size 432x288 with 2 Axes>"
      ]
     },
     "metadata": {
      "needs_background": "light"
     },
     "output_type": "display_data"
    }
   ],
   "source": [
    "plt.hist2d(echX50,echY50,bins=5)\n",
    "plt.title(\"N = 5\")\n",
    "plt.colorbar()"
   ]
  },
  {
   "cell_type": "code",
   "execution_count": 27,
   "id": "85583b6b",
   "metadata": {},
   "outputs": [
    {
     "data": {
      "text/plain": [
       "<matplotlib.colorbar.Colorbar at 0x7fb63059d580>"
      ]
     },
     "execution_count": 27,
     "metadata": {},
     "output_type": "execute_result"
    },
    {
     "data": {
      "image/png": "[encoded data removed]",
      "text/plain": [
       "<Figure size 432x288 with 2 Axes>"
      ]
     },
     "metadata": {
      "needs_background": "light"
     },
     "output_type": "display_data"
    }
   ],
   "source": [
    "plt.hist2d(echX50,echY50,bins=10)\n",
    "plt.title(\"N = 10\")\n",
    "plt.colorbar()"
   ]
  },
  {
   "cell_type": "code",
   "execution_count": 28,
   "id": "f1fb4dc5",
   "metadata": {},
   "outputs": [
    {
     "data": {
      "text/plain": [
       "<matplotlib.colorbar.Colorbar at 0x7fb6305c9280>"
      ]
     },
     "execution_count": 28,
     "metadata": {},
     "output_type": "execute_result"
    },
    {
     "data": {
      "image/png": "[encoded data removed]",
      "text/plain": [
       "<Figure size 432x288 with 2 Axes>"
      ]
     },
     "metadata": {
      "needs_background": "light"
     },
     "output_type": "display_data"
    }
   ],
   "source": [
    "plt.hist2d(echX50,echY50,bins=50)\n",
    "plt.title(\"N = 50\")\n",
    "plt.colorbar()"
   ]
  },
  {
   "cell_type": "markdown",
   "id": "bea53cb9",
   "metadata": {},
   "source": [
    "<div class=\"alert alert-block alert-info\">\n",
    "    Q2.3 - Répéter l'expérience avec $100$ puis $1000$ points. \n",
    "\n",
    "Que remarquez vous dans ce cas 2D sur le rapport entre taille de l'échantillon et nombre de segments ? À votre avis, que se passe-t-il lorsqu'on augment encore la dimension ?\n",
    "</div>"
   ]
  },
  {
   "cell_type": "markdown",
   "id": "eb341930",
   "metadata": {},
   "source": [
    "##### 100 points"
   ]
  },
  {
   "cell_type": "code",
   "execution_count": 31,
   "id": "aed9c5d8",
   "metadata": {},
   "outputs": [],
   "source": [
    "echX100 = np.random.uniform(size=100)\n",
    "echY100 = np.random.uniform(size=100)"
   ]
  },
  {
   "cell_type": "code",
   "execution_count": 32,
   "id": "58df5b64",
   "metadata": {},
   "outputs": [
    {
     "data": {
      "text/plain": [
       "<matplotlib.colorbar.Colorbar at 0x7fb6220cc8b0>"
      ]
     },
     "execution_count": 32,
     "metadata": {},
     "output_type": "execute_result"
    },
    {
     "data": {
      "image/png": "[encoded data removed]",
      "text/plain": [
       "<Figure size 432x288 with 2 Axes>"
      ]
     },
     "metadata": {
      "needs_background": "light"
     },
     "output_type": "display_data"
    }
   ],
   "source": [
    "plt.hist2d(echX100,echY100,bins=2)\n",
    "plt.title(\"N = 2\")\n",
    "plt.colorbar()"
   ]
  },
  {
   "cell_type": "code",
   "execution_count": 33,
   "id": "a1ce1933",
   "metadata": {},
   "outputs": [
    {
     "data": {
      "text/plain": [
       "<matplotlib.colorbar.Colorbar at 0x7fb62213e430>"
      ]
     },
     "execution_count": 33,
     "metadata": {},
     "output_type": "execute_result"
    },
    {
     "data": {
      "image/png": "[encoded data removed]",
      "text/plain": [
       "<Figure size 432x288 with 2 Axes>"
      ]
     },
     "metadata": {
      "needs_background": "light"
     },
     "output_type": "display_data"
    }
   ],
   "source": [
    "plt.hist2d(echX100,echY100,bins=5)\n",
    "plt.title(\"N = 5\")\n",
    "plt.colorbar()"
   ]
  },
  {
   "cell_type": "code",
   "execution_count": 34,
   "id": "0e42ee50",
   "metadata": {},
   "outputs": [
    {
     "data": {
      "text/plain": [
       "<matplotlib.colorbar.Colorbar at 0x7fb622174430>"
      ]
     },
     "execution_count": 34,
     "metadata": {},
     "output_type": "execute_result"
    },
    {
     "data": {
      "image/png": "[encoded data removed]",
      "text/plain": [
       "<Figure size 432x288 with 2 Axes>"
      ]
     },
     "metadata": {
      "needs_background": "light"
     },
     "output_type": "display_data"
    }
   ],
   "source": [
    "plt.hist2d(echX100,echY100,bins=10)\n",
    "plt.title(\"N = 10\")\n",
    "plt.colorbar()"
   ]
  },
  {
   "cell_type": "code",
   "execution_count": 35,
   "id": "840c9a93",
   "metadata": {},
   "outputs": [
    {
     "data": {
      "text/plain": [
       "<matplotlib.colorbar.Colorbar at 0x7fb6306e9310>"
      ]
     },
     "execution_count": 35,
     "metadata": {},
     "output_type": "execute_result"
    },
    {
     "data": {
      "image/png": "[encoded data removed]",
      "text/plain": [
       "<Figure size 432x288 with 2 Axes>"
      ]
     },
     "metadata": {
      "needs_background": "light"
     },
     "output_type": "display_data"
    }
   ],
   "source": [
    "plt.hist2d(echX100,echY100,bins=50)\n",
    "plt.title(\"N = 50\")\n",
    "plt.colorbar()"
   ]
  },
  {
   "cell_type": "markdown",
   "id": "5a8c758a",
   "metadata": {},
   "source": [
    "##### 1000 points"
   ]
  },
  {
   "cell_type": "code",
   "execution_count": 37,
   "id": "a837a3c2",
   "metadata": {},
   "outputs": [],
   "source": [
    "echX1000 = np.random.uniform(size=1000)\n",
    "echY1000 = np.random.uniform(size=1000)"
   ]
  },
  {
   "cell_type": "code",
   "execution_count": 38,
   "id": "f2d8229c",
   "metadata": {},
   "outputs": [
    {
     "data": {
      "text/plain": [
       "<matplotlib.colorbar.Colorbar at 0x7fb622198130>"
      ]
     },
     "execution_count": 38,
     "metadata": {},
     "output_type": "execute_result"
    },
    {
     "data": {
      "image/png": "[encoded data removed]",
      "text/plain": [
       "<Figure size 432x288 with 2 Axes>"
      ]
     },
     "metadata": {
      "needs_background": "light"
     },
     "output_type": "display_data"
    }
   ],
   "source": [
    "plt.hist2d(echX1000,echY1000,bins=2)\n",
    "plt.title(\"N = 2\")\n",
    "plt.colorbar()"
   ]
  },
  {
   "cell_type": "code",
   "execution_count": 39,
   "id": "f3b57227",
   "metadata": {},
   "outputs": [
    {
     "data": {
      "text/plain": [
       "<matplotlib.colorbar.Colorbar at 0x7fb622239a00>"
      ]
     },
     "execution_count": 39,
     "metadata": {},
     "output_type": "execute_result"
    },
    {
     "data": {
      "image/png": "[encoded data removed]",
      "text/plain": [
       "<Figure size 432x288 with 2 Axes>"
      ]
     },
     "metadata": {
      "needs_background": "light"
     },
     "output_type": "display_data"
    }
   ],
   "source": [
    "plt.hist2d(echX1000,echY1000,bins=5)\n",
    "plt.title(\"N = 5\")\n",
    "plt.colorbar()"
   ]
  },
  {
   "cell_type": "code",
   "execution_count": 42,
   "id": "a989f617",
   "metadata": {},
   "outputs": [
    {
     "data": {
      "text/plain": [
       "<matplotlib.colorbar.Colorbar at 0x7fb643309dc0>"
      ]
     },
     "execution_count": 42,
     "metadata": {},
     "output_type": "execute_result"
    },
    {
     "data": {
      "image/png": "[encoded data removed]",
      "text/plain": [
       "<Figure size 432x288 with 2 Axes>"
      ]
     },
     "metadata": {
      "needs_background": "light"
     },
     "output_type": "display_data"
    }
   ],
   "source": [
    "plt.hist2d(echX1000,echY1000,bins=10)\n",
    "plt.title(\"N = 10\")\n",
    "plt.colorbar()"
   ]
  },
  {
   "cell_type": "code",
   "execution_count": 43,
   "id": "857f4cc4",
   "metadata": {},
   "outputs": [
    {
     "data": {
      "text/plain": [
       "<matplotlib.colorbar.Colorbar at 0x7fb64322a820>"
      ]
     },
     "execution_count": 43,
     "metadata": {},
     "output_type": "execute_result"
    },
    {
     "data": {
      "image/png": "[encoded data removed]",
      "text/plain": [
       "<Figure size 432x288 with 2 Axes>"
      ]
     },
     "metadata": {
      "needs_background": "light"
     },
     "output_type": "display_data"
    }
   ],
   "source": [
    "plt.hist2d(echX1000,echY1000,bins=50)\n",
    "plt.title(\"N = 50\")\n",
    "plt.colorbar()"
   ]
  },
  {
   "cell_type": "markdown",
   "id": "inside-arctic",
   "metadata": {},
   "source": [
    "# 3 - Histogramme 2D et analyse géospatiale"
   ]
  },
  {
   "cell_type": "markdown",
   "id": "burning-skill",
   "metadata": {},
   "source": [
    "<div class=\"alert alert-block alert-warning\">\n",
    "L'objectif de cette partie est de proposer une analyse plus fine de la répartition des lieux et des notes dans l'espace parisien que celle faite dans le précédent TME. Pour cela, nous allons discrétiser l'espace en une grille de cases selon un découpage linéaire de la latitude et de la longitude. Les cases de la grille peuvent être vu comme une variable qualitative d'indication géographique. Cette grille sera calculée par un histogramme en 2 dimensions.\n",
    "</div>"
   ]
  },
  {
   "cell_type": "markdown",
   "id": "6bde5a77",
   "metadata": {},
   "source": [
    "<div class=\"alert alert-block alert-info\">\n",
    "Exécuter le bloc suivant pour charger le tableau des données sur les points d'intérêt parisiens\n",
    "</div>"
   ]
  },
  {
   "cell_type": "code",
   "execution_count": 44,
   "id": "59add4c3",
   "metadata": {},
   "outputs": [],
   "source": [
    "# Chargement du fichier de données\n",
    "tableau_poi = pd.read_csv(\"poi-paris.csv\")"
   ]
  },
  {
   "cell_type": "markdown",
   "id": "07300f03",
   "metadata": {},
   "source": [
    "<div class=\"alert alert-block alert-info\">\n",
    "Q3.1.a - Définir une variable <code>bars</code> ne contenant que les lieux qui sont des bars, ne sont pas des restaurants et ont une note attribuée.\n",
    "</div>"
   ]
  },
  {
   "cell_type": "code",
   "execution_count": 45,
   "id": "9f4ca824",
   "metadata": {
    "scrolled": true
   },
   "outputs": [
    {
     "name": "stderr",
     "output_type": "stream",
     "text": [
      "/var/folders/dk/5xxlbv9n6xngmfm92w8343_40000gp/T/ipykernel_94051/4290619447.py:1: UserWarning: Boolean Series key will be reindexed to match DataFrame index.\n",
      "  bars = tableau_poi[tableau_poi[\"bar\"] == 1][tableau_poi[\"restaurant\"]==0][tableau_poi[\"note\"]>0]\n"
     ]
    }
   ],
   "source": [
    "bars = tableau_poi[tableau_poi[\"bar\"] == 1][tableau_poi[\"restaurant\"]==0][tableau_poi[\"note\"]>0]"
   ]
  },
  {
   "cell_type": "markdown",
   "id": "396a7622",
   "metadata": {},
   "source": [
    "<div class=\"alert alert-block alert-info\">\n",
    "Q3.1.b - Définir une variable <code>restos</code> ne contenant que les lieux qui sont des restaurants, ne sont pas des bars et ont une note attribuée.\n",
    "</div>"
   ]
  },
  {
   "cell_type": "code",
   "execution_count": 46,
   "id": "79d0f8dc",
   "metadata": {},
   "outputs": [
    {
     "name": "stderr",
     "output_type": "stream",
     "text": [
      "/var/folders/dk/5xxlbv9n6xngmfm92w8343_40000gp/T/ipykernel_94051/4196284300.py:1: UserWarning: Boolean Series key will be reindexed to match DataFrame index.\n",
      "  restos = tableau_poi[tableau_poi[\"bar\"]==0][tableau_poi[\"restaurant\"]==1][tableau_poi[\"note\"]>0]\n"
     ]
    }
   ],
   "source": [
    "restos = tableau_poi[tableau_poi[\"bar\"]==0][tableau_poi[\"restaurant\"]==1][tableau_poi[\"note\"]>0]"
   ]
  },
  {
   "cell_type": "markdown",
   "id": "cfdefbbd",
   "metadata": {},
   "source": [
    "<div class=\"alert alert-block alert-info\">\n",
    "Q3.1.c - Définir une variable <code>barestos</code> ne contenant que les lieux qui sont à la fois des restaurants et des bars et ont une note attribuée.\n",
    "</div>"
   ]
  },
  {
   "cell_type": "code",
   "execution_count": 47,
   "id": "1a4d4419",
   "metadata": {},
   "outputs": [
    {
     "name": "stderr",
     "output_type": "stream",
     "text": [
      "/var/folders/dk/5xxlbv9n6xngmfm92w8343_40000gp/T/ipykernel_94051/2754701487.py:1: UserWarning: Boolean Series key will be reindexed to match DataFrame index.\n",
      "  barestos = tableau_poi[tableau_poi[\"bar\"]==1][tableau_poi[\"restaurant\"]==1][tableau_poi[\"note\"]>0]\n"
     ]
    }
   ],
   "source": [
    "barestos = tableau_poi[tableau_poi[\"bar\"]==1][tableau_poi[\"restaurant\"]==1][tableau_poi[\"note\"]>0]"
   ]
  },
  {
   "cell_type": "markdown",
   "id": "available-quarterly",
   "metadata": {},
   "source": [
    "<div class=\"alert alert-block alert-warning\">\n",
    "Comme nous allons utiliser différentes données (bars, restaurants) pour faire des histogrammes et que les limites spatiales (longitudes/latitudes maximales et minimales) ne sont pas forcément les mêmes entre chaque jeu de données, il est nécessaire dans un premier temps de définir ces limites et d'utiliser le paramètre `range` de la fonction ̀`hist2d` pour délimiter la région géographique étudiée en lui passant ces variables.\n",
    "</div>"
   ]
  },
  {
   "cell_type": "markdown",
   "id": "10d30e23",
   "metadata": {},
   "source": [
    "<div class=\"alert alert-block alert-info\">\n",
    "    Q3.2 - Enregistrer dans les variables <code>lomin, lomax, latmin, latmax</code> les longitudes et latitudes minimales/maximales des lieux du tableau <code>tableau_poi</code>.\n",
    "</div>"
   ]
  },
  {
   "cell_type": "code",
   "execution_count": 49,
   "id": "popular-utilization",
   "metadata": {},
   "outputs": [],
   "source": [
    "# longitude\n",
    "lomin = tableau_poi[\"longitude\"].min()\n",
    "lomax = tableau_poi[\"longitude\"].max()\n",
    "\n",
    "# latitude\n",
    "latmin = tableau_poi[\"latitude\"].min()\n",
    "latmax = tableau_poi[\"latitude\"].max()"
   ]
  },
  {
   "cell_type": "markdown",
   "id": "innovative-belief",
   "metadata": {},
   "source": [
    "<div class=\"alert alert-block alert-info\">\n",
    "Q3.3 - Tracer l'histogramme 2D de la répartition des bars en utilisant un nombre de segment de 20. Enregistrer le tableau résultant dans une variable <code>bars_h</code>.\n",
    "    \n",
    "Enregistrer également les bornes des longitudes et latitudes associées à l'histogramme dans les variables <code>long</code> et <code>lat</code>.\n",
    "</div>"
   ]
  },
  {
   "cell_type": "code",
   "execution_count": 68,
   "id": "three-singapore",
   "metadata": {},
   "outputs": [
    {
     "data": {
      "text/plain": [
       "<matplotlib.colorbar.Colorbar at 0x7fb642443cd0>"
      ]
     },
     "execution_count": 68,
     "metadata": {},
     "output_type": "execute_result"
    },
    {
     "data": {
      "image/png": "[encoded data removed]",
      "text/plain": [
       "<Figure size 432x288 with 2 Axes>"
      ]
     },
     "metadata": {
      "needs_background": "light"
     },
     "output_type": "display_data"
    }
   ],
   "source": [
    "bars_h, long, lat, _ = plt.hist2d(bars[\"longitude\"], bars[\"latitude\"], bins=20)\n",
    "plt.colorbar()"
   ]
  },
  {
   "cell_type": "markdown",
   "id": "minor-attendance",
   "metadata": {},
   "source": [
    "<div class=\"alert alert-block alert-info\">\n",
    "    Q3.4 - Le paramètre <code>weights</code> de la fonction <code>hist2d</code> permet de donner un poids à chaque lieu de l'échantillon passé en paramètre : le lieu ne comptera pas pour un dans le décompte, mais pour le poids associé. Il est ainsi possible de construire l'histogramme pondéré par la note de chaque lieu.\n",
    "\n",
    "Enregistrer cet histogramme dans une variable `bars_n`.\n",
    "</div>"
   ]
  },
  {
   "cell_type": "code",
   "execution_count": 71,
   "id": "final-turkey",
   "metadata": {},
   "outputs": [
    {
     "data": {
      "text/plain": [
       "<matplotlib.colorbar.Colorbar at 0x7fb630c29490>"
      ]
     },
     "execution_count": 71,
     "metadata": {},
     "output_type": "execute_result"
    },
    {
     "data": {
      "image/png": "[encoded data removed]",
      "text/plain": [
       "<Figure size 432x288 with 2 Axes>"
      ]
     },
     "metadata": {
      "needs_background": "light"
     },
     "output_type": "display_data"
    }
   ],
   "source": [
    "bars_n = plt.hist2d(bars[\"longitude\"], bars[\"latitude\"], bins=20, weights=bars[\"note\"])[0]\n",
    "plt.colorbar()"
   ]
  },
  {
   "cell_type": "markdown",
   "id": "posted-excellence",
   "metadata": {},
   "source": [
    "<div class=\"alert alert-block alert-info\">\n",
    "En mettant en correspondance les deux histogrammes ainsi construits, on peut calculer la moyenne des notes dans chaque case, ce que fait la ligne suivante :\n",
    "<div>"
   ]
  },
  {
   "cell_type": "code",
   "execution_count": 73,
   "id": "shared-manhattan",
   "metadata": {},
   "outputs": [
    {
     "data": {
      "image/png": "[encoded data removed]",
      "text/plain": [
       "<Figure size 432x288 with 2 Axes>"
      ]
     },
     "metadata": {
      "needs_background": "light"
     },
     "output_type": "display_data"
    }
   ],
   "source": [
    "plt.imshow(bars_n/(bars_h+1e-6),origin='lower',extent=[lomin,lomax,latmin,latmax],aspect=\"auto\")\n",
    "_ = plt.colorbar()"
   ]
  },
  {
   "cell_type": "markdown",
   "id": "promising-disorder",
   "metadata": {},
   "source": [
    "<div class=\"alert alert-block alert-info\">\n",
    "Q3.5 - Faire le même travail sur les restaurants, en enregistrant le résultat dans les variables <code>restos_h</code> et <code>restos_n</code>. Voyez-vous une différence entre les bars et les restaurants ? Entre les différents lieux de Paris ?\n",
    "</div>"
   ]
  },
  {
   "cell_type": "code",
   "execution_count": 74,
   "id": "lucky-greensboro",
   "metadata": {},
   "outputs": [
    {
     "data": {
      "text/plain": [
       "<matplotlib.colorbar.Colorbar at 0x7fb6225b1190>"
      ]
     },
     "execution_count": 74,
     "metadata": {},
     "output_type": "execute_result"
    },
    {
     "data": {
      "image/png": "[encoded data removed]",
      "text/plain": [
       "<Figure size 432x288 with 2 Axes>"
      ]
     },
     "metadata": {
      "needs_background": "light"
     },
     "output_type": "display_data"
    }
   ],
   "source": [
    "restos_h, long, lat, imageBarsHist = plt.hist2d(restos[\"longitude\"], restos[\"latitude\"], bins=20)\n",
    "plt.colorbar()"
   ]
  },
  {
   "cell_type": "code",
   "execution_count": 76,
   "id": "increased-typing",
   "metadata": {},
   "outputs": [
    {
     "data": {
      "text/plain": [
       "<matplotlib.colorbar.Colorbar at 0x7fb600103e50>"
      ]
     },
     "execution_count": 76,
     "metadata": {},
     "output_type": "execute_result"
    },
    {
     "data": {
      "image/png": "[encoded data removed]",
      "text/plain": [
       "<Figure size 432x288 with 2 Axes>"
      ]
     },
     "metadata": {
      "needs_background": "light"
     },
     "output_type": "display_data"
    }
   ],
   "source": [
    "restos_n = plt.hist2d(restos[\"longitude\"], restos[\"latitude\"], bins=20, weights=restos[\"note\"])[0]\n",
    "plt.colorbar()"
   ]
  },
  {
   "cell_type": "code",
   "execution_count": 77,
   "id": "biological-shipping",
   "metadata": {},
   "outputs": [
    {
     "data": {
      "image/png": "[encoded data removed]",
      "text/plain": [
       "<Figure size 432x288 with 2 Axes>"
      ]
     },
     "metadata": {
      "needs_background": "light"
     },
     "output_type": "display_data"
    }
   ],
   "source": [
    "plt.imshow(restos_n/(restos_h+1e-6),origin='lower',extent=[lomin,lomax,latmin,latmax],aspect=\"auto\")\n",
    "_ = plt.colorbar()"
   ]
  },
  {
   "cell_type": "raw",
   "id": "fc10f5c0",
   "metadata": {},
   "source": [
    "#On remarque que les bars sont en moyenne bien noté, plus au centre de Paris\n",
    "#alors que les restaurants on une note moyenne plus uniforme\n",
    "\n",
    "#De plus, la variation des notes des bars est plus élevé que celle des restaurants"
   ]
  },
  {
   "cell_type": "markdown",
   "id": "interpreted-millennium",
   "metadata": {},
   "source": [
    "<div class=\"alert alert-block alert-warning\">\n",
    "On obtient ainsi d'une part pour les restaurants, d'autre part pour les bars,  $20*20=400$ moyennes correspondant aux 400 régions découpées par l'histogramme et $400$ comptage du nombre de restaurants ou bars.\n",
    "</div>"
   ]
  },
  {
   "cell_type": "markdown",
   "id": "15463cbc",
   "metadata": {},
   "source": [
    "<div class=\"alert alert-block alert-info\">\n",
    "3.6 - Comparer les séries ainsi obtenues : le nombre moyen de bars par région est-il le même que celui de restaurants ? Qui à la plus grosse variance ? Tracer les boîtes à moustache correspondantes à l'aide de la fonction <code>np.ravel()</code> d'un tableau 2D qui  permet de transformer le tableau 2D en un tableau 1D. \n",
    "\n",
    "3.7 - Refaire le même travail avec un nombre de segments différents et comparer les résultats en fonction du nombre de segments. Quel est le problème pour les analyses sur les notes moyennes ?\n",
    "</div>"
   ]
  },
  {
   "cell_type": "code",
   "execution_count": 79,
   "id": "strange-cotton",
   "metadata": {
    "scrolled": true
   },
   "outputs": [
    {
     "name": "stdout",
     "output_type": "stream",
     "text": [
      "Nombre moyen de bars par regions 2.8775\n",
      "Nombre moyen de restos par regions 11.92\n"
     ]
    }
   ],
   "source": [
    "#On définis le nombre moyen de bars par regions\n",
    "nbrMoyenBarParRegions = len(bars) / (20.0*20.0)\n",
    "print(\"Nombre moyen de bars par regions\", nbrMoyenBarParRegions)\n",
    "\n",
    "#On définis le nombre moyen de restaurants par régions\n",
    "nbrMoyenRestosParRegions = len(restos) / (20.0*20.0)\n",
    "print(\"Nombre moyen de restos par regions\", nbrMoyenRestosParRegions)"
   ]
  },
  {
   "cell_type": "code",
   "execution_count": 87,
   "id": "proved-tomato",
   "metadata": {},
   "outputs": [
    {
     "data": {
      "text/plain": [
       "Text(0.5, 1.0, 'Boxplot bars - restos')"
      ]
     },
     "execution_count": 87,
     "metadata": {},
     "output_type": "execute_result"
    },
    {
     "data": {
      "image/png": "[encoded data removed]",
      "text/plain": [
       "<Figure size 504x720 with 1 Axes>"
      ]
     },
     "metadata": {
      "needs_background": "light"
     },
     "output_type": "display_data"
    }
   ],
   "source": [
    "plt.figure(figsize=[7,10])\n",
    "plt.boxplot([np.ravel(bars_n),np.ravel(restos_n)],showmeans=True,labels=[\"bars\",\"restos\"])\n",
    "plt.title(\"Boxplot bars - restos\")"
   ]
  },
  {
   "cell_type": "markdown",
   "id": "e08398e5",
   "metadata": {},
   "source": [
    "---"
   ]
  }
 ],
 "metadata": {
  "kernelspec": {
   "display_name": "Python 3 (ipykernel)",
   "language": "python",
   "name": "python3"
  },
  "language_info": {
   "codemirror_mode": {
    "name": "ipython",
    "version": 3
   },
   "file_extension": ".py",
   "mimetype": "text/x-python",
   "name": "python",
   "nbconvert_exporter": "python",
   "pygments_lexer": "ipython3",
   "version": "3.9.7"
  }
 },
 "nbformat": 4,
 "nbformat_minor": 5
}
