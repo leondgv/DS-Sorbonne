{
 "cells": [
  {
   "cell_type": "markdown",
   "id": "25758d42",
   "metadata": {},
   "source": [
    "# Qui êtes-vous ?\n",
    "<div class=\"alert alert-block alert-info\">\n",
    "Écrire ci-dessous le nom, le prénom et le numéro étudiant de chaque membre du binôme :\n",
    "</div>"
   ]
  },
  {
   "cell_type": "code",
   "execution_count": 26,
   "id": "c6d64caf",
   "metadata": {},
   "outputs": [],
   "source": [
    "# Vu Hoang Thuy Duong - 21110221 SCFO"
   ]
  },
  {
   "cell_type": "markdown",
   "id": "tracked-control",
   "metadata": {},
   "source": [
    "# Clustering : k-moyennes"
   ]
  },
  {
   "cell_type": "code",
   "execution_count": 2,
   "id": "beneficial-glossary",
   "metadata": {},
   "outputs": [],
   "source": [
    "import numpy as np\n",
    "import pandas as pd\n",
    "import matplotlib.pyplot as plt\n",
    "%matplotlib inline"
   ]
  },
  {
   "cell_type": "markdown",
   "id": "planned-swiss",
   "metadata": {},
   "source": [
    "## 1 - Données fruitées"
   ]
  },
  {
   "cell_type": "markdown",
   "id": "about-recognition",
   "metadata": {},
   "source": [
    "<div class=\"alert alert-block alert-warning\">\n",
    "Pour illustrer le fonctionnement de l'algorithme des K-moyennes, nous allons utiliser un jeu de données très simple contenu dans <code>fruits.csv</code>. Il décrit le poids, la hauteur et la largeur d'un ensemble de pommes, mandarines, oranges et citrons.\n",
    "</div>\n",
    "    \n",
    "<div class=\"alert alert-block alert-info\">\n",
    "Q1.1 - Charger ce jeu de données dans la variable <code>fruits</code> et visualiser ses premières lignes.\n",
    "</div>"
   ]
  },
  {
   "cell_type": "code",
   "execution_count": 3,
   "id": "92806746",
   "metadata": {},
   "outputs": [],
   "source": [
    "fruits = pd.read_csv(\"fruits.csv\")"
   ]
  },
  {
   "cell_type": "markdown",
   "id": "91fe77eb",
   "metadata": {},
   "source": [
    "<div class=\"alert alert-block alert-info\">\n",
    "Q1.2 - Isoler dans un tableau <code>numpy</code> que vous nommerez <code>fruits_class</code> la classe de chaque fruit (de 1 à 4) et dans un autre tableau <code>fruits_mw</code> le poids et la largeur de chaque fruit. N'oubliez pas d'utiliser la fonction <code>to_numpy()</code> qui permet de convertir une dataframe en tableau numpy.\n",
    "</div>"
   ]
  },
  {
   "cell_type": "code",
   "execution_count": 9,
   "id": "indirect-mileage",
   "metadata": {},
   "outputs": [],
   "source": [
    "fruits_class = fruits[\"fruit_label\"].to_numpy()\n",
    "fruits_mw = fruits[[\"mass\",\"width\"]].to_numpy()"
   ]
  },
  {
   "cell_type": "markdown",
   "id": "increasing-essex",
   "metadata": {},
   "source": [
    "<div class=\"alert alert-block alert-info\">\n",
    "Q1.3 - Tracer avec un scatter plot le jeu de données en 2D à partir du tableau <code>fruits_mw</code> en coloriant différement chaque type de fruit.\n",
    "</div>"
   ]
  },
  {
   "cell_type": "code",
   "execution_count": 15,
   "id": "productive-scanning",
   "metadata": {},
   "outputs": [
    {
     "data": {
      "image/png": "[encoded data removed]",
      "text/plain": [
       "<Figure size 432x288 with 1 Axes>"
      ]
     },
     "metadata": {
      "needs_background": "light"
     },
     "output_type": "display_data"
    }
   ],
   "source": [
    "c = [\"orange\",\"pink\",\"lightskyblue\",\"brown\"]\n",
    "for i in range(len(fruits)):\n",
    "    plt.scatter(fruits_mw[i][0],fruits_mw[i][1],color=c[fruits_class[i]-1])"
   ]
  },
  {
   "cell_type": "markdown",
   "id": "social-longitude",
   "metadata": {},
   "source": [
    "## 2 - Algorithme des K-moyennes : préliminaires"
   ]
  },
  {
   "cell_type": "markdown",
   "id": "unnecessary-johnston",
   "metadata": {},
   "source": [
    "<div class=\"alert alert-block alert-warning\">\n",
    "Deux étapes constituent l'algorithme des K-moyennes : \n",
    "<ul>\n",
    "<li> étant donnés un jeu de données <code>data</code> sous la forme d'un tableau numpy (un exemple par ligne, une dimension par colonne) et un ensemble de centroïdes sous la forme d'un tableau numpy (un centroide par ligne, une dimension par colonne), il faut calculer l'affectation de chaque exemple au centroïde le plus proche. Cette opération sera effectuée par la fonction <code>calcul_affectation(data, centroides)</code> qui retournera un vecteur numpy contenant pour chaque case l'affectation de l'exemple concerné ;</li>\n",
    "<li> étant donnés un jeu de données <code>data</code>, une affectation <code>affectation</code> et un entier <code>k</code>, il faut calculer les barycentres des exemples de chacun des $k$ clusters. Si jamais un cluster est vide (aucun exemple n'a cette affactation), alors un exemple au hasard est tiré  comme nouveau centroïde. </li>\n",
    "</div>"
   ]
  },
  {
   "cell_type": "markdown",
   "id": "labeled-crisis",
   "metadata": {},
   "source": [
    "<div class=\"alert alert-block alert-info\">\n",
    "Exécuter les lignes ci-dessous qui permettent d'engendrer 10 centroïdes en tirant au hasard dans les données.\n",
    "</div>"
   ]
  },
  {
   "cell_type": "code",
   "execution_count": 16,
   "id": "driven-center",
   "metadata": {},
   "outputs": [],
   "source": [
    "np.random.seed(0)\n",
    "centroides = np.zeros((10, fruits_mw.shape[1]))\n",
    "for i in range(10):\n",
    "    centroides[i] = fruits_mw[np.random.randint(len(fruits_mw))]"
   ]
  },
  {
   "cell_type": "markdown",
   "id": "paperback-shield",
   "metadata": {},
   "source": [
    "<div class=\"alert alert-block alert-info\">\n",
    "Q2.1 - Donner la ligne qui permet de calculer la distance au carré entre la première ligne de <code>fruits_mw</code> et tous les centroïdes. Pour cela, il faut d'abord soustraite la première ligne à la matrice des centroïdes, puis élever tous les termes au carré, et ensuite sommer toutes les lignes (à l'aide des opérations <code>np.sum(matrice, axis = 1)</code>. On stockera le résultat dans la variable <code>distance</code>.\n",
    "</div>"
   ]
  },
  {
   "cell_type": "code",
   "execution_count": 18,
   "id": "informational-completion",
   "metadata": {},
   "outputs": [
    {
     "data": {
      "text/plain": [
       "array([   65.21,    17.21,  5189.76,     0.  , 11240.84, 11240.84,\n",
       "        2306.56,   401.  ,   901.  ,  1297.  ])"
      ]
     },
     "execution_count": 18,
     "metadata": {},
     "output_type": "execute_result"
    }
   ],
   "source": [
    "distance = np.sum((fruits_mw[0] - centroides)**2, axis = 1)\n",
    "distance"
   ]
  },
  {
   "cell_type": "markdown",
   "id": "a3e4c577",
   "metadata": {},
   "source": [
    "<div class=\"alert alert-block alert-warning\">\n",
    "Il faut trouver :\n",
    "<code>\n",
    "array([   65.21,    17.21,  5189.76,     0.  , 11240.84, 11240.84, 2306.56,   401.  ,   901.  ,  1297.  ])\n",
    "</code>\n",
    "</div>"
   ]
  },
  {
   "cell_type": "markdown",
   "id": "prompt-tanzania",
   "metadata": {},
   "source": [
    "<div class=\"alert alert-block alert-info\">\n",
    "Q2.2 - Utiliser <code>np.argmin</code> pour trouver le centroïde le plus proche de la première ligne à partir du résultat précédent. On le stockera dans la variable <code>idx</code>.\n",
    "</div>"
   ]
  },
  {
   "cell_type": "code",
   "execution_count": 20,
   "id": "liberal-stage",
   "metadata": {},
   "outputs": [
    {
     "data": {
      "text/plain": [
       "3"
      ]
     },
     "execution_count": 20,
     "metadata": {},
     "output_type": "execute_result"
    }
   ],
   "source": [
    "idx = np.argmin(distance)\n",
    "idx"
   ]
  },
  {
   "cell_type": "markdown",
   "id": "d6fa5c22",
   "metadata": {},
   "source": [
    "<div class=\"alert alert-block alert-warning\">\n",
    "Il faut trouver :\n",
    "<code>\n",
    "3\n",
    "</code>\n",
    "</div>"
   ]
  },
  {
   "cell_type": "markdown",
   "id": "careful-shelter",
   "metadata": {},
   "source": [
    "<div class=\"alert alert-block alert-info\">\n",
    "Exécuter le block suivant qui permet de créer un vecteur d'affectation aléatoire entre 10 clusters pour les exemples du jeu de données. \n",
    "</div>"
   ]
  },
  {
   "cell_type": "code",
   "execution_count": 21,
   "id": "vulnerable-arbitration",
   "metadata": {},
   "outputs": [
    {
     "data": {
      "text/plain": [
       "array([5, 0, 3, 3, 7, 9, 3, 5, 2, 4, 7, 6, 8, 8, 1, 6, 7, 7, 8, 1, 5, 9,\n",
       "       8, 9, 4, 3, 0, 3, 5, 0, 2, 3, 8, 1, 3, 3, 3, 7, 0, 1, 9, 9, 0, 4,\n",
       "       7, 3, 2, 7, 2, 0, 0, 4, 5, 5, 6, 8, 4, 1, 4])"
      ]
     },
     "execution_count": 21,
     "metadata": {},
     "output_type": "execute_result"
    }
   ],
   "source": [
    "np.random.seed(0)\n",
    "affectation = np.random.randint(0, 10, len(fruits_mw))\n",
    "affectation"
   ]
  },
  {
   "cell_type": "markdown",
   "id": "offshore-resort",
   "metadata": {},
   "source": [
    "<div class=\"alert alert-block alert-info\">\n",
    "Q2.3 - Donner la ligne qui permet de calculer  le barycentre des exemples affecté au cluster $0$. Utiliser <code>np.mean(matrice, axis = 0)</code> pour faire la moyenne selon les colonnes.\n",
    "</div>"
   ]
  },
  {
   "cell_type": "code",
   "execution_count": 25,
   "id": "engaging-rendering",
   "metadata": {},
   "outputs": [
    {
     "data": {
      "text/plain": [
       "array([182.28571429,   7.25714286])"
      ]
     },
     "execution_count": 25,
     "metadata": {},
     "output_type": "execute_result"
    }
   ],
   "source": [
    "barycentre = np.mean(fruits_mw[affectation==0],axis=0)\n",
    "barycentre"
   ]
  },
  {
   "cell_type": "markdown",
   "id": "528cb309",
   "metadata": {},
   "source": [
    "<div class=\"alert alert-block alert-warning\">\n",
    "Il faut trouver :\n",
    "<code>\n",
    "array([182.28571429,   7.25714286])\n",
    "</code>\n",
    "</div>"
   ]
  },
  {
   "cell_type": "markdown",
   "id": "bound-float",
   "metadata": {},
   "source": [
    "## Algorithme K-moyennes : fonctions de l'algorithme"
   ]
  },
  {
   "cell_type": "markdown",
   "id": "pharmaceutical-baltimore",
   "metadata": {},
   "source": [
    "<div class=\"alert alert-block alert-info\">\n",
    "Q3.1 - Compléter la fonction suivante qui calcule l'affectation en utilisant ce que vous avez fait précédement.\n",
    "</div>"
   ]
  },
  {
   "cell_type": "code",
   "execution_count": 30,
   "id": "opening-testimony",
   "metadata": {},
   "outputs": [],
   "source": [
    "def calcul_affectation(data,centroides):\n",
    "    # Création du vecteur d'affectation \n",
    "    affectation = np.zeros(len(data))\n",
    "    # On parcourt tous les exemples\n",
    "    for i in range(len(data)):\n",
    "        ## Compléter ici pour trouver le centroide le plus proche du i-ème exemple\n",
    "        affectation[i] = np.sum((fruits_mw[i] - centroides)**2, axis = 1).argmin()\n",
    "        \n",
    "    return affectation"
   ]
  },
  {
   "cell_type": "markdown",
   "id": "detected-isaac",
   "metadata": {},
   "source": [
    "<div class=\"alert alert-block alert-info\">\n",
    "Q3.2 - Compléter la fonction suivante qui calcule le barycentre en utilisant ce que vous avez fait précédement.\n",
    "</div>"
   ]
  },
  {
   "cell_type": "code",
   "execution_count": 31,
   "id": "auburn-advocate",
   "metadata": {},
   "outputs": [],
   "source": [
    "def calcul_barycentres(data, affectation, k):\n",
    "    # Création de la matrice des centroides\n",
    "    centroides = np.zeros((k, data.shape[1]))\n",
    "    # On parcourt tous les clusters\n",
    "    for i in range(k):\n",
    "        # On vérifie que le cluster n'est pas vide\n",
    "        if len(data[affectation == i]) > 0:\n",
    "            ## Compléter ici pour calculer le barycentre du cluster i\n",
    "            \n",
    "            centroides[i,:] = np.mean(data[affectation == i], axis = 0)\n",
    "                     \n",
    "        else:\n",
    "            # si le cluster est vide on tire un exemple au hasard\n",
    "            centroides[i, :] = data[np.random.randint(len(data))]\n",
    "    return centroides"
   ]
  },
  {
   "cell_type": "markdown",
   "id": "possible-religious",
   "metadata": {},
   "source": [
    "<div class=\"alert alert-block alert-info\">\n",
    "Exécuter le block ci-dessous qui contient deux versions de la fonction qui calcule la dispersion intra-cluster.\n",
    "</div>"
   ]
  },
  {
   "cell_type": "code",
   "execution_count": 32,
   "id": "vital-corporation",
   "metadata": {},
   "outputs": [],
   "source": [
    "def dispersion_intra(data,affectation,centroides):\n",
    "    # initialisation de la dispersion à 0\n",
    "    d = 0.\n",
    "    # on parcourt tous les clusters\n",
    "    for i in range(len(centroides)):\n",
    "        d += ((data[affectation==i] - centroides[i]) ** 2).sum()\n",
    "    return d\n",
    "\n",
    "# Autre version plus compacte\n",
    "def dispersion_intra(data,affectation,centroides):\n",
    "    return np.sum([((data[affectation==i] - centroides[i]) ** 2).sum() for i in range(len(centroides))])"
   ]
  },
  {
   "cell_type": "markdown",
   "id": "capital-pierce",
   "metadata": {},
   "source": [
    "<div class=\"alert alert-block alert-info\">\n",
    "Exécuter le block ci-dessous qui définit la fonction principale qui calcule les K-moyennes pour des données <code>data</code>, un nombre <code>k</code> de clusters et un nombre maximal de <code>niter</code> itérations. Si la dispersion entre deux itérations ne change pas, la boucle est interrompue. La fonction retourne le vecteur d'affectation et les centroïdes.\n",
    "</div>"
   ]
  },
  {
   "cell_type": "code",
   "execution_count": 33,
   "id": "broad-render",
   "metadata": {},
   "outputs": [],
   "source": [
    "def kmeans(data,k,niter=200):\n",
    "    ## Initialisation des centroides\n",
    "    centroides = np.zeros((k, data.shape[1]))\n",
    "    dispersion = -1\n",
    "    for i in range(k):\n",
    "        centroides[i] = data[np.random.randint(len(data))]\n",
    "    ## Boucle principale\n",
    "    for i in range(niter):\n",
    "        affectation = calcul_affectation(data, centroides)\n",
    "        centroides = calcul_barycentres(data, affectation, k)\n",
    "        old_dispersion = dispersion\n",
    "        dispersion = dispersion_intra(data, affectation, centroides)\n",
    "        if (old_dispersion == dispersion): \n",
    "            break\n",
    "        print(i, dispersion)\n",
    "    return affectation, centroides"
   ]
  },
  {
   "cell_type": "markdown",
   "id": "macro-contamination",
   "metadata": {},
   "source": [
    "<div class=\"alert alert-block alert-info\">\n",
    "Q3.3 - Tester l'algorithme sur le jeu de données avec $k=5$.\n",
    "</div>"
   ]
  },
  {
   "cell_type": "code",
   "execution_count": 34,
   "id": "interesting-grass",
   "metadata": {},
   "outputs": [
    {
     "name": "stdout",
     "output_type": "stream",
     "text": [
      "0 63349.17681253713\n",
      "1 31649.882214285713\n",
      "2 7640.854883645767\n",
      "3 7308.432726045884\n",
      "4 7223.817667832168\n"
     ]
    },
    {
     "data": {
      "text/plain": [
       "array([[195.27272727,   7.55454545],\n",
       "       [164.6       ,   7.315     ],\n",
       "       [146.        ,   6.92307692],\n",
       "       [353.33333333,   9.26666667],\n",
       "       [102.16666667,   6.        ]])"
      ]
     },
     "execution_count": 34,
     "metadata": {},
     "output_type": "execute_result"
    }
   ],
   "source": [
    "kmeansReturnAffectation, kmeansReturnCentoides = kmeans(fruits_mw, 5)\n",
    "kmeansReturnCentoides"
   ]
  },
  {
   "cell_type": "markdown",
   "id": "369b750d",
   "metadata": {},
   "source": [
    "<div class=\"alert alert-block alert-info\">\n",
    "Q3.4 - Tracer un scatter plot en coloriant les clusters. Tracer également les centroïdes.\n",
    "</div>"
   ]
  },
  {
   "cell_type": "code",
   "execution_count": 40,
   "id": "crucial-impact",
   "metadata": {},
   "outputs": [
    {
     "data": {
      "image/png": "[encoded data removed]",
      "text/plain": [
       "<Figure size 432x288 with 1 Axes>"
      ]
     },
     "metadata": {
      "needs_background": "light"
     },
     "output_type": "display_data"
    }
   ],
   "source": [
    "colors = [\"pink\", \"orange\", \"lightskyblue\", \"yellow\", \"blue\"]\n",
    "\n",
    "for i in range(len(fruits_mw)):\n",
    "    \n",
    "    plt.scatter(fruits_mw[i][0], fruits_mw[i][1], c=colors[int(kmeansReturnAffectation[i]) - 1],s=20)\n",
    "\n",
    "for j in range(len(kmeansReturnCentoides)):\n",
    "    \n",
    "    plt.scatter(kmeansReturnCentoides[j][0], kmeansReturnCentoides[j][1], c=\"black\", s=50.0)"
   ]
  },
  {
   "cell_type": "markdown",
   "id": "flush-adams",
   "metadata": {},
   "source": [
    "<div class=\"alert alert-block alert-info\">\n",
    "Q3.5 - Refaire le même graphique pour différentes valeurs de $k$ (2,3,10 par exemple). Que remarquez vous pour la dispersion intra-cluster lorsque $k$ augmente ?\n",
    "</div>"
   ]
  },
  {
   "cell_type": "code",
   "execution_count": 55,
   "id": "wireless-wheel",
   "metadata": {},
   "outputs": [],
   "source": [
    "def plotKMeans(data, k):\n",
    "    \n",
    "    kmeansReturnAffectation, kmeansReturnCentoides = kmeans(data, k)\n",
    "    \n",
    "    colors = [\"green\", \"red\", \"orange\", \"yellow\", \"pink\", \"lightskyblue\", \"purple\", \"magenta\", \"cyan\", \"#c78fc3\"]\n",
    "\n",
    "    for i in range(len(fruits_mw)):\n",
    "\n",
    "        plt.scatter(fruits_mw[i][0], fruits_mw[i][1], c=colors[int(kmeansReturnAffectation[i]) - 1],s=20)\n",
    "\n",
    "    for j in range(len(kmeansReturnCentoides)):\n",
    "\n",
    "        plt.scatter(kmeansReturnCentoides[j][0], kmeansReturnCentoides[j][1], c=\"black\", s=50.0)\n",
    "    plt.title(\"FIGURE\")"
   ]
  },
  {
   "cell_type": "code",
   "execution_count": 56,
   "id": "abandoned-sucking",
   "metadata": {},
   "outputs": [
    {
     "name": "stdout",
     "output_type": "stream",
     "text": [
      "0 116297.7662857143\n",
      "1 114044.36140056021\n",
      "2 113378.31387533873\n"
     ]
    },
    {
     "data": {
      "image/png": "[encoded data removed]",
      "text/plain": [
       "<Figure size 432x288 with 1 Axes>"
      ]
     },
     "metadata": {
      "needs_background": "light"
     },
     "output_type": "display_data"
    }
   ],
   "source": [
    "plotKMeans(fruits_mw,2)"
   ]
  },
  {
   "cell_type": "code",
   "execution_count": 57,
   "id": "0d10e354",
   "metadata": {},
   "outputs": [
    {
     "name": "stdout",
     "output_type": "stream",
     "text": [
      "0 86459.46546031746\n",
      "1 63995.39133116882\n",
      "2 50336.241165413536\n",
      "3 20605.14\n"
     ]
    },
    {
     "data": {
      "image/png": "[encoded data removed]",
      "text/plain": [
       "<Figure size 432x288 with 1 Axes>"
      ]
     },
     "metadata": {
      "needs_background": "light"
     },
     "output_type": "display_data"
    }
   ],
   "source": [
    "plotKMeans(fruits_mw,3)"
   ]
  },
  {
   "cell_type": "code",
   "execution_count": 58,
   "id": "50768bec",
   "metadata": {},
   "outputs": [
    {
     "name": "stdout",
     "output_type": "stream",
     "text": [
      "0 3831.8235873015874\n",
      "1 1042.8791746031748\n",
      "2 946.5035580808081\n",
      "3 828.2601666666666\n",
      "4 761.0037023809524\n"
     ]
    },
    {
     "data": {
      "image/png": "[encoded data removed]",
      "text/plain": [
       "<Figure size 432x288 with 1 Axes>"
      ]
     },
     "metadata": {
      "needs_background": "light"
     },
     "output_type": "display_data"
    }
   ],
   "source": [
    "plotKMeans(fruits_mw,10)"
   ]
  },
  {
   "cell_type": "markdown",
   "id": "included-elizabeth",
   "metadata": {},
   "source": [
    "## 4 - Pureté des cluster\n",
    "<div class=\"alert alert-block alert-warning\">\n",
    "Dans notre cas de figure, on dispose d'une supervision : on connait la vraie classe des fruits. On peut évaluer la pertinence de notre clustering grâce à cette information de plusieurs manières. Par exemple, la pureté d'un clustering consiste à regarder dans chaque cluster le nombre d'exemples bien classés, i.e. qui ont la même classe que la classe assignée à ce cluster (la classe majoritaire), à sommer sur la totalité de cluster ces nombres et à divisier par le nombre d'exemples, ce qui nous donne le pourcentage d'exemples bien classés. La fonction ci-dessous implémente ce calcul.\n",
    "</div>"
   ]
  },
  {
   "cell_type": "markdown",
   "id": "21c30c88",
   "metadata": {},
   "source": [
    "<div class=\"alert alert-block alert-info\">\n",
    "Exécuter le block ci-dessous qui définit la fonction qui implémente ce calcul.\n",
    "</div>"
   ]
  },
  {
   "cell_type": "code",
   "execution_count": 59,
   "id": "final-reviewer",
   "metadata": {},
   "outputs": [],
   "source": [
    "def purete(labels,affectation):\n",
    "    clusters = np.unique(affectation)\n",
    "    list_labels = np.unique(labels)    \n",
    "    res = np.zeros((len(clusters), len(list_labels)))\n",
    "    for i in range(len(clusters)):\n",
    "        for j in range(len(list_labels)):\n",
    "            res[i,j] = (affectation[labels == j] == clusters[i]).sum()\n",
    "    correct = np.max(res, axis = 1)\n",
    "    return correct.sum() / len(labels)"
   ]
  },
  {
   "cell_type": "markdown",
   "id": "seeing-fruit",
   "metadata": {},
   "source": [
    "<div class=\"alert alert-block alert-info\">\n",
    "Q4.1 - Tracer les courbes de la pureté et de la dispersion en fonction de $k$. Pour chaque valeur de $k$, on exécutera la fonction <code>kmeans</code> et on ajoutera la dispersion dans une liste <code>disp_k</code> ainsi que la pureté dans une liste <code>pure_k</code>. Analyser les résultats.\n",
    "</div>"
   ]
  },
  {
   "cell_type": "markdown",
   "id": "6b9149e9",
   "metadata": {},
   "source": [
    "---"
   ]
  }
 ],
 "metadata": {
  "kernelspec": {
   "display_name": "Python 3 (ipykernel)",
   "language": "python",
   "name": "python3"
  },
  "language_info": {
   "codemirror_mode": {
    "name": "ipython",
    "version": 3
   },
   "file_extension": ".py",
   "mimetype": "text/x-python",
   "name": "python",
   "nbconvert_exporter": "python",
   "pygments_lexer": "ipython3",
   "version": "3.9.7"
  }
 },
 "nbformat": 4,
 "nbformat_minor": 5
}
