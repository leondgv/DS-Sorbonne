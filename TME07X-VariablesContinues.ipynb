{
 "cells": [
  {
   "cell_type": "markdown",
   "id": "25758d42",
   "metadata": {},
   "source": [
    "# Qui êtes-vous ?\n",
    "<div class=\"alert alert-block alert-info\">\n",
    "Écrire ci-dessous le nom, le prénom et le numéro étudiant de chaque membre du binôme :\n",
    "</div>"
   ]
  },
  {
   "cell_type": "code",
   "execution_count": 1,
   "id": "c6d64caf",
   "metadata": {},
   "outputs": [],
   "source": [
    "# Vu Hoang Thuy Duong - 21110221 SCFO"
   ]
  },
  {
   "cell_type": "markdown",
   "id": "tracked-control",
   "metadata": {},
   "source": [
    "# TME 07X - Variables continues"
   ]
  },
  {
   "cell_type": "code",
   "execution_count": 2,
   "id": "beneficial-glossary",
   "metadata": {},
   "outputs": [],
   "source": [
    "import numpy as np\n",
    "import pandas as pd\n",
    "import matplotlib.pyplot as plt\n",
    "%matplotlib inline"
   ]
  },
  {
   "cell_type": "markdown",
   "id": "0411a51e",
   "metadata": {},
   "source": [
    "## 1 - Loi uniforme"
   ]
  },
  {
   "cell_type": "markdown",
   "id": "a01d3424",
   "metadata": {},
   "source": [
    "<div class=\"alert alert-block alert-warning\">\n",
    "    La loi uniforme sur l'intervalle $[0, 1]$ est la loi de la variable\n",
    "    aléatoire $X$ réelle à valeurs dans $[0, 1]$ telle que\n",
    "    $$\n",
    "    f(x) = 1\\text{ si $x \\in [0, 1]$ et 0 sinon}.\n",
    "    $$\n",
    "    On note alors $X \\sim \\mathcal{U}([0, 1])$.\n",
    "</div>"
   ]
  },
  {
   "cell_type": "markdown",
   "id": "0316d350",
   "metadata": {},
   "source": [
    "<div class=\"alert alert-block alert-info\">\n",
    "Q1.1 - Écrire la définition de la fonction <code>loi_uniforme</code> qui étant donné une valeur <code>x</code>, renvoie la valeur de la fonction densité de la loi uniforme en <code>x</code>.\n",
    "</div>"
   ]
  },
  {
   "cell_type": "code",
   "execution_count": 3,
   "id": "431f80e7",
   "metadata": {},
   "outputs": [],
   "source": [
    "def loi_uniforme(x):\n",
    "    return 1 if 0<=x<=1 else 0"
   ]
  },
  {
   "cell_type": "markdown",
   "id": "c40af40e",
   "metadata": {},
   "source": [
    "<div class=\"alert alert-block alert-warning\">\n",
    "    On peut utiliser la fonction <code>np.arange(xmin, xmax, delta)</code> pour générer un vecteur de valeurs comprises entre <code>xmin</code> inclus et <code>xmax</code> exclu avec un espacement égal à <code>delta</code> entre deux valeurs successives.\n",
    "</div>"
   ]
  },
  {
   "cell_type": "markdown",
   "id": "7854395d",
   "metadata": {},
   "source": [
    "<div class=\"alert alert-block alert-info\">\n",
    "Exécuter le bloc ci-dessous pour obtenir les valeurs entre 0 et 1 espacées de 0.1.\n",
    "</div>"
   ]
  },
  {
   "cell_type": "code",
   "execution_count": 4,
   "id": "52778aa3",
   "metadata": {},
   "outputs": [
    {
     "data": {
      "text/plain": [
       "array([0. , 0.1, 0.2, 0.3, 0.4, 0.5, 0.6, 0.7, 0.8, 0.9])"
      ]
     },
     "execution_count": 4,
     "metadata": {},
     "output_type": "execute_result"
    }
   ],
   "source": [
    "np.arange(0, 1, .1)"
   ]
  },
  {
   "cell_type": "markdown",
   "id": "fef0a4a7",
   "metadata": {},
   "source": [
    "<div class=\"alert alert-block alert-info\">\n",
    "    Q1.2 - Dessiner une courbe qui donne l'allure de la fonction (densité) <code>loi_uniforme</code> entre -1 et 2.\n",
    "</div>"
   ]
  },
  {
   "cell_type": "code",
   "execution_count": 5,
   "id": "2911d2c2",
   "metadata": {},
   "outputs": [
    {
     "data": {
      "text/plain": [
       "[<matplotlib.lines.Line2D at 0x7f96f112b430>]"
      ]
     },
     "execution_count": 5,
     "metadata": {},
     "output_type": "execute_result"
    },
    {
     "data": {
      "image/png": "[encoded data removed]",
      "text/plain": [
       "<Figure size 432x288 with 1 Axes>"
      ]
     },
     "metadata": {
      "needs_background": "light"
     },
     "output_type": "display_data"
    }
   ],
   "source": [
    "tmp = []\n",
    "i = -1\n",
    "while i<=2:\n",
    "    tmp.append(loi_uniforme(i))\n",
    "    \n",
    "    i+=1\n",
    "plt.plot(tmp,color=\"blue\")"
   ]
  },
  {
   "cell_type": "markdown",
   "id": "74daf97a",
   "metadata": {},
   "source": [
    "<div class=\"alert alert-block alert-warning\">\n",
    "Pour effectuer un tirage aléatoire selon la loi $\\mathcal{U}([0, 1])$, on utilise la fonction <code>np.random.rand()</code>.\n",
    "</div>"
   ]
  },
  {
   "cell_type": "markdown",
   "id": "301f713e",
   "metadata": {},
   "source": [
    "<div class=\"alert alert-block alert-info\">\n",
    "Q1.3 - Écrire la définition de la fonction <code>tirage_uniforme</code> qui étant donné une valeur <code>n</code>, renvoie un vecteur de <code>n</code> tirages selon la loi uniforme $\\mathcal{U}([0, 1])$.\n",
    "</div>"
   ]
  },
  {
   "cell_type": "code",
   "execution_count": 6,
   "id": "5ca005ed",
   "metadata": {},
   "outputs": [],
   "source": [
    "def tirage_uniforme(n):\n",
    "    lr = []\n",
    "    for i in range(n):\n",
    "        lr.append(np.random.rand())\n",
    "    return lr"
   ]
  },
  {
   "cell_type": "markdown",
   "id": "3d8a36fb",
   "metadata": {},
   "source": [
    "<div class=\"alert alert-block alert-info\">\n",
    "    Q1.4 - Tester la fonction <code>tirage_uniforme</code> en tirant un vecteur de taille 20.\n",
    "</div>"
   ]
  },
  {
   "cell_type": "code",
   "execution_count": 7,
   "id": "309e32e3",
   "metadata": {},
   "outputs": [
    {
     "data": {
      "text/plain": [
       "[0.15251227239659237,\n",
       " 0.07281329071084819,\n",
       " 0.5436966717708279,\n",
       " 0.2900700658736468,\n",
       " 0.4983367512138125,\n",
       " 0.34947599361440884,\n",
       " 0.7181697534248938,\n",
       " 0.29610172017687064,\n",
       " 0.4923866605373016,\n",
       " 0.5644933373405228,\n",
       " 0.16232764095788066,\n",
       " 0.052296953964574344,\n",
       " 0.226281054541575,\n",
       " 0.3017099783766539,\n",
       " 0.4958234536845051,\n",
       " 0.2548826123158676,\n",
       " 0.892370482583485,\n",
       " 0.11953777712987201,\n",
       " 0.5976520126220479,\n",
       " 0.7123373959479907]"
      ]
     },
     "execution_count": 7,
     "metadata": {},
     "output_type": "execute_result"
    }
   ],
   "source": [
    "tirage_uniforme(20)"
   ]
  },
  {
   "cell_type": "markdown",
   "id": "c8cd5164",
   "metadata": {},
   "source": [
    "<div class=\"alert alert-block alert-warning\">\n",
    "    La fonction <code>plt.hist(data, bins = n)</code> permet de tracer l'histogramme des données <code>data</code> passées en entrée, en discrétisant l'intervalle d'entrée en <code>n</code> segments.\n",
    "</div>"
   ]
  },
  {
   "cell_type": "markdown",
   "id": "7112d883",
   "metadata": {},
   "source": [
    "<div class=\"alert alert-block alert-info\">\n",
    "Q1.5 - Dessiner un histogramme à partir de 1000 tirages selon la loi uniforme.\n",
    "</div>"
   ]
  },
  {
   "cell_type": "code",
   "execution_count": 8,
   "id": "634911f2",
   "metadata": {},
   "outputs": [
    {
     "data": {
      "text/plain": [
       "Text(0.5, 1.0, 'Histogramme à partir de 1000 tirages, en 100 segments selon la loi uniforme')"
      ]
     },
     "execution_count": 8,
     "metadata": {},
     "output_type": "execute_result"
    },
    {
     "data": {
      "image/png": "[encoded data removed]",
      "text/plain": [
       "<Figure size 432x288 with 1 Axes>"
      ]
     },
     "metadata": {
      "needs_background": "light"
     },
     "output_type": "display_data"
    }
   ],
   "source": [
    "plt.hist(tirage_uniforme(1000),bins=100,color=\"orange\")\n",
    "plt.title(\"Histogramme à partir de 1000 tirages, en 100 segments selon la loi uniforme\")"
   ]
  },
  {
   "cell_type": "markdown",
   "id": "f5670b91",
   "metadata": {},
   "source": [
    "<div class=\"alert alert-block alert-info\">\n",
    "Q1.6 - Quel rapport voyez-vous entre le graphique de la question 1.2 et celui de la question 1.5 ?\n",
    "</div>"
   ]
  },
  {
   "cell_type": "code",
   "execution_count": 9,
   "id": "917a5c59",
   "metadata": {},
   "outputs": [],
   "source": [
    "# Tous les tirages sont compris resp. entre 0 et 1"
   ]
  },
  {
   "cell_type": "markdown",
   "id": "72d8b036",
   "metadata": {},
   "source": [
    "## 2 - Loi exponentielle"
   ]
  },
  {
   "cell_type": "markdown",
   "id": "d911dbd0",
   "metadata": {},
   "source": [
    "<div class=\"alert alert-block alert-warning\">\n",
    "La densité de la loi exponentielle $\\mathcal{E}(\\lambda)$ est définie sur $[0, +\\infty]$ par :\n",
    "    $$\n",
    "    f(x) = \\lambda \\exp(-\\lambda x).\n",
    "    $$\n",
    "</div>"
   ]
  },
  {
   "cell_type": "markdown",
   "id": "fc966aff",
   "metadata": {},
   "source": [
    "<div class=\"alert alert-block alert-info\">\n",
    "Q2.1 - Écrire la définition de la fonction <code>loi_exponentielle</code> qui étant donné une valeur <code>x</code> et la valeur <code>lbda</code> (du paramètre $\\lambda$), renvoie la valeur en <code>x</code>de la fonction densité de la loi exponentielle de paramètre <code>lbda</code>.\n",
    "</div>"
   ]
  },
  {
   "cell_type": "code",
   "execution_count": 10,
   "id": "3dd440a8",
   "metadata": {},
   "outputs": [],
   "source": [
    "def loi_exponentielle(x,lbda):\n",
    "    return lbda*np.exp(-lbda*x)"
   ]
  },
  {
   "cell_type": "markdown",
   "id": "9b7d58be",
   "metadata": {},
   "source": [
    "<div class=\"alert alert-block alert-info\">\n",
    "Q2.2 - Dessiner une courbe qui donne l'allure de la fonction <code>loi_exponentielle</code> entre 0 et 5 pour un paramètre <code>lbda</code> égal à 2.\n",
    "</div>"
   ]
  },
  {
   "cell_type": "code",
   "execution_count": 11,
   "id": "5dff2de5",
   "metadata": {},
   "outputs": [
    {
     "data": {
      "image/png": "[encoded data removed]",
      "text/plain": [
       "<Figure size 432x288 with 1 Axes>"
      ]
     },
     "metadata": {
      "needs_background": "light"
     },
     "output_type": "display_data"
    }
   ],
   "source": [
    "_ = plt.plot(np.arange(0, 5, .01), np.array([loi_exponentielle(x, 2) for x in np.arange(0, 5, .01)]),color=\"orange\")\n",
    "plt.grid()"
   ]
  },
  {
   "cell_type": "markdown",
   "id": "0a0157db",
   "metadata": {},
   "source": [
    "<div class=\"alert alert-block alert-warning\">\n",
    "On a vu en cours (méthode de la fonction inverse) que si $U \\sim \\mathcal{U}([0, 1])$, alors\n",
    "    $$\n",
    "    X = -\\log(1-U)/\\lambda\n",
    "    $$\n",
    "    suit une loi exponentielle $\\mathcal{E}(\\lambda)$.\n",
    "\n",
    "</div>"
   ]
  },
  {
   "cell_type": "markdown",
   "id": "181f8fa0",
   "metadata": {},
   "source": [
    "<div class=\"alert alert-block alert-info\">\n",
    "Q2.3 - Écrire la définition de la fonction <code>tirage_exponentielle</code> qui étant donné une valeur <code>n</code> et le paramètre <code>lbda</code>, renvoie un vecteur de <code>n</code> tirages selon la loi exponentielle $\\mathcal{E}(\\lambda)$.\n",
    "</div>"
   ]
  },
  {
   "cell_type": "code",
   "execution_count": 12,
   "id": "b5fb1f5f",
   "metadata": {},
   "outputs": [],
   "source": [
    "def tirage_exponentielle(n,lbda):\n",
    "    lr = []\n",
    "    tmp = tirage_uniforme(n)\n",
    "    \n",
    "    for i in range(n):\n",
    "        lr.append(-np.log(1 - tmp[i])/lbda)\n",
    "    return lr"
   ]
  },
  {
   "cell_type": "markdown",
   "id": "fbe03284",
   "metadata": {},
   "source": [
    "<div class=\"alert alert-block alert-info\">\n",
    "Q2.4 - Dessiner un histogramme à partir de 1000 tirages selon la loi exponentielle de paramètre 2.\n",
    "</div>"
   ]
  },
  {
   "cell_type": "code",
   "execution_count": 13,
   "id": "f7dc48ce",
   "metadata": {},
   "outputs": [
    {
     "data": {
      "image/png": "[encoded data removed]",
      "text/plain": [
       "<Figure size 432x288 with 1 Axes>"
      ]
     },
     "metadata": {
      "needs_background": "light"
     },
     "output_type": "display_data"
    }
   ],
   "source": [
    "_ = plt.hist(tirage_exponentielle(1000, 2), bins = 10,color=\"orange\")"
   ]
  },
  {
   "cell_type": "markdown",
   "id": "65302640",
   "metadata": {},
   "source": [
    "<div class=\"alert alert-block alert-info\">\n",
    "Q2.5 - Quel rapport voyez-vous entre le graphique de la question 2.2 et celui de la question 2.5 ?\n",
    "</div>"
   ]
  },
  {
   "cell_type": "code",
   "execution_count": 14,
   "id": "225096f3",
   "metadata": {},
   "outputs": [],
   "source": [
    "# Ces 2 graphes prennent la même forme"
   ]
  },
  {
   "cell_type": "markdown",
   "id": "3c13a728",
   "metadata": {},
   "source": [
    "## 3 - Vraisemblance et loi exponentielle"
   ]
  },
  {
   "cell_type": "markdown",
   "id": "876e016c",
   "metadata": {},
   "source": [
    "<div class=\"alert alert-block alert-warning\">\n",
    "La loi exponentielle peut servir (entre autres) à caractériser la durée de vie de composants électroniques.\n",
    "</div>"
   ]
  },
  {
   "cell_type": "markdown",
   "id": "ab009b79",
   "metadata": {},
   "source": [
    "<div class=\"alert alert-block alert-info\">\n",
    "    Exécuter le bloc ci-dessous pour définir la variable <code>durees</code> contenant un vecteur d'observations de la durée de vie (en années) de 100 appareils éléctroniques de même marque et de même modèle.\n",
    "</div>"
   ]
  },
  {
   "cell_type": "code",
   "execution_count": 15,
   "id": "e669019f",
   "metadata": {},
   "outputs": [],
   "source": [
    "durees = np.array([ 1, 13,  1,  4,  4, 10,  2,  5,  1,  4,  4,  4,  5,  1,  9,  1, 11,\n",
    "                    4,  5,  5,  2,  2,  2,  6,  4, 16,  8,  1,  6, 13,  3,  4,  7,  1,\n",
    "                    2,  1,  5,  9,  1,  2,  1,  2,  1,  9,  3,  1,  8,  4,  7,  1,  1,\n",
    "                    1,  2,  3,  2,  8,  3, 15,  5,  1,  5,  2,  2,  2,  1,  3,  8, 11,\n",
    "                    8, 13,  1,  5,  4,  1,  3,  8,  2,  1,  3,  4,  9,  2,  1,  2,  6,\n",
    "                    2,  2,  1,  1,  1,  5,  2,  4,  3,  2,  8,  6,  6,  3,  3])"
   ]
  },
  {
   "cell_type": "markdown",
   "id": "a2ff8eb9",
   "metadata": {},
   "source": [
    "<div class=\"alert alert-block alert-info\">\n",
    "Q3.1 - Dessiner un histogramme de ces observations.\n",
    "</div>"
   ]
  },
  {
   "cell_type": "code",
   "execution_count": 16,
   "id": "80c1c38e",
   "metadata": {},
   "outputs": [
    {
     "data": {
      "text/plain": [
       "(array([43., 10., 21.,  5.,  9.,  4.,  3.,  0.,  3.,  2.]),\n",
       " array([ 1. ,  2.5,  4. ,  5.5,  7. ,  8.5, 10. , 11.5, 13. , 14.5, 16. ]),\n",
       " <BarContainer object of 10 artists>)"
      ]
     },
     "execution_count": 16,
     "metadata": {},
     "output_type": "execute_result"
    },
    {
     "data": {
      "image/png": "[encoded data removed]",
      "text/plain": [
       "<Figure size 432x288 with 1 Axes>"
      ]
     },
     "metadata": {
      "needs_background": "light"
     },
     "output_type": "display_data"
    }
   ],
   "source": [
    "plt.hist(durees,color=\"lightskyblue\",bins=10)"
   ]
  },
  {
   "cell_type": "markdown",
   "id": "378bdb15",
   "metadata": {},
   "source": [
    "<div class=\"alert alert-block alert-info\">\n",
    "Q3.2 - Écrire une fonction <code>vraisemblance</code> qui, étant donné n'importe quel vecteur d'observations <code>obs</code> et n'importe quelle densité de probabilité <code>f</code> (ne dépendant que de la variable $x$), renvoie la vraisemblance de ces observations.\n",
    "</div>"
   ]
  },
  {
   "cell_type": "code",
   "execution_count": 22,
   "id": "46f3b289",
   "metadata": {},
   "outputs": [],
   "source": [
    "def vraisemblance(obs,f,lbda):\n",
    "    \n",
    "    return np.prod(f(obs,lbda))"
   ]
  },
  {
   "cell_type": "markdown",
   "id": "80b2f997",
   "metadata": {},
   "source": [
    "<div class=\"alert alert-block alert-info\">\n",
    "    Q3.3 - Calculer la vraisemblance que les observations <code>durees</code> aient été générées par une loi exponentielle de paramètre $\\lambda = 1$.\n",
    "</div>"
   ]
  },
  {
   "cell_type": "code",
   "execution_count": 23,
   "id": "4805831d",
   "metadata": {},
   "outputs": [
    {
     "data": {
      "text/plain": [
       "1.965323987577424e-184"
      ]
     },
     "execution_count": 23,
     "metadata": {},
     "output_type": "execute_result"
    }
   ],
   "source": [
    "#### Work at last :D\n",
    "vraisemblance(durees,loi_exponentielle,1)"
   ]
  },
  {
   "cell_type": "markdown",
   "id": "fdba275e",
   "metadata": {},
   "source": [
    "<div class=\"alert alert-block alert-warning\">\n",
    "    Vous devriez trouver <code>1.965323987577424e-184</code>.\n",
    "</div>"
   ]
  },
  {
   "cell_type": "markdown",
   "id": "32108001",
   "metadata": {},
   "source": [
    "<div class=\"alert alert-block alert-info\">\n",
    "Q3.4 - Parmi les lois suivantes, déterminer celle qui a le plus vraisemblablement généré les observations <code>durees</code> :\n",
    "<ol>\n",
    "    <li>loi exponentielle de paramètre $\\lambda = 1$</li>\n",
    "    <li>loi exponentielle de paramètre $\\lambda = \\frac12$</li>\n",
    "    <li>loi exponentielle de paramètre $\\lambda = \\frac14$</li>\n",
    "    <li>loi exponentielle de paramètre $\\lambda = \\frac{1}{10}$</li>\n",
    "</ol>\n",
    "    Attention : <code>1/2</code> vaut <code>0</code> en Python 2.7.\n",
    "</div>"
   ]
  },
  {
   "cell_type": "code",
   "execution_count": 24,
   "id": "2f3273db",
   "metadata": {},
   "outputs": [
    {
     "name": "stdout",
     "output_type": "stream",
     "text": [
      "λ = 1 returns 1.965323987577424e-184\n",
      "λ = 1/2 returns 1.1059042092623248e-122\n",
      "λ = 1/4 returns 7.368166072324188e-107\n",
      "λ = 1/10 returns 4.259350853603901e-119\n"
     ]
    }
   ],
   "source": [
    "print(\"\\u03BB = 1 returns\",vraisemblance(durees,loi_exponentielle,1))\n",
    "print(\"\\u03BB = 1/2 returns\",vraisemblance(durees,loi_exponentielle,.5))\n",
    "print(\"\\u03BB = 1/4 returns\",vraisemblance(durees,loi_exponentielle,.25))\n",
    "print(\"\\u03BB = 1/10 returns\",vraisemblance(durees,loi_exponentielle,.1))"
   ]
  },
  {
   "cell_type": "markdown",
   "id": "01949974",
   "metadata": {},
   "source": [
    "<div class=\"alert alert-block alert-warning\">\n",
    "    À présent, nous allons réaliser <em>à la main</em> l'histogramme de la question 3.1.\n",
    "</div>"
   ]
  },
  {
   "cell_type": "markdown",
   "id": "b799f48b",
   "metadata": {},
   "source": [
    "<div class=\"alert alert-block alert-info\">\n",
    "    Q3.5 - Écrire une fonction <code>decoupage</code> qui, étant donné un vecteur d'obervations <code>obs</code> et un entier naturel non nul<code>n</code>, renvoie le vecteur de bornes $(v_1, v_2, \\dots, v_n)$ où $v_1$ est le minimum de <code>durees</code> et $v_n$ vaut le maximum de <code>durees</code>\n",
    "</div>"
   ]
  },
  {
   "cell_type": "code",
   "execution_count": 25,
   "id": "0df9e2f9",
   "metadata": {},
   "outputs": [],
   "source": [
    "def decoupage(obs,n):\n",
    "    var = np.around(obs.max()/(n+1),1)\n",
    "    lr = [obs.min()]\n",
    "    \n",
    "    i = 1\n",
    "    while i < obs.max():\n",
    "    \n",
    "        if lr[i-1] == obs.max():\n",
    "            break\n",
    "        lr.append(lr[i-1] + var)\n",
    "        \n",
    "        i += 1\n",
    "    return np.array(lr)"
   ]
  },
  {
   "cell_type": "markdown",
   "id": "8546d738",
   "metadata": {},
   "source": [
    "<div class=\"alert alert-block alert-info\">\n",
    "    Q3.6 - Tester la fonction <code>decoupage</code> pour qu'elle génère un vecteur de bornes correspondant à 10 intervalles adaptés aux observations <code>durees</code>\n",
    "</div>"
   ]
  },
  {
   "cell_type": "code",
   "execution_count": 26,
   "id": "7eb098f3",
   "metadata": {},
   "outputs": [
    {
     "data": {
      "text/plain": [
       "array([ 1. ,  2.5,  4. ,  5.5,  7. ,  8.5, 10. , 11.5, 13. , 14.5, 16. ])"
      ]
     },
     "execution_count": 26,
     "metadata": {},
     "output_type": "execute_result"
    }
   ],
   "source": [
    "decoupage(durees,10)"
   ]
  },
  {
   "cell_type": "markdown",
   "id": "cda825b2",
   "metadata": {},
   "source": [
    "<div class=\"alert alert-block alert-warning\">\n",
    "    Vous devriez trouver <code>np.array([ 1. ,  2.5,  4. ,  5.5,  7. ,  8.5, 10. , 11.5, 13. , 14.5, 16. ])</code>\n",
    "</div>"
   ]
  },
  {
   "cell_type": "markdown",
   "id": "6eb4e205",
   "metadata": {},
   "source": [
    "<div class=\"alert alert-block alert-info\">\n",
    "Q3.7 - Écrire la fonction <code>effectifs</code> qui, étant donné un vecteur <code>obs</code> d'observations et un vecteur <code>bornes</code> de nombres $(v_1, v_2, \\dots, v_n)$ triés dans l'ordre croissant, renvoie les effectifs dans les intervalles $[v_1, v_2[, [v_2, v_3[, \\dots, [v_{n - 1}, v_n[$.\n",
    "</div>"
   ]
  },
  {
   "cell_type": "code",
   "execution_count": 27,
   "id": "dcdc231a",
   "metadata": {},
   "outputs": [],
   "source": [
    "def effectifs(obs,bornes):\n",
    "    \n",
    "    mainLr = []\n",
    "    \n",
    "    s = 0\n",
    "    \n",
    "    for i in range(1,len(bornes)):\n",
    "        for j in obs:\n",
    "            if bornes[i-1] <= j < bornes[i]:\n",
    "                s += 1\n",
    "        mainLr.append(s)\n",
    "        s = 0\n",
    "        \n",
    "    for index in obs:\n",
    "        if index == bornes.max():\n",
    "            s += 1\n",
    "    mainLr.append(s)\n",
    "    \n",
    "    return mainLr"
   ]
  },
  {
   "cell_type": "markdown",
   "id": "c9a54bf5",
   "metadata": {},
   "source": [
    "<div class=\"alert alert-block alert-info\">\n",
    "    Q3.8 - Tester la fonction <code>effectifs</code> pour qu'elle donne les effectifs des observations <code>durees</code> pour un découpage en 10 intervalles.\n",
    "</div>"
   ]
  },
  {
   "cell_type": "code",
   "execution_count": 28,
   "id": "abfb4a30",
   "metadata": {
    "scrolled": true
   },
   "outputs": [
    {
     "data": {
      "text/plain": [
       "[43, 10, 21, 5, 9, 4, 3, 0, 3, 1, 1]"
      ]
     },
     "execution_count": 28,
     "metadata": {},
     "output_type": "execute_result"
    }
   ],
   "source": [
    "effectifs(durees,decoupage(durees,10))"
   ]
  },
  {
   "cell_type": "markdown",
   "id": "355dbfdc",
   "metadata": {},
   "source": [
    "<div class=\"alert alert-block alert-warning\">\n",
    "    Vous devriez trouver <code>np.array([43, 10, 21,  5,  9,  4,  3,  0,  3,  1,  1])</code>\n",
    "</div>"
   ]
  },
  {
   "cell_type": "markdown",
   "id": "6f217e70",
   "metadata": {},
   "source": [
    "<div class=\"alert alert-block alert-info\">\n",
    "    Q3.9 - Avec <code>plt.bar(x, height, width)</code> et la fonction précédente, dessiner un graphique similaire à celui de la question 3.1.\n",
    "</div>"
   ]
  },
  {
   "cell_type": "code",
   "execution_count": 29,
   "id": "14e1b227",
   "metadata": {},
   "outputs": [
    {
     "data": {
      "text/plain": [
       "<BarContainer object of 11 artists>"
      ]
     },
     "execution_count": 29,
     "metadata": {},
     "output_type": "execute_result"
    },
    {
     "data": {
      "image/png": "[encoded data removed]",
      "text/plain": [
       "<Figure size 432x288 with 1 Axes>"
      ]
     },
     "metadata": {
      "needs_background": "light"
     },
     "output_type": "display_data"
    }
   ],
   "source": [
    "plt.bar(\n",
    "    decoupage(durees,10),\n",
    "    effectifs(durees,decoupage(durees,10)),\n",
    "    width=decoupage(durees,10)[1]-decoupage(durees,10)[0],\n",
    "    color=\"orange\")"
   ]
  },
  {
   "cell_type": "markdown",
   "id": "ed66f06f",
   "metadata": {},
   "source": [
    "<div class=\"alert alert-block alert-info\">\n",
    "Q3.10 - Superposer l'histogramme précédent (ajusté pour que son aire vale 1) avec la densité de la fonction exponentielle pour les différents paramètres $\\lambda = 1, \\frac12, \\frac14, \\frac{1}{10}$ (en mettant en rouge le meilleur paramètre trouvé à la question 3.1).\n",
    "</div>"
   ]
  },
  {
   "cell_type": "code",
   "execution_count": 30,
   "id": "16e17dd5",
   "metadata": {},
   "outputs": [
    {
     "data": {
      "text/plain": [
       "Text(0.5, 1.0, 'λ = 1/10 | vraisemblance = 4.259350853603901e-119')"
      ]
     },
     "execution_count": 30,
     "metadata": {},
     "output_type": "execute_result"
    },
    {
     "data": {
      "image/png": "[encoded data removed]",
      "text/plain": [
       "<Figure size 504x1440 with 4 Axes>"
      ]
     },
     "metadata": {
      "needs_background": "light"
     },
     "output_type": "display_data"
    }
   ],
   "source": [
    "fig,(ax1,ax2,ax3,ax4) =  plt.subplots(4,1,figsize=[7,20])\n",
    "\n",
    "##### ax1\n",
    "ax1.hist(loi_exponentielle(durees,1),color=\"orange\")\n",
    "ax1.set_title(\"\\u03BB = 1 | vraisemblance = 1.965323987577424e-184\")\n",
    "\n",
    "##### ax2\n",
    "ax2.hist(loi_exponentielle(durees,.5),color=\"orange\")\n",
    "ax2.set_title(\"\\u03BB = 1/2 | vraisemblance = 1.1059042092623248e-122\")\n",
    "\n",
    "##### ax3\n",
    "ax3.hist(loi_exponentielle(durees,.25),color=\"orange\")\n",
    "ax3.set_title(\"\\u03BB = 1/4 | vraisemblance = 7.368166072324188e-107\")\n",
    "\n",
    "##### ax4\n",
    "ax4.hist(loi_exponentielle(durees,.1),color=\"orange\")\n",
    "ax4.set_title(\"\\u03BB = 1/10 | vraisemblance = 4.259350853603901e-119\")"
   ]
  },
  {
   "cell_type": "markdown",
   "id": "4b47ef72",
   "metadata": {},
   "source": [
    "<div class=\"alert alert-block alert-info\">\n",
    "Q3.10 - Retrouvez-vous le résultat de la question 3.4 ?\n",
    "</div>"
   ]
  },
  {
   "cell_type": "code",
   "execution_count": 31,
   "id": "43eafb67",
   "metadata": {},
   "outputs": [],
   "source": [
    "# Oui"
   ]
  },
  {
   "cell_type": "markdown",
   "id": "f2fe383b",
   "metadata": {},
   "source": [
    "---"
   ]
  }
 ],
 "metadata": {
  "kernelspec": {
   "display_name": "Python 3 (ipykernel)",
   "language": "python",
   "name": "python3"
  },
  "language_info": {
   "codemirror_mode": {
    "name": "ipython",
    "version": 3
   },
   "file_extension": ".py",
   "mimetype": "text/x-python",
   "name": "python",
   "nbconvert_exporter": "python",
   "pygments_lexer": "ipython3",
   "version": "3.9.7"
  }
 },
 "nbformat": 4,
 "nbformat_minor": 5
}
