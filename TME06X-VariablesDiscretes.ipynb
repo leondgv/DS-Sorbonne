{
 "cells": [
  {
   "cell_type": "markdown",
   "id": "25758d42",
   "metadata": {},
   "source": [
    "# Qui êtes-vous ?\n",
    "<div class=\"alert alert-block alert-info\">\n",
    "Écrire ci-dessous le nom, le prénom et le numéro étudiant de chaque membre du binôme :\n",
    "</div>"
   ]
  },
  {
   "cell_type": "code",
   "execution_count": 1,
   "id": "c6d64caf",
   "metadata": {},
   "outputs": [],
   "source": [
    "# Vu Hoang Thuy Duong - 21110221 SCFO"
   ]
  },
  {
   "cell_type": "markdown",
   "id": "tracked-control",
   "metadata": {},
   "source": [
    "# TME 06X - Variables discrètes"
   ]
  },
  {
   "cell_type": "code",
   "execution_count": 2,
   "id": "beneficial-glossary",
   "metadata": {},
   "outputs": [],
   "source": [
    "import numpy as np\n",
    "import pandas as pd\n",
    "import matplotlib.pyplot as plt\n",
    "%matplotlib inline"
   ]
  },
  {
   "cell_type": "markdown",
   "id": "0411a51e",
   "metadata": {},
   "source": [
    "## 1 - Manipulation d'une loi de probabilité jointe"
   ]
  },
  {
   "cell_type": "markdown",
   "id": "12252637",
   "metadata": {},
   "source": [
    "<div class=\"alert alert-block alert-warning\">\n",
    "Soit deux variables aléatoires $X$ et $Y$ qui suivent la loi de probabilité jointe suivante :\n",
    "$$\n",
    "    \\begin{array}{c|cccc}\n",
    "      p_{XY}(x, y) & 0 & 1 & 2 & 3 \\\\\n",
    "      \\hline\n",
    "      0 & \\frac{9}{32} & \\frac{3}{32} & \\frac{1}{32} & \\frac{7}{32} \\\\\n",
    "      1 & \\frac{1}{32} & \\frac{2}{32} & \\frac{8}{32} & \\frac{1}{32}\n",
    "    \\end{array}\n",
    "$$\n",
    "</div>"
   ]
  },
  {
   "cell_type": "markdown",
   "id": "cec3a162",
   "metadata": {},
   "source": [
    "<div class=\"alert alert-block alert-info\">\n",
    "Q1.1 - Déclarer un tableau <code>pxy</code> représentant cette loi de probabilité jointe.\n",
    "</div>"
   ]
  },
  {
   "cell_type": "code",
   "execution_count": 32,
   "id": "94de9347",
   "metadata": {},
   "outputs": [
    {
     "data": {
      "text/plain": [
       "array([[0.28125, 0.09375, 0.03125, 0.21875],\n",
       "       [0.03125, 0.0625 , 0.25   , 0.03125]])"
      ]
     },
     "execution_count": 32,
     "metadata": {},
     "output_type": "execute_result"
    }
   ],
   "source": [
    "pxy = np.array([\n",
    "    [9/32,3/32,1/32,7/32],\n",
    "    [1/32,2/32,8/32,1/32]\n",
    "])\n",
    "pxy"
   ]
  },
  {
   "cell_type": "markdown",
   "id": "ede02f08",
   "metadata": {},
   "source": [
    "<div class=\"alert alert-block alert-info\">\n",
    "Q1.2 - Écrire une fonction <code>est_proba</code> qui prend en paramètre un tableau numpy et qui renvoie <code>True</code> s'il s'agit d'une loi de probabilité jointe (et <code>False</code> sinon).\n",
    "    \n",
    "On vérifira que chaque valeur est comprise entre 0 et 1 et que la somme vaut 1 (à $\\epsilon$ près si nécessaire).\n",
    "</div>"
   ]
  },
  {
   "cell_type": "code",
   "execution_count": 23,
   "id": "01be6841",
   "metadata": {},
   "outputs": [],
   "source": [
    "def est_proba(X) :\n",
    "    return (np.sum(X) == 1 and 0 <= X.all() <= 1)"
   ]
  },
  {
   "cell_type": "markdown",
   "id": "cf6a46f3",
   "metadata": {},
   "source": [
    "<div class=\"alert alert-block alert-warning\">\n",
    "On rappelle qu'on peut accéder à des sous-parties d'un tableau numpy avec la syntaxe suivante (pour <code>pxy</code>) :\n",
    "<ul>\n",
    "    <li><code>pxy[1, 2]</code> renvoie la donnée située à la ligne 1 et à la colonne 2</li>\n",
    "    <li><code>pxy[0:2, 2]</code> renvoie toute la colonne 2</li>\n",
    "    <li><code>pxy[0, 0:4]</code> renvoie toute la ligne 0</li>\n",
    "</ul>\n",
    "</div>"
   ]
  },
  {
   "cell_type": "markdown",
   "id": "f2a42488",
   "metadata": {},
   "source": [
    "<div class=\"alert alert-block alert-info\">\n",
    "Q1.3 - Calculer la loi marginale de $X$ dans un tableau <code>px</code>.\n",
    "</div>"
   ]
  },
  {
   "cell_type": "code",
   "execution_count": 29,
   "id": "54cdcda8",
   "metadata": {},
   "outputs": [
    {
     "data": {
      "text/plain": [
       "array([0.625, 0.375])"
      ]
     },
     "execution_count": 29,
     "metadata": {},
     "output_type": "execute_result"
    }
   ],
   "source": [
    "px = np.array([np.sum(pxy[0]),np.sum(pxy[1])])\n",
    "px"
   ]
  },
  {
   "cell_type": "markdown",
   "id": "5a1284c1",
   "metadata": {},
   "source": [
    "<div class=\"alert alert-block alert-info\">\n",
    "Q1.4 - Calculer la loi marginale de $Y$ dans un tableau <code>py</code>.\n",
    "</div>"
   ]
  },
  {
   "cell_type": "code",
   "execution_count": 46,
   "id": "cc85de0e",
   "metadata": {},
   "outputs": [
    {
     "data": {
      "text/plain": [
       "array([0.3125 , 0.15625, 0.28125, 0.25   ])"
      ]
     },
     "execution_count": 46,
     "metadata": {},
     "output_type": "execute_result"
    }
   ],
   "source": [
    "py = np.array([np.sum(pxy[:, 0]), np.sum(pxy[:, 1]), np.sum(pxy[:, 2]), np.sum(pxy[:, 3])])\n",
    "py"
   ]
  },
  {
   "cell_type": "markdown",
   "id": "0fcaf1c5",
   "metadata": {},
   "source": [
    "<div class=\"alert alert-block alert-info\">\n",
    "Q1.5 - Calculer la loi $p_X \\times p_y$ dans un tableau <code>pxpy</code>.\n",
    "</div>"
   ]
  },
  {
   "cell_type": "code",
   "execution_count": 47,
   "id": "ea6d4367",
   "metadata": {},
   "outputs": [
    {
     "data": {
      "text/plain": [
       "[[0.1953125, 0.09765625, 0.17578125, 0.15625],\n",
       " [0.1171875, 0.05859375, 0.10546875, 0.09375]]"
      ]
     },
     "execution_count": 47,
     "metadata": {},
     "output_type": "execute_result"
    }
   ],
   "source": [
    "pxpy = [[],[]]\n",
    "for i in range(len(px)):\n",
    "    for j in range(len(py)):\n",
    "        pxpy[i].append(px[i]*py[j])\n",
    "pxpy"
   ]
  },
  {
   "cell_type": "markdown",
   "id": "32addb53",
   "metadata": {},
   "source": [
    "<div class=\"alert alert-block alert-info\">\n",
    "Q1.6 - $X$ et $Y$ sont-elles indépendantes ?\n",
    "</div>"
   ]
  },
  {
   "cell_type": "code",
   "execution_count": 48,
   "id": "5de5780e",
   "metadata": {},
   "outputs": [
    {
     "data": {
      "text/plain": [
       "array([[0.00178019, 0.00106812],\n",
       "       [0.00106812, 0.00064087]])"
      ]
     },
     "execution_count": 48,
     "metadata": {},
     "output_type": "execute_result"
    }
   ],
   "source": [
    "np.cov(pxpy[0],pxpy[1])\n",
    "# Comme le covariance de X et Y n'est pas égale à 0, X et Y ne sont pas indépendantes"
   ]
  },
  {
   "cell_type": "markdown",
   "id": "692080f6",
   "metadata": {},
   "source": [
    "<div class=\"alert alert-block alert-info\">\n",
    "Q1.7 - Écrire une fonction qui prend en paramètre un tableau représentant une loi de probabilité jointe de deux variables aléatoires discrètes et qui renvoie <code>True</code> si ces variables sont indépendantes (et <code>False</code> sinon).\n",
    "</div>"
   ]
  },
  {
   "cell_type": "code",
   "execution_count": 49,
   "id": "b9811bb3",
   "metadata": {},
   "outputs": [],
   "source": [
    "def est_indep(pxy, pxpy, eps):\n",
    "    \n",
    "    return (np.abs(pxy - pxpy)).all() < eps"
   ]
  },
  {
   "cell_type": "markdown",
   "id": "986e92a5",
   "metadata": {},
   "source": [
    "<div class=\"alert alert-block alert-info\">\n",
    "Q1.8 - Écrire une instruction qui teste votre fonction sur <code>pxy</code> et sur <code>pxpy</code>.\n",
    "</div>"
   ]
  },
  {
   "cell_type": "code",
   "execution_count": 50,
   "id": "c5d3cac9",
   "metadata": {
    "scrolled": true
   },
   "outputs": [
    {
     "data": {
      "text/plain": [
       "False"
      ]
     },
     "execution_count": 50,
     "metadata": {},
     "output_type": "execute_result"
    }
   ],
   "source": [
    "est_indep(pxy, pxpy, 1e-8)"
   ]
  },
  {
   "cell_type": "markdown",
   "id": "f509932a",
   "metadata": {},
   "source": [
    "## 2 - Probablités conditionnelles"
   ]
  },
  {
   "cell_type": "markdown",
   "id": "4aad812b",
   "metadata": {},
   "source": [
    "<div class=\"alert alert-block alert-warning\">\n",
    "Dans cette partie, nous allons continuer de travailler avec la loi jointe <code>pxy</code>.\n",
    "</div>"
   ]
  },
  {
   "cell_type": "markdown",
   "id": "2154bf1f",
   "metadata": {},
   "source": [
    "<div class=\"alert alert-block alert-info\">\n",
    "Q2.1 - Calculer la loi conditionnelle $p_{X|Y}(x)$ dans un tableau <code>pxSy</code>.\n",
    "</div>"
   ]
  },
  {
   "cell_type": "code",
   "execution_count": 51,
   "id": "34862a55",
   "metadata": {},
   "outputs": [
    {
     "data": {
      "text/plain": [
       "array([[0.9       , 0.6       , 0.11111111, 0.875     ],\n",
       "       [0.1       , 0.4       , 0.88888889, 0.125     ]])"
      ]
     },
     "execution_count": 51,
     "metadata": {},
     "output_type": "execute_result"
    }
   ],
   "source": [
    "pxSy = pxy/py\n",
    "pxSy"
   ]
  },
  {
   "cell_type": "markdown",
   "id": "331f159f",
   "metadata": {},
   "source": [
    "<div class=\"alert alert-block alert-info\">\n",
    "Q2.2 - De même, calculer la loi conditionnelle $p_{Y|X}(y)$ dans un tableau <code>pySx</code>.\n",
    "</div>"
   ]
  },
  {
   "cell_type": "code",
   "execution_count": 52,
   "id": "5df2ee86",
   "metadata": {},
   "outputs": [],
   "source": [
    "pySx = (pxy.T/px).T"
   ]
  },
  {
   "cell_type": "markdown",
   "id": "734ee975",
   "metadata": {},
   "source": [
    "<div class=\"alert alert-block alert-info\">\n",
    "Q2.3 - Chaque calcul précédent permet-il de dire si les variables $X$ et $Y$ sont indépendantes ?\n",
    "</div>"
   ]
  },
  {
   "cell_type": "code",
   "execution_count": 53,
   "id": "50617c40",
   "metadata": {},
   "outputs": [],
   "source": [
    "# Oui, car si les probas conditionnelles de ces 2 variables sont différentes de 0, ils sont dépendantes"
   ]
  },
  {
   "cell_type": "markdown",
   "id": "adb6de1b",
   "metadata": {},
   "source": [
    "## 3 - Espérance et variance"
   ]
  },
  {
   "cell_type": "markdown",
   "id": "34c4c408",
   "metadata": {},
   "source": [
    "<div class=\"alert alert-block alert-warning\">\n",
    "Nous allons supposer que les réalisations de la variable $X$ correspondent aux indices de lignes et que les réalisations de la variable $Y$ correspondent aux indices de colonnes.\n",
    "</div>"
   ]
  },
  {
   "cell_type": "markdown",
   "id": "9f043f1d",
   "metadata": {},
   "source": [
    "<div class=\"alert alert-block alert-info\">\n",
    "Q3.1 - Écrire une fonction <code>esperance</code> qui calcule l'espérance d'une variable aléatoire dont la loi <code>p</code> est donnée sous la forme d'un tableau numpy unidimensionnel.\n",
    "</div>"
   ]
  },
  {
   "cell_type": "code",
   "execution_count": 61,
   "id": "8a87ecf9",
   "metadata": {},
   "outputs": [],
   "source": [
    "def esperance(p):\n",
    "    return np.sum([i * p[i] for i in range(len(p))])"
   ]
  },
  {
   "cell_type": "markdown",
   "id": "efe86e95",
   "metadata": {},
   "source": [
    "<div class=\"alert alert-block alert-info\">\n",
    "Q3.2 - Calculer l'espérance de la variable $Y$.\n",
    "</div>"
   ]
  },
  {
   "cell_type": "code",
   "execution_count": 62,
   "id": "fd30ef74",
   "metadata": {
    "scrolled": true
   },
   "outputs": [
    {
     "data": {
      "text/plain": [
       "1.46875"
      ]
     },
     "execution_count": 62,
     "metadata": {},
     "output_type": "execute_result"
    }
   ],
   "source": [
    "esperance(py)"
   ]
  },
  {
   "cell_type": "markdown",
   "id": "1459a41a",
   "metadata": {},
   "source": [
    "<div class=\"alert alert-block alert-info\">\n",
    "Q3.3 - Calculer les espérances conditionnelles de $Y$ sachant $X = x$ pour $0 \\leqslant x < 2$.\n",
    "</div>"
   ]
  },
  {
   "cell_type": "code",
   "execution_count": 63,
   "id": "4e218893",
   "metadata": {},
   "outputs": [
    {
     "data": {
      "text/plain": [
       "array([1.3 , 1.75])"
      ]
     },
     "execution_count": 63,
     "metadata": {},
     "output_type": "execute_result"
    }
   ],
   "source": [
    "np.array([esperance(pySx[i, 0:4]) for i in range(0, 2)])"
   ]
  },
  {
   "cell_type": "markdown",
   "id": "7f00e2b5",
   "metadata": {},
   "source": [
    "<div class=\"alert alert-block alert-warning\">\n",
    "Pour allons à présent calculer des espérances sur la loi jointe. Pour cela, nous passerons en paramètres une fonction de $x$ et de $y$ qui renvoie un réel.\n",
    "    \n",
    "Par exemple, nous allons commencer par calculer l'espérance de $X + Y$.\n",
    "</div>"
   ]
  },
  {
   "cell_type": "markdown",
   "id": "0a5ef994",
   "metadata": {},
   "source": [
    "<div class=\"alert alert-block alert-info\">\n",
    "Exécuter le bloc suivant qui définit la fonction <code>fsom</code>.\n",
    "</div>"
   ]
  },
  {
   "cell_type": "code",
   "execution_count": 64,
   "id": "273c684c",
   "metadata": {},
   "outputs": [],
   "source": [
    "def fsom(x, y):\n",
    "    return x + y"
   ]
  },
  {
   "cell_type": "markdown",
   "id": "96cf38d6",
   "metadata": {},
   "source": [
    "<div class=\"alert alert-block alert-info\">\n",
    "Q3.4 - Écrire une fonction <code>esperance_jointe</code> prend en paramètres une loi jointe de deux variables <code>p</code> et une fonction de deux variables <code>f</code> et qui calcule l'espérance de $f(X, Y)$.\n",
    "</div>"
   ]
  },
  {
   "cell_type": "code",
   "execution_count": 66,
   "id": "a6b2b54e",
   "metadata": {},
   "outputs": [],
   "source": [
    "def esperance_jointe(p,f):\n",
    "    px = []\n",
    "    for i in range(len(p)):\n",
    "        px.append(np.sum(p[i]))\n",
    "    px = np.array(px)\n",
    "    \n",
    "    py = []\n",
    "    for j in range(len(p[0])):\n",
    "        py.append(np.sum(p[:,j]))\n",
    "    py = np.array(py)\n",
    "    return f(esperance(px),esperance(py))"
   ]
  },
  {
   "cell_type": "markdown",
   "id": "cfb409e0",
   "metadata": {},
   "source": [
    "<div class=\"alert alert-block alert-info\">\n",
    "Q3.5 - Calculer $\\mathbb{E}(X + Y)$.\n",
    "</div>"
   ]
  },
  {
   "cell_type": "code",
   "execution_count": 67,
   "id": "44df0815",
   "metadata": {},
   "outputs": [
    {
     "data": {
      "text/plain": [
       "1.84375"
      ]
     },
     "execution_count": 67,
     "metadata": {},
     "output_type": "execute_result"
    }
   ],
   "source": [
    "esperance_jointe(pxy,fsom)"
   ]
  },
  {
   "cell_type": "markdown",
   "id": "8bca096d",
   "metadata": {},
   "source": [
    "<div class=\"alert alert-block alert-info\">\n",
    "Q3.6 - Calculer $\\mathbb{E}(XY)$.\n",
    "</div>"
   ]
  },
  {
   "cell_type": "code",
   "execution_count": 70,
   "id": "21371d65",
   "metadata": {},
   "outputs": [
    {
     "data": {
      "text/plain": [
       "0.55078125"
      ]
     },
     "execution_count": 70,
     "metadata": {},
     "output_type": "execute_result"
    }
   ],
   "source": [
    "def fprod(x, y):\n",
    "    return x * y\n",
    "\n",
    "esperance_jointe(pxy, fprod)"
   ]
  },
  {
   "cell_type": "markdown",
   "id": "97db87bf",
   "metadata": {},
   "source": [
    "<div class=\"alert alert-block alert-info\">\n",
    "Q3.7- Écrire une fonction <code>covariance</code> prend en paramètres une loi jointe de deux variables <code>p</code> et qui renvoie la covariance de $X$ et $Y$.\n",
    "</div>"
   ]
  },
  {
   "cell_type": "code",
   "execution_count": 74,
   "id": "5378743b",
   "metadata": {},
   "outputs": [],
   "source": [
    "def covariance(p):\n",
    "    return esperance_jointe(p,fprod) - esperance_jointe(p,fsom)"
   ]
  },
  {
   "cell_type": "markdown",
   "id": "b1746c8e",
   "metadata": {},
   "source": [
    "<div class=\"alert alert-block alert-info\">\n",
    "Q3.8 - Calculer $\\mathbb{C}ov(X, Y)$.\n",
    "</div>"
   ]
  },
  {
   "cell_type": "code",
   "execution_count": 75,
   "id": "af742b6b",
   "metadata": {},
   "outputs": [
    {
     "data": {
      "text/plain": [
       "-1.29296875"
      ]
     },
     "execution_count": 75,
     "metadata": {},
     "output_type": "execute_result"
    }
   ],
   "source": [
    "covariance(pxy)"
   ]
  },
  {
   "cell_type": "markdown",
   "id": "7d7e836e",
   "metadata": {},
   "source": [
    "---"
   ]
  }
 ],
 "metadata": {
  "kernelspec": {
   "display_name": "Python 3 (ipykernel)",
   "language": "python",
   "name": "python3"
  },
  "language_info": {
   "codemirror_mode": {
    "name": "ipython",
    "version": 3
   },
   "file_extension": ".py",
   "mimetype": "text/x-python",
   "name": "python",
   "nbconvert_exporter": "python",
   "pygments_lexer": "ipython3",
   "version": "3.9.7"
  }
 },
 "nbformat": 4,
 "nbformat_minor": 5
}
