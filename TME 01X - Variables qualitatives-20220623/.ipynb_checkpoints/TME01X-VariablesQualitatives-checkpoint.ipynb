{
 "cells": [
  {
   "cell_type": "markdown",
   "id": "25758d42",
   "metadata": {},
   "source": [
    "# Qui êtes-vous ?\n",
    "<div class=\"alert alert-block alert-info\">\n",
    "Écrire ci-dessous le nom, le prénom et le numéro étudiant de chaque membre du binôme :\n",
    "</div>"
   ]
  },
  {
   "cell_type": "markdown",
   "id": "f4a0d202",
   "metadata": {},
   "source": [
    "Vu Hoang Thuy Duong - 21110221 SCFO"
   ]
  },
  {
   "cell_type": "markdown",
   "id": "7be7a50d",
   "metadata": {},
   "source": [
    "# Introduction Jupyter"
   ]
  },
  {
   "cell_type": "markdown",
   "id": "c635caa0",
   "metadata": {},
   "source": [
    "<div class=\"alert alert-block alert-warning\">\n",
    "Jupyter est un environnement de travail qui permet qui permet de réaliser des *notebooks*, sorte de calepins qui peuvent contenir à la fois du code (en python mais pas seulement), du texte formatté en <a href=\"https://fr.wikipedia.org/wiki/Markdown\">markdown</a>), des images et des figures pour présenter les résultats. \n",
    "\n",
    "Il tourne en général sur un serveur web local qui est lancé avec la commande `jupyter notebook` (ou pour la version plus complète `jupyter lab`). L'interface est accessible à partir de n'importe quel navigateur web en se connectant à l'adresse locale précisée lors du lancement. \n",
    "\n",
    "Un notebook est composé de *cellules* qui sont soit du texte (de type Markdown) soit du code. \n",
    "Lorsqu'une cellule de texte est exécutée (avec le raccourci *shift-enter* ou avec le symbole en forme de flèche), elle n'est plus modifiable temporairement et est affichée de manière formattée. En double-cliquant dessus, il est possible de revenir en mode édition.\n",
    "Pour une cellule de code, son exécution provoque l'exécution effective du code contenu et le résultat (si résultat il y a) s'affiche en dessous de la cellule.\n",
    "</div>\n",
    "\n",
    "## Attention !\n",
    "<div class=\"alert alert-block alert-warning\">\n",
    "Lorsque vous exécutez une cellule de code, uniquement celle-ci est exécutée par défaut (et non pas toutes les précédentes). Si des modifications sont apportées aux cellules précédentes, elles ne seront prises en compte que si vous les exécutez aussi. Le numéro précédant la cellule de code exécutée permet de savoir dans quel ordre celles-ci ont été exécutées. \n",
    "\n",
    "Beaucoup de raccourcis existent afin de simplifier la navigation et la manipulation des notebooks, <a href=\"https://cheatography.com/weidadeyue/cheat-sheets/jupyter-notebook/\">ce cheatsheet</a> en présente les principales. \n",
    "\n",
    "Les notebooks sont exportables dans différents formats, en *pdf* par exemple pour faciliter la lecture ou en fichier python pour pouvoir les exécuter en script si besoin. \n",
    "\n",
    "Les TMEs de l'UE se serviront exclusivement des notebooks. N'hésitez pas à ajouter des cellules de code (ou même de texte) pour clarifier votre code et relancer uniquement les bouts de codes dont vous aurez besoin (n'oubliez pas qu'un code dans une cellule est exécuté d'un bloc, il n'est pas possible d'exécuter ligne à ligne, juste bloc par bloc). \n",
    "</div>"
   ]
  },
  {
   "cell_type": "markdown",
   "id": "437f157d",
   "metadata": {
    "scrolled": true
   },
   "source": [
    "# TME 1X - Variables qualitatives"
   ]
  },
  {
   "cell_type": "markdown",
   "id": "8ba905e3",
   "metadata": {},
   "source": [
    "## 1 - Chargement de fichier csv (Pandas)\n",
    "\n",
    "\n",
    "<div class=\"alert alert-block alert-warning\">\n",
    "    <b>Pandas</b> est une bibliothèque de python spécialisée dans l'analyse de données. Elle permet de charger facilement les données sous forme de tableaux (appelés *DataFrame* ou *frame*), de les manipuler, de tracer des graphiques associés, d'en extraire des caractéristiques ...\n",
    "\n",
    "Cette section montre quelques manipulations basiques que l'on peut faire sur les tableaux. N'hésitez pas à expérimenter au-delà ce qui est demandé jusqu'à ce que vous compreniez le bon fonctionnement des opérateurs introduits.\n"
   ]
  },
  {
   "cell_type": "markdown",
   "id": "94824870",
   "metadata": {},
   "source": [
    "<div class=\"alert alert-block alert-info\">\n",
    "Tout d'abord, exécuter le bloc ci-dessous pour importer la bibliothèque Pandas.\n",
    "</div>"
   ]
  },
  {
   "cell_type": "code",
   "execution_count": 1,
   "id": "19598478",
   "metadata": {},
   "outputs": [],
   "source": [
    "# Chargement de la bibliothèque pandas\n",
    "import pandas as pd"
   ]
  },
  {
   "cell_type": "markdown",
   "id": "a8282b01",
   "metadata": {},
   "source": [
    "<div class=\"alert alert-block alert-warning\">\n",
    "Nous allons travailler dans ce premier TME sur des données de lieux d'intérêt de Paris (POI, <em>Points of interest</em>) qui ont été scrappés par l'intermédiaire de l'API de google map. Il est en format <code>csv</code>, un format texte tabulaire ou chaque ligne du texte correspond à une ligne du tableau et chaque case du tableau est délimitée par un séparateur. Pandas a une fonction dédiée <code>read_csv('nom du fichier')</code> pour charger un fichier <code>csv</code>. Vérifiez bien au préalable d'avoir sauvegardé le fichier dans votre répertoire de travail où figure également ce notebook.  \n",
    "</div>\n",
    "\n",
    "<div class=\"alert alert-block alert-info\">\n",
    "Exécuter le bloc suivant pour charger le tableau à partir du fichier.\n",
    " </div>"
   ]
  },
  {
   "cell_type": "code",
   "execution_count": 2,
   "id": "6c6a5b28",
   "metadata": {},
   "outputs": [],
   "source": [
    "# Chargement du fichier\n",
    "tableau_poi = pd.read_csv(\"poi-paris.csv\")"
   ]
  },
  {
   "cell_type": "markdown",
   "id": "94f6d26f",
   "metadata": {},
   "source": [
    "<div class=\"alert alert-block alert-info\">\n",
    "Exécuter le bloc suivant pour visualiser le tableau. \n",
    "</div>"
   ]
  },
  {
   "cell_type": "code",
   "execution_count": 3,
   "id": "75598a9a",
   "metadata": {},
   "outputs": [
    {
     "data": {
      "text/html": [
       "<div>\n",
       "<style scoped>\n",
       "    .dataframe tbody tr th:only-of-type {\n",
       "        vertical-align: middle;\n",
       "    }\n",
       "\n",
       "    .dataframe tbody tr th {\n",
       "        vertical-align: top;\n",
       "    }\n",
       "\n",
       "    .dataframe thead th {\n",
       "        text-align: right;\n",
       "    }\n",
       "</style>\n",
       "<table border=\"1\" class=\"dataframe\">\n",
       "  <thead>\n",
       "    <tr style=\"text-align: right;\">\n",
       "      <th></th>\n",
       "      <th>nom</th>\n",
       "      <th>latitude</th>\n",
       "      <th>longitude</th>\n",
       "      <th>note</th>\n",
       "      <th>prix</th>\n",
       "      <th>furniture_store</th>\n",
       "      <th>laundry</th>\n",
       "      <th>bakery</th>\n",
       "      <th>cafe</th>\n",
       "      <th>home_goods_store</th>\n",
       "      <th>clothing_store</th>\n",
       "      <th>atm</th>\n",
       "      <th>lodging</th>\n",
       "      <th>night_club</th>\n",
       "      <th>convenience_store</th>\n",
       "      <th>restaurant</th>\n",
       "      <th>bar</th>\n",
       "    </tr>\n",
       "  </thead>\n",
       "  <tbody>\n",
       "    <tr>\n",
       "      <th>0</th>\n",
       "      <td>Unopiu</td>\n",
       "      <td>48.866632</td>\n",
       "      <td>2.331637</td>\n",
       "      <td>2.2</td>\n",
       "      <td>-1</td>\n",
       "      <td>1</td>\n",
       "      <td>0</td>\n",
       "      <td>0</td>\n",
       "      <td>0</td>\n",
       "      <td>1</td>\n",
       "      <td>0</td>\n",
       "      <td>0</td>\n",
       "      <td>0</td>\n",
       "      <td>0</td>\n",
       "      <td>0</td>\n",
       "      <td>0</td>\n",
       "      <td>0</td>\n",
       "    </tr>\n",
       "    <tr>\n",
       "      <th>1</th>\n",
       "      <td>Olivier Hutzemakers</td>\n",
       "      <td>48.903289</td>\n",
       "      <td>2.339881</td>\n",
       "      <td>-1.0</td>\n",
       "      <td>-1</td>\n",
       "      <td>1</td>\n",
       "      <td>0</td>\n",
       "      <td>0</td>\n",
       "      <td>0</td>\n",
       "      <td>1</td>\n",
       "      <td>0</td>\n",
       "      <td>0</td>\n",
       "      <td>0</td>\n",
       "      <td>0</td>\n",
       "      <td>0</td>\n",
       "      <td>0</td>\n",
       "      <td>0</td>\n",
       "    </tr>\n",
       "    <tr>\n",
       "      <th>2</th>\n",
       "      <td>Téodor</td>\n",
       "      <td>48.847633</td>\n",
       "      <td>2.375378</td>\n",
       "      <td>-1.0</td>\n",
       "      <td>-1</td>\n",
       "      <td>1</td>\n",
       "      <td>0</td>\n",
       "      <td>0</td>\n",
       "      <td>0</td>\n",
       "      <td>1</td>\n",
       "      <td>0</td>\n",
       "      <td>0</td>\n",
       "      <td>0</td>\n",
       "      <td>0</td>\n",
       "      <td>0</td>\n",
       "      <td>0</td>\n",
       "      <td>0</td>\n",
       "    </tr>\n",
       "    <tr>\n",
       "      <th>3</th>\n",
       "      <td>Féau and Co.</td>\n",
       "      <td>48.879841</td>\n",
       "      <td>2.297154</td>\n",
       "      <td>5.0</td>\n",
       "      <td>-1</td>\n",
       "      <td>1</td>\n",
       "      <td>0</td>\n",
       "      <td>0</td>\n",
       "      <td>0</td>\n",
       "      <td>1</td>\n",
       "      <td>0</td>\n",
       "      <td>0</td>\n",
       "      <td>0</td>\n",
       "      <td>0</td>\n",
       "      <td>0</td>\n",
       "      <td>0</td>\n",
       "      <td>0</td>\n",
       "    </tr>\n",
       "    <tr>\n",
       "      <th>4</th>\n",
       "      <td>Patoux Florence Marie-therese</td>\n",
       "      <td>48.827933</td>\n",
       "      <td>2.309074</td>\n",
       "      <td>-1.0</td>\n",
       "      <td>-1</td>\n",
       "      <td>1</td>\n",
       "      <td>0</td>\n",
       "      <td>0</td>\n",
       "      <td>0</td>\n",
       "      <td>1</td>\n",
       "      <td>0</td>\n",
       "      <td>0</td>\n",
       "      <td>0</td>\n",
       "      <td>0</td>\n",
       "      <td>0</td>\n",
       "      <td>0</td>\n",
       "      <td>0</td>\n",
       "    </tr>\n",
       "    <tr>\n",
       "      <th>...</th>\n",
       "      <td>...</td>\n",
       "      <td>...</td>\n",
       "      <td>...</td>\n",
       "      <td>...</td>\n",
       "      <td>...</td>\n",
       "      <td>...</td>\n",
       "      <td>...</td>\n",
       "      <td>...</td>\n",
       "      <td>...</td>\n",
       "      <td>...</td>\n",
       "      <td>...</td>\n",
       "      <td>...</td>\n",
       "      <td>...</td>\n",
       "      <td>...</td>\n",
       "      <td>...</td>\n",
       "      <td>...</td>\n",
       "      <td>...</td>\n",
       "    </tr>\n",
       "    <tr>\n",
       "      <th>31847</th>\n",
       "      <td>Le Rallye Bar</td>\n",
       "      <td>48.858395</td>\n",
       "      <td>2.425150</td>\n",
       "      <td>-1.0</td>\n",
       "      <td>-1</td>\n",
       "      <td>0</td>\n",
       "      <td>0</td>\n",
       "      <td>0</td>\n",
       "      <td>0</td>\n",
       "      <td>0</td>\n",
       "      <td>0</td>\n",
       "      <td>0</td>\n",
       "      <td>0</td>\n",
       "      <td>0</td>\n",
       "      <td>0</td>\n",
       "      <td>0</td>\n",
       "      <td>1</td>\n",
       "    </tr>\n",
       "    <tr>\n",
       "      <th>31848</th>\n",
       "      <td>lotus de chine</td>\n",
       "      <td>48.914816</td>\n",
       "      <td>2.382295</td>\n",
       "      <td>-1.0</td>\n",
       "      <td>-1</td>\n",
       "      <td>0</td>\n",
       "      <td>0</td>\n",
       "      <td>0</td>\n",
       "      <td>0</td>\n",
       "      <td>0</td>\n",
       "      <td>0</td>\n",
       "      <td>0</td>\n",
       "      <td>0</td>\n",
       "      <td>0</td>\n",
       "      <td>0</td>\n",
       "      <td>0</td>\n",
       "      <td>1</td>\n",
       "    </tr>\n",
       "    <tr>\n",
       "      <th>31849</th>\n",
       "      <td>King George</td>\n",
       "      <td>48.874817</td>\n",
       "      <td>2.341561</td>\n",
       "      <td>4.1</td>\n",
       "      <td>-1</td>\n",
       "      <td>0</td>\n",
       "      <td>0</td>\n",
       "      <td>0</td>\n",
       "      <td>0</td>\n",
       "      <td>0</td>\n",
       "      <td>0</td>\n",
       "      <td>0</td>\n",
       "      <td>0</td>\n",
       "      <td>0</td>\n",
       "      <td>0</td>\n",
       "      <td>1</td>\n",
       "      <td>1</td>\n",
       "    </tr>\n",
       "    <tr>\n",
       "      <th>31850</th>\n",
       "      <td>Le Révérend</td>\n",
       "      <td>48.914967</td>\n",
       "      <td>2.286391</td>\n",
       "      <td>4.5</td>\n",
       "      <td>-1</td>\n",
       "      <td>0</td>\n",
       "      <td>0</td>\n",
       "      <td>0</td>\n",
       "      <td>0</td>\n",
       "      <td>0</td>\n",
       "      <td>0</td>\n",
       "      <td>0</td>\n",
       "      <td>0</td>\n",
       "      <td>0</td>\n",
       "      <td>0</td>\n",
       "      <td>0</td>\n",
       "      <td>1</td>\n",
       "    </tr>\n",
       "    <tr>\n",
       "      <th>31851</th>\n",
       "      <td>Avern' Store</td>\n",
       "      <td>48.900784</td>\n",
       "      <td>2.315682</td>\n",
       "      <td>-1.0</td>\n",
       "      <td>-1</td>\n",
       "      <td>0</td>\n",
       "      <td>0</td>\n",
       "      <td>0</td>\n",
       "      <td>0</td>\n",
       "      <td>0</td>\n",
       "      <td>0</td>\n",
       "      <td>0</td>\n",
       "      <td>0</td>\n",
       "      <td>0</td>\n",
       "      <td>0</td>\n",
       "      <td>0</td>\n",
       "      <td>1</td>\n",
       "    </tr>\n",
       "  </tbody>\n",
       "</table>\n",
       "<p>31852 rows × 17 columns</p>\n",
       "</div>"
      ],
      "text/plain": [
       "                                 nom   latitude  longitude  note  prix  \\\n",
       "0                             Unopiu  48.866632   2.331637   2.2    -1   \n",
       "1                Olivier Hutzemakers  48.903289   2.339881  -1.0    -1   \n",
       "2                             Téodor  48.847633   2.375378  -1.0    -1   \n",
       "3                       Féau and Co.  48.879841   2.297154   5.0    -1   \n",
       "4      Patoux Florence Marie-therese  48.827933   2.309074  -1.0    -1   \n",
       "...                              ...        ...        ...   ...   ...   \n",
       "31847                  Le Rallye Bar  48.858395   2.425150  -1.0    -1   \n",
       "31848                 lotus de chine  48.914816   2.382295  -1.0    -1   \n",
       "31849                    King George  48.874817   2.341561   4.1    -1   \n",
       "31850                    Le Révérend  48.914967   2.286391   4.5    -1   \n",
       "31851                   Avern' Store  48.900784   2.315682  -1.0    -1   \n",
       "\n",
       "       furniture_store  laundry  bakery  cafe  home_goods_store  \\\n",
       "0                    1        0       0     0                 1   \n",
       "1                    1        0       0     0                 1   \n",
       "2                    1        0       0     0                 1   \n",
       "3                    1        0       0     0                 1   \n",
       "4                    1        0       0     0                 1   \n",
       "...                ...      ...     ...   ...               ...   \n",
       "31847                0        0       0     0                 0   \n",
       "31848                0        0       0     0                 0   \n",
       "31849                0        0       0     0                 0   \n",
       "31850                0        0       0     0                 0   \n",
       "31851                0        0       0     0                 0   \n",
       "\n",
       "       clothing_store  atm  lodging  night_club  convenience_store  \\\n",
       "0                   0    0        0           0                  0   \n",
       "1                   0    0        0           0                  0   \n",
       "2                   0    0        0           0                  0   \n",
       "3                   0    0        0           0                  0   \n",
       "4                   0    0        0           0                  0   \n",
       "...               ...  ...      ...         ...                ...   \n",
       "31847               0    0        0           0                  0   \n",
       "31848               0    0        0           0                  0   \n",
       "31849               0    0        0           0                  0   \n",
       "31850               0    0        0           0                  0   \n",
       "31851               0    0        0           0                  0   \n",
       "\n",
       "       restaurant  bar  \n",
       "0               0    0  \n",
       "1               0    0  \n",
       "2               0    0  \n",
       "3               0    0  \n",
       "4               0    0  \n",
       "...           ...  ...  \n",
       "31847           0    1  \n",
       "31848           0    1  \n",
       "31849           1    1  \n",
       "31850           0    1  \n",
       "31851           0    1  \n",
       "\n",
       "[31852 rows x 17 columns]"
      ]
     },
     "execution_count": 3,
     "metadata": {},
     "output_type": "execute_result"
    }
   ],
   "source": [
    "tableau_poi"
   ]
  },
  {
   "cell_type": "markdown",
   "id": "352d7224",
   "metadata": {},
   "source": [
    "<div class=\"alert alert-block alert-warning\">\n",
    "Le tableau est très grand - comme indiqué à la fin, 31852 lignes pour 17 colonnes : l'affichage est incompréhensible tel quel. Nous allons voir ci-dessous quelques opérations basiques qui permettent d'examiner le contenu de façon intelligible.\n",
    "</div>"
   ]
  },
  {
   "cell_type": "markdown",
   "id": "bd42be1e",
   "metadata": {},
   "source": [
    "## 2 - Opérations basiques sur les DataFrames (Pandas)"
   ]
  },
  {
   "cell_type": "markdown",
   "id": "assumed-buddy",
   "metadata": {},
   "source": [
    "<div class=\"alert alert-block alert-info\">\n",
    "    La première fonction utile lorsqu'on découvre un tableau est la méthode <code>.info()</code> qui permet d'obtenir les informations du tableau. Exécuter le bloc suivant pour obtenir les informations de <code>tableau_poi</code>.\n",
    "</div>"
   ]
  },
  {
   "cell_type": "code",
   "execution_count": 4,
   "id": "alternative-decrease",
   "metadata": {},
   "outputs": [
    {
     "name": "stdout",
     "output_type": "stream",
     "text": [
      "<class 'pandas.core.frame.DataFrame'>\n",
      "RangeIndex: 31852 entries, 0 to 31851\n",
      "Data columns (total 17 columns):\n",
      " #   Column             Non-Null Count  Dtype  \n",
      "---  ------             --------------  -----  \n",
      " 0   nom                31851 non-null  object \n",
      " 1   latitude           31852 non-null  float64\n",
      " 2   longitude          31852 non-null  float64\n",
      " 3   note               31852 non-null  float64\n",
      " 4   prix               31852 non-null  int64  \n",
      " 5   furniture_store    31852 non-null  int64  \n",
      " 6   laundry            31852 non-null  int64  \n",
      " 7   bakery             31852 non-null  int64  \n",
      " 8   cafe               31852 non-null  int64  \n",
      " 9   home_goods_store   31852 non-null  int64  \n",
      " 10  clothing_store     31852 non-null  int64  \n",
      " 11  atm                31852 non-null  int64  \n",
      " 12  lodging            31852 non-null  int64  \n",
      " 13  night_club         31852 non-null  int64  \n",
      " 14  convenience_store  31852 non-null  int64  \n",
      " 15  restaurant         31852 non-null  int64  \n",
      " 16  bar                31852 non-null  int64  \n",
      "dtypes: float64(3), int64(13), object(1)\n",
      "memory usage: 4.1+ MB\n"
     ]
    }
   ],
   "source": [
    "tableau_poi.info()"
   ]
  },
  {
   "cell_type": "markdown",
   "id": "unavailable-abortion",
   "metadata": {},
   "source": [
    "<div class=\"alert alert-block alert-warning\">\n",
    "Dans notre cas, nous voyons que le tableau contient 31852 lignes, numérotées de 0 à 31851, et 17 colonnes. S'ensuit la liste des colonnes : \n",
    "<ul>\n",
    "    <li> <code>'nom'</code> : indique le nom de l'endroit</li>\n",
    "    <li> <code>'latitude'</code> et <code>'longitude'</code> qui contiennent un réel indiquant la géo-localisation de l'endroit</li>\n",
    "    <li> <code>'note'</code> qui est la note attribuée par les utilisateurs à l'endroit, également un réel</li>\n",
    "    <li> <code>'prix'</code> qui indique la cherté de l'endroit - un entier nous indique pandas\n",
    "puis une suite de colonnes correspondant à des types d'endroits (magasin, café, banque, restaurant, ...).</li>\n",
    "</ul>\n",
    "</div>"
   ]
  },
  {
   "cell_type": "markdown",
   "id": "3f14bca0",
   "metadata": {},
   "source": [
    "<div class=\"alert alert-block alert-info\">\n",
    "    Nous pouvons également accéder  à la liste des colonnes avec la variable <code>.columns</code> du tableau et connaître le nombre de ligne avec la fonction <code>len()</code> de python ou la méthode <code>.count()</code> de pandas qui compte le nombre de lignes non vide pour chaque colonne.\n",
    "Exécuter les trois blocs suivants :\n",
    "</div>"
   ]
  },
  {
   "cell_type": "code",
   "execution_count": 5,
   "id": "determined-mortgage",
   "metadata": {},
   "outputs": [
    {
     "data": {
      "text/plain": [
       "Index(['nom', 'latitude', 'longitude', 'note', 'prix', 'furniture_store',\n",
       "       'laundry', 'bakery', 'cafe', 'home_goods_store', 'clothing_store',\n",
       "       'atm', 'lodging', 'night_club', 'convenience_store', 'restaurant',\n",
       "       'bar'],\n",
       "      dtype='object')"
      ]
     },
     "execution_count": 5,
     "metadata": {},
     "output_type": "execute_result"
    }
   ],
   "source": [
    "tableau_poi.columns"
   ]
  },
  {
   "cell_type": "code",
   "execution_count": 6,
   "id": "featured-saying",
   "metadata": {},
   "outputs": [
    {
     "data": {
      "text/plain": [
       "31852"
      ]
     },
     "execution_count": 6,
     "metadata": {},
     "output_type": "execute_result"
    }
   ],
   "source": [
    "len(tableau_poi)"
   ]
  },
  {
   "cell_type": "code",
   "execution_count": 7,
   "id": "suburban-lover",
   "metadata": {},
   "outputs": [
    {
     "data": {
      "text/plain": [
       "nom                  31851\n",
       "latitude             31852\n",
       "longitude            31852\n",
       "note                 31852\n",
       "prix                 31852\n",
       "furniture_store      31852\n",
       "laundry              31852\n",
       "bakery               31852\n",
       "cafe                 31852\n",
       "home_goods_store     31852\n",
       "clothing_store       31852\n",
       "atm                  31852\n",
       "lodging              31852\n",
       "night_club           31852\n",
       "convenience_store    31852\n",
       "restaurant           31852\n",
       "bar                  31852\n",
       "dtype: int64"
      ]
     },
     "execution_count": 7,
     "metadata": {},
     "output_type": "execute_result"
    }
   ],
   "source": [
    "tableau_poi.count()"
   ]
  },
  {
   "cell_type": "markdown",
   "id": "present-workstation",
   "metadata": {},
   "source": [
    "<div class=\"alert alert-block alert-warning\">\n",
    "Ces opérations nous permettent de connaître la structure du tableau mais pas son contenu. \n",
    "Il est possible de sélectionner :\n",
    "<ul>\n",
    "    <li> les n premières lignes : <code>tableau_poi.head(10)</code> pour les 10 premières lignes </li>\n",
    "    <li> les n dernières lignes : <code>tableau_poi.tail(10)</code> pour les 10 dernières lignes </li>\n",
    "    <li> une colonne avec des crochets et le nom de la colonne : <code>tableau_poi['note']</code> </li>\n",
    "<li> un ensemble de colonnes sous forme de liste des noms de colonne : <code>tableau_poi[['longitude','latitude']]</code> </li>\n",
    "    <li> une ligne avec la variable <code>.iloc</code> du tableau : <code>tableau_poi.iloc[0]</code> pour la première ligne </li>\n",
    "    <li> des lignes en utilisant la notation <code>p:q</code> pour préciser les lignes de <code>p</code> à  <code>q</code> (non inclus) : <code>tableau_poi.iloc[0:5]</code> pour les 5 premières lignes </li>\n",
    "</ul>\n",
    "    \n",
    "On peut également spécifier des colonnes avec `.iloc` en précisant les numéros de colonnes voulues (et pas leur nom) : `tableau_poi.iloc[0,1]`, `tableau_poi.iloc[0:5,2:4]`\n",
    "\n",
    "Il est possible d'indexer par la fin en utilisant la notation `tableau_poi['nom'].iloc[-3]` pour avoir la 3e ligne avant la fin de la colonne `'nom'`.\n",
    "\n",
    "Le retour de ces opérations est toujours une **DataFrame**, vous pouvez donc combiner les opérations : \n",
    "* pour avoir les 3 premiers noms : `tableau_poi['nom'].iloc[0:3]` ou `tableau_poi.iloc[0:3]['nom']`.\n",
    "\n",
    "Il est toutefois préférable de passer par la variable `.loc` du tableau dans ce cas : celle-ci permet de préciser une ligne ou un ensemble de lignes par l'index des lignes et un certain nombre de colonnes par leur nom : `tableau_poi.loc[0,'nom']`, `tableau_poi.loc[[1,2,3],['nom','note']]`.\n",
    "\n",
    "L'index est affiché sur le côté gauche du tableau. **Attention** dans notre cas le numéro d'index est le même que le numéro de la ligne, ce n'est pas toujours le cas. Un index peut être également sous la forme d'une chaîne de caractères.\n",
    "\n",
    "Pour résumer, `.iloc` permet d'accéder au contenu du tableau à partir des numéros de lignes ou de colonnes, `.loc` à  partir des labels des lignes (les index) et des colonnes.\n",
    "</div>"
   ]
  },
  {
   "cell_type": "markdown",
   "id": "86d53a0a",
   "metadata": {},
   "source": [
    "<div class=\"alert alert-block alert-info\">\n",
    "Exécuter le bloc suivant pour visualiser les 10 premières lignes.\n",
    "</div>"
   ]
  },
  {
   "cell_type": "code",
   "execution_count": 8,
   "id": "friendly-center",
   "metadata": {
    "scrolled": false
   },
   "outputs": [
    {
     "data": {
      "text/html": [
       "<div>\n",
       "<style scoped>\n",
       "    .dataframe tbody tr th:only-of-type {\n",
       "        vertical-align: middle;\n",
       "    }\n",
       "\n",
       "    .dataframe tbody tr th {\n",
       "        vertical-align: top;\n",
       "    }\n",
       "\n",
       "    .dataframe thead th {\n",
       "        text-align: right;\n",
       "    }\n",
       "</style>\n",
       "<table border=\"1\" class=\"dataframe\">\n",
       "  <thead>\n",
       "    <tr style=\"text-align: right;\">\n",
       "      <th></th>\n",
       "      <th>nom</th>\n",
       "      <th>latitude</th>\n",
       "      <th>longitude</th>\n",
       "      <th>note</th>\n",
       "      <th>prix</th>\n",
       "      <th>furniture_store</th>\n",
       "      <th>laundry</th>\n",
       "      <th>bakery</th>\n",
       "      <th>cafe</th>\n",
       "      <th>home_goods_store</th>\n",
       "      <th>clothing_store</th>\n",
       "      <th>atm</th>\n",
       "      <th>lodging</th>\n",
       "      <th>night_club</th>\n",
       "      <th>convenience_store</th>\n",
       "      <th>restaurant</th>\n",
       "      <th>bar</th>\n",
       "    </tr>\n",
       "  </thead>\n",
       "  <tbody>\n",
       "    <tr>\n",
       "      <th>0</th>\n",
       "      <td>Unopiu</td>\n",
       "      <td>48.866632</td>\n",
       "      <td>2.331637</td>\n",
       "      <td>2.2</td>\n",
       "      <td>-1</td>\n",
       "      <td>1</td>\n",
       "      <td>0</td>\n",
       "      <td>0</td>\n",
       "      <td>0</td>\n",
       "      <td>1</td>\n",
       "      <td>0</td>\n",
       "      <td>0</td>\n",
       "      <td>0</td>\n",
       "      <td>0</td>\n",
       "      <td>0</td>\n",
       "      <td>0</td>\n",
       "      <td>0</td>\n",
       "    </tr>\n",
       "    <tr>\n",
       "      <th>1</th>\n",
       "      <td>Olivier Hutzemakers</td>\n",
       "      <td>48.903289</td>\n",
       "      <td>2.339881</td>\n",
       "      <td>-1.0</td>\n",
       "      <td>-1</td>\n",
       "      <td>1</td>\n",
       "      <td>0</td>\n",
       "      <td>0</td>\n",
       "      <td>0</td>\n",
       "      <td>1</td>\n",
       "      <td>0</td>\n",
       "      <td>0</td>\n",
       "      <td>0</td>\n",
       "      <td>0</td>\n",
       "      <td>0</td>\n",
       "      <td>0</td>\n",
       "      <td>0</td>\n",
       "    </tr>\n",
       "    <tr>\n",
       "      <th>2</th>\n",
       "      <td>Téodor</td>\n",
       "      <td>48.847633</td>\n",
       "      <td>2.375378</td>\n",
       "      <td>-1.0</td>\n",
       "      <td>-1</td>\n",
       "      <td>1</td>\n",
       "      <td>0</td>\n",
       "      <td>0</td>\n",
       "      <td>0</td>\n",
       "      <td>1</td>\n",
       "      <td>0</td>\n",
       "      <td>0</td>\n",
       "      <td>0</td>\n",
       "      <td>0</td>\n",
       "      <td>0</td>\n",
       "      <td>0</td>\n",
       "      <td>0</td>\n",
       "    </tr>\n",
       "    <tr>\n",
       "      <th>3</th>\n",
       "      <td>Féau and Co.</td>\n",
       "      <td>48.879841</td>\n",
       "      <td>2.297154</td>\n",
       "      <td>5.0</td>\n",
       "      <td>-1</td>\n",
       "      <td>1</td>\n",
       "      <td>0</td>\n",
       "      <td>0</td>\n",
       "      <td>0</td>\n",
       "      <td>1</td>\n",
       "      <td>0</td>\n",
       "      <td>0</td>\n",
       "      <td>0</td>\n",
       "      <td>0</td>\n",
       "      <td>0</td>\n",
       "      <td>0</td>\n",
       "      <td>0</td>\n",
       "    </tr>\n",
       "    <tr>\n",
       "      <th>4</th>\n",
       "      <td>Patoux Florence Marie-therese</td>\n",
       "      <td>48.827933</td>\n",
       "      <td>2.309074</td>\n",
       "      <td>-1.0</td>\n",
       "      <td>-1</td>\n",
       "      <td>1</td>\n",
       "      <td>0</td>\n",
       "      <td>0</td>\n",
       "      <td>0</td>\n",
       "      <td>1</td>\n",
       "      <td>0</td>\n",
       "      <td>0</td>\n",
       "      <td>0</td>\n",
       "      <td>0</td>\n",
       "      <td>0</td>\n",
       "      <td>0</td>\n",
       "      <td>0</td>\n",
       "    </tr>\n",
       "    <tr>\n",
       "      <th>5</th>\n",
       "      <td>Au Salon Du Meuble</td>\n",
       "      <td>48.889051</td>\n",
       "      <td>2.413735</td>\n",
       "      <td>1.0</td>\n",
       "      <td>-1</td>\n",
       "      <td>1</td>\n",
       "      <td>0</td>\n",
       "      <td>0</td>\n",
       "      <td>0</td>\n",
       "      <td>1</td>\n",
       "      <td>0</td>\n",
       "      <td>0</td>\n",
       "      <td>0</td>\n",
       "      <td>0</td>\n",
       "      <td>0</td>\n",
       "      <td>0</td>\n",
       "      <td>0</td>\n",
       "    </tr>\n",
       "    <tr>\n",
       "      <th>6</th>\n",
       "      <td>Bricorama</td>\n",
       "      <td>48.845083</td>\n",
       "      <td>2.300106</td>\n",
       "      <td>3.6</td>\n",
       "      <td>-1</td>\n",
       "      <td>1</td>\n",
       "      <td>0</td>\n",
       "      <td>0</td>\n",
       "      <td>0</td>\n",
       "      <td>1</td>\n",
       "      <td>0</td>\n",
       "      <td>0</td>\n",
       "      <td>0</td>\n",
       "      <td>0</td>\n",
       "      <td>0</td>\n",
       "      <td>0</td>\n",
       "      <td>0</td>\n",
       "    </tr>\n",
       "    <tr>\n",
       "      <th>7</th>\n",
       "      <td>Fachan Robert</td>\n",
       "      <td>48.818995</td>\n",
       "      <td>2.361602</td>\n",
       "      <td>-1.0</td>\n",
       "      <td>-1</td>\n",
       "      <td>1</td>\n",
       "      <td>0</td>\n",
       "      <td>0</td>\n",
       "      <td>0</td>\n",
       "      <td>1</td>\n",
       "      <td>0</td>\n",
       "      <td>0</td>\n",
       "      <td>0</td>\n",
       "      <td>0</td>\n",
       "      <td>0</td>\n",
       "      <td>0</td>\n",
       "      <td>0</td>\n",
       "    </tr>\n",
       "    <tr>\n",
       "      <th>8</th>\n",
       "      <td>Cuisines Références</td>\n",
       "      <td>48.899271</td>\n",
       "      <td>2.261842</td>\n",
       "      <td>3.8</td>\n",
       "      <td>-1</td>\n",
       "      <td>1</td>\n",
       "      <td>0</td>\n",
       "      <td>0</td>\n",
       "      <td>0</td>\n",
       "      <td>1</td>\n",
       "      <td>0</td>\n",
       "      <td>0</td>\n",
       "      <td>0</td>\n",
       "      <td>0</td>\n",
       "      <td>0</td>\n",
       "      <td>0</td>\n",
       "      <td>0</td>\n",
       "    </tr>\n",
       "    <tr>\n",
       "      <th>9</th>\n",
       "      <td>Krea 99</td>\n",
       "      <td>48.882137</td>\n",
       "      <td>2.345845</td>\n",
       "      <td>4.8</td>\n",
       "      <td>-1</td>\n",
       "      <td>1</td>\n",
       "      <td>0</td>\n",
       "      <td>0</td>\n",
       "      <td>0</td>\n",
       "      <td>1</td>\n",
       "      <td>1</td>\n",
       "      <td>0</td>\n",
       "      <td>0</td>\n",
       "      <td>0</td>\n",
       "      <td>0</td>\n",
       "      <td>0</td>\n",
       "      <td>0</td>\n",
       "    </tr>\n",
       "  </tbody>\n",
       "</table>\n",
       "</div>"
      ],
      "text/plain": [
       "                             nom   latitude  longitude  note  prix  \\\n",
       "0                         Unopiu  48.866632   2.331637   2.2    -1   \n",
       "1            Olivier Hutzemakers  48.903289   2.339881  -1.0    -1   \n",
       "2                         Téodor  48.847633   2.375378  -1.0    -1   \n",
       "3                   Féau and Co.  48.879841   2.297154   5.0    -1   \n",
       "4  Patoux Florence Marie-therese  48.827933   2.309074  -1.0    -1   \n",
       "5             Au Salon Du Meuble  48.889051   2.413735   1.0    -1   \n",
       "6                      Bricorama  48.845083   2.300106   3.6    -1   \n",
       "7                  Fachan Robert  48.818995   2.361602  -1.0    -1   \n",
       "8            Cuisines Références  48.899271   2.261842   3.8    -1   \n",
       "9                        Krea 99  48.882137   2.345845   4.8    -1   \n",
       "\n",
       "   furniture_store  laundry  bakery  cafe  home_goods_store  clothing_store  \\\n",
       "0                1        0       0     0                 1               0   \n",
       "1                1        0       0     0                 1               0   \n",
       "2                1        0       0     0                 1               0   \n",
       "3                1        0       0     0                 1               0   \n",
       "4                1        0       0     0                 1               0   \n",
       "5                1        0       0     0                 1               0   \n",
       "6                1        0       0     0                 1               0   \n",
       "7                1        0       0     0                 1               0   \n",
       "8                1        0       0     0                 1               0   \n",
       "9                1        0       0     0                 1               1   \n",
       "\n",
       "   atm  lodging  night_club  convenience_store  restaurant  bar  \n",
       "0    0        0           0                  0           0    0  \n",
       "1    0        0           0                  0           0    0  \n",
       "2    0        0           0                  0           0    0  \n",
       "3    0        0           0                  0           0    0  \n",
       "4    0        0           0                  0           0    0  \n",
       "5    0        0           0                  0           0    0  \n",
       "6    0        0           0                  0           0    0  \n",
       "7    0        0           0                  0           0    0  \n",
       "8    0        0           0                  0           0    0  \n",
       "9    0        0           0                  0           0    0  "
      ]
     },
     "execution_count": 8,
     "metadata": {},
     "output_type": "execute_result"
    }
   ],
   "source": [
    "tableau_poi.head(10)"
   ]
  },
  {
   "cell_type": "markdown",
   "id": "ac779960",
   "metadata": {},
   "source": [
    "<div class=\"alert alert-block alert-info\">\n",
    "Exécuter le bloc suivant pour visualiser les 10 dernières lignes.\n",
    "</div>"
   ]
  },
  {
   "cell_type": "code",
   "execution_count": 9,
   "id": "attractive-conducting",
   "metadata": {
    "scrolled": true
   },
   "outputs": [
    {
     "data": {
      "text/html": [
       "<div>\n",
       "<style scoped>\n",
       "    .dataframe tbody tr th:only-of-type {\n",
       "        vertical-align: middle;\n",
       "    }\n",
       "\n",
       "    .dataframe tbody tr th {\n",
       "        vertical-align: top;\n",
       "    }\n",
       "\n",
       "    .dataframe thead th {\n",
       "        text-align: right;\n",
       "    }\n",
       "</style>\n",
       "<table border=\"1\" class=\"dataframe\">\n",
       "  <thead>\n",
       "    <tr style=\"text-align: right;\">\n",
       "      <th></th>\n",
       "      <th>nom</th>\n",
       "      <th>latitude</th>\n",
       "      <th>longitude</th>\n",
       "      <th>note</th>\n",
       "      <th>prix</th>\n",
       "      <th>furniture_store</th>\n",
       "      <th>laundry</th>\n",
       "      <th>bakery</th>\n",
       "      <th>cafe</th>\n",
       "      <th>home_goods_store</th>\n",
       "      <th>clothing_store</th>\n",
       "      <th>atm</th>\n",
       "      <th>lodging</th>\n",
       "      <th>night_club</th>\n",
       "      <th>convenience_store</th>\n",
       "      <th>restaurant</th>\n",
       "      <th>bar</th>\n",
       "    </tr>\n",
       "  </thead>\n",
       "  <tbody>\n",
       "    <tr>\n",
       "      <th>31842</th>\n",
       "      <td>Le Fontenoy</td>\n",
       "      <td>48.846563</td>\n",
       "      <td>2.436680</td>\n",
       "      <td>4.2</td>\n",
       "      <td>-1</td>\n",
       "      <td>0</td>\n",
       "      <td>0</td>\n",
       "      <td>0</td>\n",
       "      <td>0</td>\n",
       "      <td>0</td>\n",
       "      <td>0</td>\n",
       "      <td>0</td>\n",
       "      <td>0</td>\n",
       "      <td>0</td>\n",
       "      <td>0</td>\n",
       "      <td>0</td>\n",
       "      <td>1</td>\n",
       "    </tr>\n",
       "    <tr>\n",
       "      <th>31843</th>\n",
       "      <td>Nguyen Thi Kim Yen</td>\n",
       "      <td>48.823525</td>\n",
       "      <td>2.365705</td>\n",
       "      <td>-1.0</td>\n",
       "      <td>-1</td>\n",
       "      <td>0</td>\n",
       "      <td>0</td>\n",
       "      <td>0</td>\n",
       "      <td>0</td>\n",
       "      <td>0</td>\n",
       "      <td>0</td>\n",
       "      <td>0</td>\n",
       "      <td>0</td>\n",
       "      <td>0</td>\n",
       "      <td>0</td>\n",
       "      <td>1</td>\n",
       "      <td>1</td>\n",
       "    </tr>\n",
       "    <tr>\n",
       "      <th>31844</th>\n",
       "      <td>Café Louis</td>\n",
       "      <td>48.891144</td>\n",
       "      <td>2.287485</td>\n",
       "      <td>4.3</td>\n",
       "      <td>-1</td>\n",
       "      <td>0</td>\n",
       "      <td>0</td>\n",
       "      <td>0</td>\n",
       "      <td>0</td>\n",
       "      <td>0</td>\n",
       "      <td>0</td>\n",
       "      <td>0</td>\n",
       "      <td>0</td>\n",
       "      <td>0</td>\n",
       "      <td>0</td>\n",
       "      <td>0</td>\n",
       "      <td>1</td>\n",
       "    </tr>\n",
       "    <tr>\n",
       "      <th>31845</th>\n",
       "      <td>M Et M</td>\n",
       "      <td>48.893766</td>\n",
       "      <td>2.291187</td>\n",
       "      <td>-1.0</td>\n",
       "      <td>-1</td>\n",
       "      <td>0</td>\n",
       "      <td>0</td>\n",
       "      <td>0</td>\n",
       "      <td>0</td>\n",
       "      <td>0</td>\n",
       "      <td>0</td>\n",
       "      <td>0</td>\n",
       "      <td>0</td>\n",
       "      <td>0</td>\n",
       "      <td>0</td>\n",
       "      <td>0</td>\n",
       "      <td>1</td>\n",
       "    </tr>\n",
       "    <tr>\n",
       "      <th>31846</th>\n",
       "      <td>Le Chalet Des Gaufres</td>\n",
       "      <td>48.842283</td>\n",
       "      <td>2.424079</td>\n",
       "      <td>3.4</td>\n",
       "      <td>-1</td>\n",
       "      <td>0</td>\n",
       "      <td>0</td>\n",
       "      <td>0</td>\n",
       "      <td>0</td>\n",
       "      <td>0</td>\n",
       "      <td>0</td>\n",
       "      <td>0</td>\n",
       "      <td>0</td>\n",
       "      <td>0</td>\n",
       "      <td>0</td>\n",
       "      <td>0</td>\n",
       "      <td>1</td>\n",
       "    </tr>\n",
       "    <tr>\n",
       "      <th>31847</th>\n",
       "      <td>Le Rallye Bar</td>\n",
       "      <td>48.858395</td>\n",
       "      <td>2.425150</td>\n",
       "      <td>-1.0</td>\n",
       "      <td>-1</td>\n",
       "      <td>0</td>\n",
       "      <td>0</td>\n",
       "      <td>0</td>\n",
       "      <td>0</td>\n",
       "      <td>0</td>\n",
       "      <td>0</td>\n",
       "      <td>0</td>\n",
       "      <td>0</td>\n",
       "      <td>0</td>\n",
       "      <td>0</td>\n",
       "      <td>0</td>\n",
       "      <td>1</td>\n",
       "    </tr>\n",
       "    <tr>\n",
       "      <th>31848</th>\n",
       "      <td>lotus de chine</td>\n",
       "      <td>48.914816</td>\n",
       "      <td>2.382295</td>\n",
       "      <td>-1.0</td>\n",
       "      <td>-1</td>\n",
       "      <td>0</td>\n",
       "      <td>0</td>\n",
       "      <td>0</td>\n",
       "      <td>0</td>\n",
       "      <td>0</td>\n",
       "      <td>0</td>\n",
       "      <td>0</td>\n",
       "      <td>0</td>\n",
       "      <td>0</td>\n",
       "      <td>0</td>\n",
       "      <td>0</td>\n",
       "      <td>1</td>\n",
       "    </tr>\n",
       "    <tr>\n",
       "      <th>31849</th>\n",
       "      <td>King George</td>\n",
       "      <td>48.874817</td>\n",
       "      <td>2.341561</td>\n",
       "      <td>4.1</td>\n",
       "      <td>-1</td>\n",
       "      <td>0</td>\n",
       "      <td>0</td>\n",
       "      <td>0</td>\n",
       "      <td>0</td>\n",
       "      <td>0</td>\n",
       "      <td>0</td>\n",
       "      <td>0</td>\n",
       "      <td>0</td>\n",
       "      <td>0</td>\n",
       "      <td>0</td>\n",
       "      <td>1</td>\n",
       "      <td>1</td>\n",
       "    </tr>\n",
       "    <tr>\n",
       "      <th>31850</th>\n",
       "      <td>Le Révérend</td>\n",
       "      <td>48.914967</td>\n",
       "      <td>2.286391</td>\n",
       "      <td>4.5</td>\n",
       "      <td>-1</td>\n",
       "      <td>0</td>\n",
       "      <td>0</td>\n",
       "      <td>0</td>\n",
       "      <td>0</td>\n",
       "      <td>0</td>\n",
       "      <td>0</td>\n",
       "      <td>0</td>\n",
       "      <td>0</td>\n",
       "      <td>0</td>\n",
       "      <td>0</td>\n",
       "      <td>0</td>\n",
       "      <td>1</td>\n",
       "    </tr>\n",
       "    <tr>\n",
       "      <th>31851</th>\n",
       "      <td>Avern' Store</td>\n",
       "      <td>48.900784</td>\n",
       "      <td>2.315682</td>\n",
       "      <td>-1.0</td>\n",
       "      <td>-1</td>\n",
       "      <td>0</td>\n",
       "      <td>0</td>\n",
       "      <td>0</td>\n",
       "      <td>0</td>\n",
       "      <td>0</td>\n",
       "      <td>0</td>\n",
       "      <td>0</td>\n",
       "      <td>0</td>\n",
       "      <td>0</td>\n",
       "      <td>0</td>\n",
       "      <td>0</td>\n",
       "      <td>1</td>\n",
       "    </tr>\n",
       "  </tbody>\n",
       "</table>\n",
       "</div>"
      ],
      "text/plain": [
       "                         nom   latitude  longitude  note  prix  \\\n",
       "31842            Le Fontenoy  48.846563   2.436680   4.2    -1   \n",
       "31843     Nguyen Thi Kim Yen  48.823525   2.365705  -1.0    -1   \n",
       "31844             Café Louis  48.891144   2.287485   4.3    -1   \n",
       "31845                 M Et M  48.893766   2.291187  -1.0    -1   \n",
       "31846  Le Chalet Des Gaufres  48.842283   2.424079   3.4    -1   \n",
       "31847          Le Rallye Bar  48.858395   2.425150  -1.0    -1   \n",
       "31848         lotus de chine  48.914816   2.382295  -1.0    -1   \n",
       "31849            King George  48.874817   2.341561   4.1    -1   \n",
       "31850            Le Révérend  48.914967   2.286391   4.5    -1   \n",
       "31851           Avern' Store  48.900784   2.315682  -1.0    -1   \n",
       "\n",
       "       furniture_store  laundry  bakery  cafe  home_goods_store  \\\n",
       "31842                0        0       0     0                 0   \n",
       "31843                0        0       0     0                 0   \n",
       "31844                0        0       0     0                 0   \n",
       "31845                0        0       0     0                 0   \n",
       "31846                0        0       0     0                 0   \n",
       "31847                0        0       0     0                 0   \n",
       "31848                0        0       0     0                 0   \n",
       "31849                0        0       0     0                 0   \n",
       "31850                0        0       0     0                 0   \n",
       "31851                0        0       0     0                 0   \n",
       "\n",
       "       clothing_store  atm  lodging  night_club  convenience_store  \\\n",
       "31842               0    0        0           0                  0   \n",
       "31843               0    0        0           0                  0   \n",
       "31844               0    0        0           0                  0   \n",
       "31845               0    0        0           0                  0   \n",
       "31846               0    0        0           0                  0   \n",
       "31847               0    0        0           0                  0   \n",
       "31848               0    0        0           0                  0   \n",
       "31849               0    0        0           0                  0   \n",
       "31850               0    0        0           0                  0   \n",
       "31851               0    0        0           0                  0   \n",
       "\n",
       "       restaurant  bar  \n",
       "31842           0    1  \n",
       "31843           1    1  \n",
       "31844           0    1  \n",
       "31845           0    1  \n",
       "31846           0    1  \n",
       "31847           0    1  \n",
       "31848           0    1  \n",
       "31849           1    1  \n",
       "31850           0    1  \n",
       "31851           0    1  "
      ]
     },
     "execution_count": 9,
     "metadata": {},
     "output_type": "execute_result"
    }
   ],
   "source": [
    "tableau_poi.tail(10)"
   ]
  },
  {
   "cell_type": "markdown",
   "id": "c0288de4",
   "metadata": {},
   "source": [
    "<div class=\"alert alert-block alert-info\">\n",
    "    Exécuter le bloc suivant pour visualiser la colonne des <code>'nom'</code>s.\n",
    "</div>"
   ]
  },
  {
   "cell_type": "code",
   "execution_count": 10,
   "id": "fixed-sunset",
   "metadata": {
    "scrolled": true
   },
   "outputs": [
    {
     "data": {
      "text/plain": [
       "0                               Unopiu\n",
       "1                  Olivier Hutzemakers\n",
       "2                               Téodor\n",
       "3                         Féau and Co.\n",
       "4        Patoux Florence Marie-therese\n",
       "                     ...              \n",
       "31847                    Le Rallye Bar\n",
       "31848                   lotus de chine\n",
       "31849                      King George\n",
       "31850                      Le Révérend\n",
       "31851                     Avern' Store\n",
       "Name: nom, Length: 31852, dtype: object"
      ]
     },
     "execution_count": 10,
     "metadata": {},
     "output_type": "execute_result"
    }
   ],
   "source": [
    "tableau_poi['nom']"
   ]
  },
  {
   "cell_type": "markdown",
   "id": "8ec6b11d",
   "metadata": {},
   "source": [
    "<div class=\"alert alert-block alert-info\">\n",
    "    Exécuter le bloc suivant pour visualiser le sous-tableau constitué uniquement des colonnes <code>'longitude'</code> et <code>latitude</code>.\n",
    "</div>"
   ]
  },
  {
   "cell_type": "code",
   "execution_count": 11,
   "id": "invalid-typing",
   "metadata": {
    "scrolled": true
   },
   "outputs": [
    {
     "data": {
      "text/html": [
       "<div>\n",
       "<style scoped>\n",
       "    .dataframe tbody tr th:only-of-type {\n",
       "        vertical-align: middle;\n",
       "    }\n",
       "\n",
       "    .dataframe tbody tr th {\n",
       "        vertical-align: top;\n",
       "    }\n",
       "\n",
       "    .dataframe thead th {\n",
       "        text-align: right;\n",
       "    }\n",
       "</style>\n",
       "<table border=\"1\" class=\"dataframe\">\n",
       "  <thead>\n",
       "    <tr style=\"text-align: right;\">\n",
       "      <th></th>\n",
       "      <th>longitude</th>\n",
       "      <th>latitude</th>\n",
       "    </tr>\n",
       "  </thead>\n",
       "  <tbody>\n",
       "    <tr>\n",
       "      <th>0</th>\n",
       "      <td>2.331637</td>\n",
       "      <td>48.866632</td>\n",
       "    </tr>\n",
       "    <tr>\n",
       "      <th>1</th>\n",
       "      <td>2.339881</td>\n",
       "      <td>48.903289</td>\n",
       "    </tr>\n",
       "    <tr>\n",
       "      <th>2</th>\n",
       "      <td>2.375378</td>\n",
       "      <td>48.847633</td>\n",
       "    </tr>\n",
       "    <tr>\n",
       "      <th>3</th>\n",
       "      <td>2.297154</td>\n",
       "      <td>48.879841</td>\n",
       "    </tr>\n",
       "    <tr>\n",
       "      <th>4</th>\n",
       "      <td>2.309074</td>\n",
       "      <td>48.827933</td>\n",
       "    </tr>\n",
       "    <tr>\n",
       "      <th>...</th>\n",
       "      <td>...</td>\n",
       "      <td>...</td>\n",
       "    </tr>\n",
       "    <tr>\n",
       "      <th>31847</th>\n",
       "      <td>2.425150</td>\n",
       "      <td>48.858395</td>\n",
       "    </tr>\n",
       "    <tr>\n",
       "      <th>31848</th>\n",
       "      <td>2.382295</td>\n",
       "      <td>48.914816</td>\n",
       "    </tr>\n",
       "    <tr>\n",
       "      <th>31849</th>\n",
       "      <td>2.341561</td>\n",
       "      <td>48.874817</td>\n",
       "    </tr>\n",
       "    <tr>\n",
       "      <th>31850</th>\n",
       "      <td>2.286391</td>\n",
       "      <td>48.914967</td>\n",
       "    </tr>\n",
       "    <tr>\n",
       "      <th>31851</th>\n",
       "      <td>2.315682</td>\n",
       "      <td>48.900784</td>\n",
       "    </tr>\n",
       "  </tbody>\n",
       "</table>\n",
       "<p>31852 rows × 2 columns</p>\n",
       "</div>"
      ],
      "text/plain": [
       "       longitude   latitude\n",
       "0       2.331637  48.866632\n",
       "1       2.339881  48.903289\n",
       "2       2.375378  48.847633\n",
       "3       2.297154  48.879841\n",
       "4       2.309074  48.827933\n",
       "...          ...        ...\n",
       "31847   2.425150  48.858395\n",
       "31848   2.382295  48.914816\n",
       "31849   2.341561  48.874817\n",
       "31850   2.286391  48.914967\n",
       "31851   2.315682  48.900784\n",
       "\n",
       "[31852 rows x 2 columns]"
      ]
     },
     "execution_count": 11,
     "metadata": {},
     "output_type": "execute_result"
    }
   ],
   "source": [
    "tableau_poi[['longitude','latitude']]"
   ]
  },
  {
   "cell_type": "markdown",
   "id": "ff4d60ae",
   "metadata": {},
   "source": [
    "<div class=\"alert alert-block alert-info\">\n",
    "    Exécuter le bloc suivant pour visualiser la première ligne du tableau.\n",
    "</div>"
   ]
  },
  {
   "cell_type": "code",
   "execution_count": 12,
   "id": "electoral-slave",
   "metadata": {
    "scrolled": true
   },
   "outputs": [
    {
     "data": {
      "text/plain": [
       "nom                     Unopiu\n",
       "latitude             48.866632\n",
       "longitude             2.331637\n",
       "note                       2.2\n",
       "prix                        -1\n",
       "furniture_store              1\n",
       "laundry                      0\n",
       "bakery                       0\n",
       "cafe                         0\n",
       "home_goods_store             1\n",
       "clothing_store               0\n",
       "atm                          0\n",
       "lodging                      0\n",
       "night_club                   0\n",
       "convenience_store            0\n",
       "restaurant                   0\n",
       "bar                          0\n",
       "Name: 0, dtype: object"
      ]
     },
     "execution_count": 12,
     "metadata": {},
     "output_type": "execute_result"
    }
   ],
   "source": [
    "tableau_poi.iloc[0]"
   ]
  },
  {
   "cell_type": "markdown",
   "id": "28cdc031",
   "metadata": {},
   "source": [
    "<div class=\"alert alert-block alert-info\">\n",
    "    Exécuter le bloc suivant pour visualiser les 4 premières lignes du tableau.\n",
    "</div>"
   ]
  },
  {
   "cell_type": "code",
   "execution_count": 13,
   "id": "characteristic-taylor",
   "metadata": {
    "scrolled": true
   },
   "outputs": [
    {
     "data": {
      "text/html": [
       "<div>\n",
       "<style scoped>\n",
       "    .dataframe tbody tr th:only-of-type {\n",
       "        vertical-align: middle;\n",
       "    }\n",
       "\n",
       "    .dataframe tbody tr th {\n",
       "        vertical-align: top;\n",
       "    }\n",
       "\n",
       "    .dataframe thead th {\n",
       "        text-align: right;\n",
       "    }\n",
       "</style>\n",
       "<table border=\"1\" class=\"dataframe\">\n",
       "  <thead>\n",
       "    <tr style=\"text-align: right;\">\n",
       "      <th></th>\n",
       "      <th>nom</th>\n",
       "      <th>latitude</th>\n",
       "      <th>longitude</th>\n",
       "      <th>note</th>\n",
       "      <th>prix</th>\n",
       "      <th>furniture_store</th>\n",
       "      <th>laundry</th>\n",
       "      <th>bakery</th>\n",
       "      <th>cafe</th>\n",
       "      <th>home_goods_store</th>\n",
       "      <th>clothing_store</th>\n",
       "      <th>atm</th>\n",
       "      <th>lodging</th>\n",
       "      <th>night_club</th>\n",
       "      <th>convenience_store</th>\n",
       "      <th>restaurant</th>\n",
       "      <th>bar</th>\n",
       "    </tr>\n",
       "  </thead>\n",
       "  <tbody>\n",
       "    <tr>\n",
       "      <th>0</th>\n",
       "      <td>Unopiu</td>\n",
       "      <td>48.866632</td>\n",
       "      <td>2.331637</td>\n",
       "      <td>2.2</td>\n",
       "      <td>-1</td>\n",
       "      <td>1</td>\n",
       "      <td>0</td>\n",
       "      <td>0</td>\n",
       "      <td>0</td>\n",
       "      <td>1</td>\n",
       "      <td>0</td>\n",
       "      <td>0</td>\n",
       "      <td>0</td>\n",
       "      <td>0</td>\n",
       "      <td>0</td>\n",
       "      <td>0</td>\n",
       "      <td>0</td>\n",
       "    </tr>\n",
       "    <tr>\n",
       "      <th>1</th>\n",
       "      <td>Olivier Hutzemakers</td>\n",
       "      <td>48.903289</td>\n",
       "      <td>2.339881</td>\n",
       "      <td>-1.0</td>\n",
       "      <td>-1</td>\n",
       "      <td>1</td>\n",
       "      <td>0</td>\n",
       "      <td>0</td>\n",
       "      <td>0</td>\n",
       "      <td>1</td>\n",
       "      <td>0</td>\n",
       "      <td>0</td>\n",
       "      <td>0</td>\n",
       "      <td>0</td>\n",
       "      <td>0</td>\n",
       "      <td>0</td>\n",
       "      <td>0</td>\n",
       "    </tr>\n",
       "    <tr>\n",
       "      <th>2</th>\n",
       "      <td>Téodor</td>\n",
       "      <td>48.847633</td>\n",
       "      <td>2.375378</td>\n",
       "      <td>-1.0</td>\n",
       "      <td>-1</td>\n",
       "      <td>1</td>\n",
       "      <td>0</td>\n",
       "      <td>0</td>\n",
       "      <td>0</td>\n",
       "      <td>1</td>\n",
       "      <td>0</td>\n",
       "      <td>0</td>\n",
       "      <td>0</td>\n",
       "      <td>0</td>\n",
       "      <td>0</td>\n",
       "      <td>0</td>\n",
       "      <td>0</td>\n",
       "    </tr>\n",
       "    <tr>\n",
       "      <th>3</th>\n",
       "      <td>Féau and Co.</td>\n",
       "      <td>48.879841</td>\n",
       "      <td>2.297154</td>\n",
       "      <td>5.0</td>\n",
       "      <td>-1</td>\n",
       "      <td>1</td>\n",
       "      <td>0</td>\n",
       "      <td>0</td>\n",
       "      <td>0</td>\n",
       "      <td>1</td>\n",
       "      <td>0</td>\n",
       "      <td>0</td>\n",
       "      <td>0</td>\n",
       "      <td>0</td>\n",
       "      <td>0</td>\n",
       "      <td>0</td>\n",
       "      <td>0</td>\n",
       "    </tr>\n",
       "  </tbody>\n",
       "</table>\n",
       "</div>"
      ],
      "text/plain": [
       "                   nom   latitude  longitude  note  prix  furniture_store  \\\n",
       "0               Unopiu  48.866632   2.331637   2.2    -1                1   \n",
       "1  Olivier Hutzemakers  48.903289   2.339881  -1.0    -1                1   \n",
       "2               Téodor  48.847633   2.375378  -1.0    -1                1   \n",
       "3         Féau and Co.  48.879841   2.297154   5.0    -1                1   \n",
       "\n",
       "   laundry  bakery  cafe  home_goods_store  clothing_store  atm  lodging  \\\n",
       "0        0       0     0                 1               0    0        0   \n",
       "1        0       0     0                 1               0    0        0   \n",
       "2        0       0     0                 1               0    0        0   \n",
       "3        0       0     0                 1               0    0        0   \n",
       "\n",
       "   night_club  convenience_store  restaurant  bar  \n",
       "0           0                  0           0    0  \n",
       "1           0                  0           0    0  \n",
       "2           0                  0           0    0  \n",
       "3           0                  0           0    0  "
      ]
     },
     "execution_count": 13,
     "metadata": {},
     "output_type": "execute_result"
    }
   ],
   "source": [
    "tableau_poi.iloc[0:4]"
   ]
  },
  {
   "cell_type": "markdown",
   "id": "d06cc92f",
   "metadata": {},
   "source": [
    "<div class=\"alert alert-block alert-info\">\n",
    "    Exécuter le bloc suivant pour visualiser le <code>'nom'</code> de l'individu situé à la troisième ligne en partant du bas.\n",
    "</div>"
   ]
  },
  {
   "cell_type": "code",
   "execution_count": 14,
   "id": "dried-father",
   "metadata": {
    "scrolled": true
   },
   "outputs": [
    {
     "data": {
      "text/plain": [
       "'King George'"
      ]
     },
     "execution_count": 14,
     "metadata": {},
     "output_type": "execute_result"
    }
   ],
   "source": [
    "tableau_poi['nom'].iloc[-3]"
   ]
  },
  {
   "cell_type": "markdown",
   "id": "e5eed647",
   "metadata": {},
   "source": [
    "<div class=\"alert alert-block alert-info\">\n",
    "    Exécuter le bloc suivant pour vérifier qu'on obtient la même chose en sélectionnant la ligne en premier, puis la colonne.\n",
    "</div>"
   ]
  },
  {
   "cell_type": "code",
   "execution_count": 15,
   "id": "elementary-mention",
   "metadata": {
    "scrolled": true
   },
   "outputs": [
    {
     "data": {
      "text/plain": [
       "'King George'"
      ]
     },
     "execution_count": 15,
     "metadata": {},
     "output_type": "execute_result"
    }
   ],
   "source": [
    "tableau_poi.iloc[-3]['nom']"
   ]
  },
  {
   "cell_type": "markdown",
   "id": "restricted-simon",
   "metadata": {},
   "source": [
    "<div class=\"alert alert-block alert-warning\">\n",
    "Pour plus de facilité, on peut sauvegarder les noms d'une partie des colonnes dans une liste afin de ne manipuler qu'une partie du tableau.\n",
    "</div>"
   ]
  },
  {
   "cell_type": "markdown",
   "id": "1b6832a3",
   "metadata": {},
   "source": [
    "<div class=\"alert alert-block alert-info\">\n",
    "    Exécuter le bloc suivant pour sauvegarder dans une variable <code>types</code> les dernières colonnes qui correspondent uniquement aux types de lieux.\n",
    "</div>"
   ]
  },
  {
   "cell_type": "code",
   "execution_count": 16,
   "id": "christian-commission",
   "metadata": {},
   "outputs": [],
   "source": [
    "types = tableau_poi.columns[5:]"
   ]
  },
  {
   "cell_type": "markdown",
   "id": "44fa635c",
   "metadata": {},
   "source": [
    "<div class=\"alert alert-block alert-info\">\n",
    "    Exécuter le bloc suivant pour visualiser le contenu de la variable <code>types</code>.\n",
    "</div>"
   ]
  },
  {
   "cell_type": "code",
   "execution_count": 17,
   "id": "canadian-funds",
   "metadata": {
    "scrolled": true
   },
   "outputs": [
    {
     "data": {
      "text/plain": [
       "Index(['furniture_store', 'laundry', 'bakery', 'cafe', 'home_goods_store',\n",
       "       'clothing_store', 'atm', 'lodging', 'night_club', 'convenience_store',\n",
       "       'restaurant', 'bar'],\n",
       "      dtype='object')"
      ]
     },
     "execution_count": 17,
     "metadata": {},
     "output_type": "execute_result"
    }
   ],
   "source": [
    "types"
   ]
  },
  {
   "cell_type": "markdown",
   "id": "d5ec3e40",
   "metadata": {},
   "source": [
    "<div class=\"alert alert-block alert-info\">\n",
    "    Exécuter le bloc suivant pour visualiser le sous-tableau constitué uniquement des colonnes dont les intitulés sont dans <code>types</code>.\n",
    "</div>"
   ]
  },
  {
   "cell_type": "code",
   "execution_count": 18,
   "id": "employed-consultation",
   "metadata": {},
   "outputs": [
    {
     "data": {
      "text/html": [
       "<div>\n",
       "<style scoped>\n",
       "    .dataframe tbody tr th:only-of-type {\n",
       "        vertical-align: middle;\n",
       "    }\n",
       "\n",
       "    .dataframe tbody tr th {\n",
       "        vertical-align: top;\n",
       "    }\n",
       "\n",
       "    .dataframe thead th {\n",
       "        text-align: right;\n",
       "    }\n",
       "</style>\n",
       "<table border=\"1\" class=\"dataframe\">\n",
       "  <thead>\n",
       "    <tr style=\"text-align: right;\">\n",
       "      <th></th>\n",
       "      <th>furniture_store</th>\n",
       "      <th>laundry</th>\n",
       "      <th>bakery</th>\n",
       "      <th>cafe</th>\n",
       "      <th>home_goods_store</th>\n",
       "      <th>clothing_store</th>\n",
       "      <th>atm</th>\n",
       "      <th>lodging</th>\n",
       "      <th>night_club</th>\n",
       "      <th>convenience_store</th>\n",
       "      <th>restaurant</th>\n",
       "      <th>bar</th>\n",
       "    </tr>\n",
       "  </thead>\n",
       "  <tbody>\n",
       "    <tr>\n",
       "      <th>0</th>\n",
       "      <td>1</td>\n",
       "      <td>0</td>\n",
       "      <td>0</td>\n",
       "      <td>0</td>\n",
       "      <td>1</td>\n",
       "      <td>0</td>\n",
       "      <td>0</td>\n",
       "      <td>0</td>\n",
       "      <td>0</td>\n",
       "      <td>0</td>\n",
       "      <td>0</td>\n",
       "      <td>0</td>\n",
       "    </tr>\n",
       "    <tr>\n",
       "      <th>1</th>\n",
       "      <td>1</td>\n",
       "      <td>0</td>\n",
       "      <td>0</td>\n",
       "      <td>0</td>\n",
       "      <td>1</td>\n",
       "      <td>0</td>\n",
       "      <td>0</td>\n",
       "      <td>0</td>\n",
       "      <td>0</td>\n",
       "      <td>0</td>\n",
       "      <td>0</td>\n",
       "      <td>0</td>\n",
       "    </tr>\n",
       "    <tr>\n",
       "      <th>2</th>\n",
       "      <td>1</td>\n",
       "      <td>0</td>\n",
       "      <td>0</td>\n",
       "      <td>0</td>\n",
       "      <td>1</td>\n",
       "      <td>0</td>\n",
       "      <td>0</td>\n",
       "      <td>0</td>\n",
       "      <td>0</td>\n",
       "      <td>0</td>\n",
       "      <td>0</td>\n",
       "      <td>0</td>\n",
       "    </tr>\n",
       "    <tr>\n",
       "      <th>3</th>\n",
       "      <td>1</td>\n",
       "      <td>0</td>\n",
       "      <td>0</td>\n",
       "      <td>0</td>\n",
       "      <td>1</td>\n",
       "      <td>0</td>\n",
       "      <td>0</td>\n",
       "      <td>0</td>\n",
       "      <td>0</td>\n",
       "      <td>0</td>\n",
       "      <td>0</td>\n",
       "      <td>0</td>\n",
       "    </tr>\n",
       "    <tr>\n",
       "      <th>4</th>\n",
       "      <td>1</td>\n",
       "      <td>0</td>\n",
       "      <td>0</td>\n",
       "      <td>0</td>\n",
       "      <td>1</td>\n",
       "      <td>0</td>\n",
       "      <td>0</td>\n",
       "      <td>0</td>\n",
       "      <td>0</td>\n",
       "      <td>0</td>\n",
       "      <td>0</td>\n",
       "      <td>0</td>\n",
       "    </tr>\n",
       "    <tr>\n",
       "      <th>...</th>\n",
       "      <td>...</td>\n",
       "      <td>...</td>\n",
       "      <td>...</td>\n",
       "      <td>...</td>\n",
       "      <td>...</td>\n",
       "      <td>...</td>\n",
       "      <td>...</td>\n",
       "      <td>...</td>\n",
       "      <td>...</td>\n",
       "      <td>...</td>\n",
       "      <td>...</td>\n",
       "      <td>...</td>\n",
       "    </tr>\n",
       "    <tr>\n",
       "      <th>31847</th>\n",
       "      <td>0</td>\n",
       "      <td>0</td>\n",
       "      <td>0</td>\n",
       "      <td>0</td>\n",
       "      <td>0</td>\n",
       "      <td>0</td>\n",
       "      <td>0</td>\n",
       "      <td>0</td>\n",
       "      <td>0</td>\n",
       "      <td>0</td>\n",
       "      <td>0</td>\n",
       "      <td>1</td>\n",
       "    </tr>\n",
       "    <tr>\n",
       "      <th>31848</th>\n",
       "      <td>0</td>\n",
       "      <td>0</td>\n",
       "      <td>0</td>\n",
       "      <td>0</td>\n",
       "      <td>0</td>\n",
       "      <td>0</td>\n",
       "      <td>0</td>\n",
       "      <td>0</td>\n",
       "      <td>0</td>\n",
       "      <td>0</td>\n",
       "      <td>0</td>\n",
       "      <td>1</td>\n",
       "    </tr>\n",
       "    <tr>\n",
       "      <th>31849</th>\n",
       "      <td>0</td>\n",
       "      <td>0</td>\n",
       "      <td>0</td>\n",
       "      <td>0</td>\n",
       "      <td>0</td>\n",
       "      <td>0</td>\n",
       "      <td>0</td>\n",
       "      <td>0</td>\n",
       "      <td>0</td>\n",
       "      <td>0</td>\n",
       "      <td>1</td>\n",
       "      <td>1</td>\n",
       "    </tr>\n",
       "    <tr>\n",
       "      <th>31850</th>\n",
       "      <td>0</td>\n",
       "      <td>0</td>\n",
       "      <td>0</td>\n",
       "      <td>0</td>\n",
       "      <td>0</td>\n",
       "      <td>0</td>\n",
       "      <td>0</td>\n",
       "      <td>0</td>\n",
       "      <td>0</td>\n",
       "      <td>0</td>\n",
       "      <td>0</td>\n",
       "      <td>1</td>\n",
       "    </tr>\n",
       "    <tr>\n",
       "      <th>31851</th>\n",
       "      <td>0</td>\n",
       "      <td>0</td>\n",
       "      <td>0</td>\n",
       "      <td>0</td>\n",
       "      <td>0</td>\n",
       "      <td>0</td>\n",
       "      <td>0</td>\n",
       "      <td>0</td>\n",
       "      <td>0</td>\n",
       "      <td>0</td>\n",
       "      <td>0</td>\n",
       "      <td>1</td>\n",
       "    </tr>\n",
       "  </tbody>\n",
       "</table>\n",
       "<p>31852 rows × 12 columns</p>\n",
       "</div>"
      ],
      "text/plain": [
       "       furniture_store  laundry  bakery  cafe  home_goods_store  \\\n",
       "0                    1        0       0     0                 1   \n",
       "1                    1        0       0     0                 1   \n",
       "2                    1        0       0     0                 1   \n",
       "3                    1        0       0     0                 1   \n",
       "4                    1        0       0     0                 1   \n",
       "...                ...      ...     ...   ...               ...   \n",
       "31847                0        0       0     0                 0   \n",
       "31848                0        0       0     0                 0   \n",
       "31849                0        0       0     0                 0   \n",
       "31850                0        0       0     0                 0   \n",
       "31851                0        0       0     0                 0   \n",
       "\n",
       "       clothing_store  atm  lodging  night_club  convenience_store  \\\n",
       "0                   0    0        0           0                  0   \n",
       "1                   0    0        0           0                  0   \n",
       "2                   0    0        0           0                  0   \n",
       "3                   0    0        0           0                  0   \n",
       "4                   0    0        0           0                  0   \n",
       "...               ...  ...      ...         ...                ...   \n",
       "31847               0    0        0           0                  0   \n",
       "31848               0    0        0           0                  0   \n",
       "31849               0    0        0           0                  0   \n",
       "31850               0    0        0           0                  0   \n",
       "31851               0    0        0           0                  0   \n",
       "\n",
       "       restaurant  bar  \n",
       "0               0    0  \n",
       "1               0    0  \n",
       "2               0    0  \n",
       "3               0    0  \n",
       "4               0    0  \n",
       "...           ...  ...  \n",
       "31847           0    1  \n",
       "31848           0    1  \n",
       "31849           1    1  \n",
       "31850           0    1  \n",
       "31851           0    1  \n",
       "\n",
       "[31852 rows x 12 columns]"
      ]
     },
     "execution_count": 18,
     "metadata": {},
     "output_type": "execute_result"
    }
   ],
   "source": [
    "tableau_poi[types]"
   ]
  },
  {
   "cell_type": "markdown",
   "id": "actual-truth",
   "metadata": {},
   "source": [
    "## 3 - Inspection et manipulation élémentaire du contenu (NumPy)\n",
    "\n",
    "<div class=\"alert alert-block alert-warning\">\n",
    "Beaucoup d'opérations sont disponibles pour manipuler le contenu d'un tableau et/ou d'une colonne. Nous allons voir dans la suite uniquement les plus importantes.\n",
    "    \n",
    "Même si elles peuvent directement être appelées sous forme de méthodes en Pandas, nous allons plutôt utiliser les fonctions de la bibliothèque Numpy pour réaliser ces opérations.\n",
    "\n",
    "On peut tout d'abord obtenir un certain nombre d'informations sur le contenu : \n",
    "* les fonctions `np.max()` et `np.min()`  sur un tableau permettent de connaître la valeur minimale et maximale\n",
    "* la fonction `np.unique()` sur une colonne renvoie la liste des valeurs uniques d'une colonne\n",
    "\n",
    "On peut également manipuler le contenu : \n",
    "* la fonction  `np.abs()` sur une colonne renvoie les valeur absolues du contenu\n",
    "* la fonction `np.round()` sur une colonne renvoie les arrondis du contenu\n",
    "* la fonction `np.sum()` retourne la somme de tous les éléments\n",
    "</div>"
   ]
  },
  {
   "cell_type": "markdown",
   "id": "b9ec9258",
   "metadata": {},
   "source": [
    "<div class=\"alert alert-block alert-info\">\n",
    "    Exécuter le bloc suivant pour importer la bibliotèque Numpy.\n",
    "</div>"
   ]
  },
  {
   "cell_type": "code",
   "execution_count": 19,
   "id": "e8b143b9",
   "metadata": {},
   "outputs": [],
   "source": [
    "import numpy as np"
   ]
  },
  {
   "cell_type": "markdown",
   "id": "1956bbf6",
   "metadata": {},
   "source": [
    "<div class=\"alert alert-block alert-info\">\n",
    "    Exécuter le bloc suivant pour voir le minimum de la colonne <code>'atm'</code>.\n",
    "</div>"
   ]
  },
  {
   "cell_type": "code",
   "execution_count": 20,
   "id": "a867bb05",
   "metadata": {},
   "outputs": [
    {
     "data": {
      "text/plain": [
       "0"
      ]
     },
     "execution_count": 20,
     "metadata": {},
     "output_type": "execute_result"
    }
   ],
   "source": [
    "np.min(tableau_poi['atm'])"
   ]
  },
  {
   "cell_type": "markdown",
   "id": "915ab02c",
   "metadata": {},
   "source": [
    "<div class=\"alert alert-block alert-info\">\n",
    "    Exécuter le bloc suivant pour voir le maximum de la colonne <code>'atm'</code>.\n",
    "</div>"
   ]
  },
  {
   "cell_type": "code",
   "execution_count": 21,
   "id": "00ec64f4",
   "metadata": {},
   "outputs": [
    {
     "data": {
      "text/plain": [
       "1"
      ]
     },
     "execution_count": 21,
     "metadata": {},
     "output_type": "execute_result"
    }
   ],
   "source": [
    "np.max(tableau_poi['atm'])"
   ]
  },
  {
   "cell_type": "markdown",
   "id": "393afcb9",
   "metadata": {},
   "source": [
    "<div class=\"alert alert-block alert-info\">\n",
    "    Exécuter le bloc suivant pour voir toutes les valeurs différentes de la colonne <code>'atm'</code>.\n",
    "</div>"
   ]
  },
  {
   "cell_type": "code",
   "execution_count": 22,
   "id": "placed-proof",
   "metadata": {},
   "outputs": [
    {
     "data": {
      "text/plain": [
       "array([0, 1])"
      ]
     },
     "execution_count": 22,
     "metadata": {},
     "output_type": "execute_result"
    }
   ],
   "source": [
    "np.unique(tableau_poi['atm'])"
   ]
  },
  {
   "cell_type": "markdown",
   "id": "a02e0832",
   "metadata": {},
   "source": [
    "<div class=\"alert alert-block alert-info\">\n",
    "    Exécuter le bloc suivant pour voir toutes les valeurs uniques des <code>'longitude'</code>s arrondies.\n",
    "</div>"
   ]
  },
  {
   "cell_type": "code",
   "execution_count": 23,
   "id": "solved-combine",
   "metadata": {},
   "outputs": [
    {
     "data": {
      "text/plain": [
       "array([2.])"
      ]
     },
     "execution_count": 23,
     "metadata": {},
     "output_type": "execute_result"
    }
   ],
   "source": [
    "# On arrondit les longitudes puis on garde les valeurs uniques\n",
    "np.unique(np.round(tableau_poi['longitude']))"
   ]
  },
  {
   "cell_type": "markdown",
   "id": "a5293cb0",
   "metadata": {},
   "source": [
    "<div class=\"alert alert-block alert-info\">\n",
    "    Exécuter le bloc suivant pour voir la somme des valeurs de la colonne <code>'atm'</code>. Qu'indique le résultat ?\n",
    "</div>"
   ]
  },
  {
   "cell_type": "code",
   "execution_count": 24,
   "id": "invisible-brief",
   "metadata": {},
   "outputs": [
    {
     "data": {
      "text/plain": [
       "1105"
      ]
     },
     "execution_count": 24,
     "metadata": {},
     "output_type": "execute_result"
    }
   ],
   "source": [
    "np.sum(tableau_poi['atm'])"
   ]
  },
  {
   "cell_type": "markdown",
   "id": "waiting-edmonton",
   "metadata": {},
   "source": [
    "## 4 - Sélection de lignes (Pandas)\n",
    "\n",
    "<div class=\"alert alert-block alert-warning\">\n",
    "Un des grands avantages de Pandas est sa capacité à sélectionner une sous-partie des données de manière très efficace et simple. Il suffit de préciser les conditions voulues sur les colonnes avec les opérateurs : <code><, >, <=, >=, ==, !=</code> : \n",
    "<ul>\n",
    "<li> <code>tableau_poi[tableau_poi['note'] > 1]</code> pour sélectionner les lieux avec une note supérieure à 1</li>\n",
    "<li> <code>tableau_poi[tableau_poi['note'] <= 3]</code> pour sélectionner les lieux avec une note inférieure ou égale à 3</li>\n",
    "<li> <code>tableau_poi[tableau_poi['note'] == 2]</code> pour sélectionner les lieux avec une note égale à 2</li>\n",
    "<li> <code>tableau_poi[tableau_poi['note'] != 2]</code> pour sélectionner les lieux avec une note différente de 2</li>\n",
    "</ul>\n",
    "    \n",
    "Les conditions peuvent être combinées avec  :\n",
    "* le *et* logique `&` :  `tableau_poi[(tableau_poi['note']>=1) & (tableau_poi['note']<=3)]` pour les lieux avec une note entre 1 et 3\n",
    "* le *ou* logique `|` :   `tableau_poi[(tableau_poi['note']==1) | (tableau_poi['note']==3)]` pour les lieux avec une note de 1 ou de 3\n",
    "* la *négation* logique `~` : `tableau_poi[~((tableau_poi['note']==1) | (tableau_poi['note']==3))]` pour les lieux de note ni de 1 ou de 3\n",
    "\n",
    "Le résultat peut être bien sûr stocké dans une autre variable pour des manipulations ultérieures.\n",
    "                                                                                           </div>"
   ]
  },
  {
   "cell_type": "markdown",
   "id": "indie-champion",
   "metadata": {},
   "source": [
    "## 5 - Exercices : introspection des données\n"
   ]
  },
  {
   "cell_type": "markdown",
   "id": "a34859362",
   "metadata": {},
   "source": [
    "<div class=\"alert alert-block alert-warning\">\n",
    "    Comme dit en introduction, les données chargées représentent des points d'intérêt dans Paris avec les informations du nom, des coordonnées spatiales, d'une note du lieu, d'un indice du prix et du type de lieu. Ces premières questions ont pour but de comprendre le codage de chaque colonne.\n",
    "</div>"
   ]
  },
  {
   "cell_type": "markdown",
   "id": "b7920964",
   "metadata": {},
   "source": [
    "<div class = \"alert alert-block alert-info\">\n",
    "    Q5.1 - Écrire une instruction qui permet de voir les entêtes de colonnes. \n",
    " </div>"
   ]
  },
  {
   "cell_type": "code",
   "execution_count": 25,
   "id": "fifteen-crime",
   "metadata": {},
   "outputs": [
    {
     "data": {
      "text/plain": [
       "Index(['nom', 'latitude', 'longitude', 'note', 'prix', 'furniture_store',\n",
       "       'laundry', 'bakery', 'cafe', 'home_goods_store', 'clothing_store',\n",
       "       'atm', 'lodging', 'night_club', 'convenience_store', 'restaurant',\n",
       "       'bar'],\n",
       "      dtype='object')"
      ]
     },
     "execution_count": 25,
     "metadata": {},
     "output_type": "execute_result"
    }
   ],
   "source": [
    "tableau_poi.columns"
   ]
  },
  {
   "cell_type": "markdown",
   "id": "8997d964",
   "metadata": {},
   "source": [
    "<div class = \"alert alert-block alert-info\">\n",
    "    Q5.2 - À l'aide de la fonction <code>np.unique()</code>, étudier chacune des colonnes suivantes en comptant le nombre de valeurs uniques. Commenter pour dire s'il s'agit d'une variable qualitative ou quantitative. \n",
    " </div>"
   ]
  },
  {
   "cell_type": "markdown",
   "id": "11548a1b",
   "metadata": {},
   "source": [
    "<div class = \"alert alert-block alert-info\">\n",
    "    Q5.2.a - <code>'latitude'</code>. \n",
    " </div>"
   ]
  },
  {
   "cell_type": "code",
   "execution_count": 26,
   "id": "161ca194",
   "metadata": {},
   "outputs": [
    {
     "name": "stdout",
     "output_type": "stream",
     "text": [
      "Total of len 'latitude': 29774\n",
      "\n",
      "[48.8060263 48.8060385 48.8060393 ... 48.9159691 48.9159808 48.9159876]\n"
     ]
    }
   ],
   "source": [
    "print(\"Total of len 'latitude':\",len(np.unique(tableau_poi[\"latitude\"])))\n",
    "print()\n",
    "print(np.unique(tableau_poi[\"latitude\"]))"
   ]
  },
  {
   "cell_type": "markdown",
   "id": "d05c13b8",
   "metadata": {},
   "source": [
    "Il s'agit d'une variable **quantitative**"
   ]
  },
  {
   "cell_type": "markdown",
   "id": "6123a531",
   "metadata": {},
   "source": [
    "<div class = \"alert alert-block alert-info\">\n",
    "    Q5.2.b - <code>'note'</code>. \n",
    " </div>"
   ]
  },
  {
   "cell_type": "code",
   "execution_count": 27,
   "id": "ef5e4a21",
   "metadata": {},
   "outputs": [
    {
     "name": "stdout",
     "output_type": "stream",
     "text": [
      "Total of len 'note': 42\n",
      "\n",
      "[-1.   1.   1.1  1.2  1.3  1.4  1.5  1.6  1.7  1.8  1.9  2.   2.1  2.2\n",
      "  2.3  2.4  2.5  2.6  2.7  2.8  2.9  3.   3.1  3.2  3.3  3.4  3.5  3.6\n",
      "  3.7  3.8  3.9  4.   4.1  4.2  4.3  4.4  4.5  4.6  4.7  4.8  4.9  5. ]\n"
     ]
    }
   ],
   "source": [
    "print(\"Total of len 'note':\",len(np.unique(tableau_poi[\"note\"])))\n",
    "print()\n",
    "print(np.unique(tableau_poi[\"note\"]))"
   ]
  },
  {
   "cell_type": "markdown",
   "id": "74064bbf",
   "metadata": {},
   "source": [
    "Il s'agit d'une variable **qualitative**"
   ]
  },
  {
   "cell_type": "markdown",
   "id": "z23af0486",
   "metadata": {},
   "source": [
    "<div class = \"alert alert-block alert-info\">\n",
    "    Q5.2.c - <code>'prix'</code>. \n",
    " </div>"
   ]
  },
  {
   "cell_type": "code",
   "execution_count": 28,
   "id": "3f5042bd",
   "metadata": {},
   "outputs": [
    {
     "name": "stdout",
     "output_type": "stream",
     "text": [
      "Total of len 'prix': 5\n",
      "\n",
      "[-1  1  2  3  4]\n"
     ]
    }
   ],
   "source": [
    "print(\"Total of len 'prix':\",len(np.unique(tableau_poi[\"prix\"])))\n",
    "print()\n",
    "print(np.unique(tableau_poi[\"prix\"]))"
   ]
  },
  {
   "cell_type": "markdown",
   "id": "d0517eb7",
   "metadata": {},
   "source": [
    "Il s'agit d'une variable **qualitative**"
   ]
  },
  {
   "cell_type": "markdown",
   "id": "1f25b158",
   "metadata": {},
   "source": [
    "<div class = \"alert alert-block alert-info\">\n",
    "    Q5.2.d - <code>'bakery'</code>. \n",
    " </div>"
   ]
  },
  {
   "cell_type": "code",
   "execution_count": 29,
   "id": "6a6ecc73",
   "metadata": {},
   "outputs": [
    {
     "name": "stdout",
     "output_type": "stream",
     "text": [
      "Total of len 'bakery': 2\n",
      "\n",
      "[0 1]\n"
     ]
    }
   ],
   "source": [
    "print(\"Total of len 'bakery':\",len(np.unique(tableau_poi[\"bakery\"])))\n",
    "print()\n",
    "print(np.unique(tableau_poi[\"bakery\"]))"
   ]
  },
  {
   "cell_type": "markdown",
   "id": "b346ad2f",
   "metadata": {},
   "source": [
    "Il s'agit d'une variable **qualitative**"
   ]
  },
  {
   "cell_type": "markdown",
   "id": "k74927677",
   "metadata": {},
   "source": [
    "<div class = \"alert alert-block alert-info\">\n",
    "    Q5.2.e - <code>'restaurant'</code>. \n",
    " </div>"
   ]
  },
  {
   "cell_type": "code",
   "execution_count": 30,
   "id": "82883a44",
   "metadata": {},
   "outputs": [
    {
     "name": "stdout",
     "output_type": "stream",
     "text": [
      "Total of len 'restaurant': 2\n",
      "\n",
      "[0 1]\n"
     ]
    }
   ],
   "source": [
    "print(\"Total of len 'restaurant':\",len(np.unique(tableau_poi[\"restaurant\"])))\n",
    "print()\n",
    "print(np.unique(tableau_poi[\"restaurant\"]))"
   ]
  },
  {
   "cell_type": "markdown",
   "id": "bba23d88",
   "metadata": {},
   "source": [
    "Il s'agit d'une variable **qualitative**"
   ]
  },
  {
   "cell_type": "markdown",
   "id": "certified-easter",
   "metadata": {},
   "source": [
    "<div class = \"alert alert-block alert-info\">\n",
    "    Q5.3.a - Quelles est la longitude minimale ?\n",
    "</div>"
   ]
  },
  {
   "cell_type": "code",
   "execution_count": 31,
   "id": "fce46a4e",
   "metadata": {},
   "outputs": [
    {
     "name": "stdout",
     "output_type": "stream",
     "text": [
      "longitude minimale: 2.2300034\n"
     ]
    }
   ],
   "source": [
    "print(\"longitude minimale:\",tableau_poi[\"longitude\"].min())"
   ]
  },
  {
   "cell_type": "markdown",
   "id": "09f21c34",
   "metadata": {},
   "source": [
    "<div class = \"alert alert-block alert-info\">\n",
    "    Q5.3.b - Quelles est la longitude maximale ?\n",
    "</div>"
   ]
  },
  {
   "cell_type": "code",
   "execution_count": 32,
   "id": "ef49d694",
   "metadata": {},
   "outputs": [
    {
     "name": "stdout",
     "output_type": "stream",
     "text": [
      "longitude maximale: 2.4799907\n"
     ]
    }
   ],
   "source": [
    "print(\"longitude maximale:\",tableau_poi[\"longitude\"].max())"
   ]
  },
  {
   "cell_type": "markdown",
   "id": "3d57f618",
   "metadata": {},
   "source": [
    "<div class = \"alert alert-block alert-info\">\n",
    "    Q5.3.c - Quelles est la latitude minimale ?\n",
    "</div>"
   ]
  },
  {
   "cell_type": "code",
   "execution_count": 33,
   "id": "fc300c18",
   "metadata": {},
   "outputs": [
    {
     "name": "stdout",
     "output_type": "stream",
     "text": [
      "latitude minimale: 48.80602630000001\n"
     ]
    }
   ],
   "source": [
    "print(\"latitude minimale:\",tableau_poi[\"latitude\"].min())"
   ]
  },
  {
   "cell_type": "markdown",
   "id": "0c310ff9",
   "metadata": {},
   "source": [
    "<div class = \"alert alert-block alert-info\">\n",
    "    Q5.3.d - Quelles est la latitude maximale ?\n",
    "</div>"
   ]
  },
  {
   "cell_type": "code",
   "execution_count": 34,
   "id": "bd59c581",
   "metadata": {},
   "outputs": [
    {
     "name": "stdout",
     "output_type": "stream",
     "text": [
      "latitude maximale: 48.9159876\n"
     ]
    }
   ],
   "source": [
    "print(\"latitude maximale:\",tableau_poi[\"latitude\"].max())"
   ]
  },
  {
   "cell_type": "markdown",
   "id": "alternative-sweet",
   "metadata": {},
   "source": [
    "<div class = \"alert alert-block alert-info\">\n",
    "Q5.4 - Quelles sont les différentes modalités possibles pour les variables indiquant le type du lieu ?  Écrire en commentaire ce qu'indiquent, à votre avis, ces valeurs.\n",
    "</div>"
   ]
  },
  {
   "cell_type": "markdown",
   "id": "7c6bd74c",
   "metadata": {},
   "source": [
    "À mon avis, il existe **2 modalités possibles** pour les variables indiquant le type du lieu: \n",
    "* soit 1 si c'est le type du lieu indiqué\n",
    "* soit 0 sinon"
   ]
  },
  {
   "cell_type": "markdown",
   "id": "conscious-fusion",
   "metadata": {},
   "source": [
    "<div class = \"alert alert-block alert-info\">\n",
    "Q5.5 - Sur quelle échelle est indiquée le prix ? Que signifie une valeur de -1 à votre avis ?  \n",
    "</div>"
   ]
  },
  {
   "cell_type": "markdown",
   "id": "f66acb2c",
   "metadata": {},
   "source": [
    "* Le prix est indiqué sur 5 échelles\n",
    "* À mon avis, -1 signifie qu'on n'a pas d'information concernant le prix de ce lieu"
   ]
  },
  {
   "cell_type": "markdown",
   "id": "crude-constraint",
   "metadata": {},
   "source": [
    "<div class = \"alert alert-block alert-info\">\n",
    "    Q5.6.a - Sélectionner uniquement les lignes où le prix est supérieur à 0 et les sauver dans une variable <code>tableau_prix</code>.\n",
    "</div>"
   ]
  },
  {
   "cell_type": "code",
   "execution_count": 35,
   "id": "palestinian-drink",
   "metadata": {},
   "outputs": [],
   "source": [
    "tableau_prix = tableau_poi[tableau_poi[\"prix\"] > 0]"
   ]
  },
  {
   "cell_type": "markdown",
   "id": "a0da91f1",
   "metadata": {},
   "source": [
    "<div class = \"alert alert-block alert-info\">\n",
    "    Q5.6.b - Combien de lieux correspondent à cette contrainte ? \n",
    "</div>"
   ]
  },
  {
   "cell_type": "code",
   "execution_count": 36,
   "id": "b6873004",
   "metadata": {},
   "outputs": [
    {
     "data": {
      "text/plain": [
       "723"
      ]
     },
     "execution_count": 36,
     "metadata": {},
     "output_type": "execute_result"
    }
   ],
   "source": [
    "len(tableau_prix)"
   ]
  },
  {
   "cell_type": "markdown",
   "id": "fabulous-heavy",
   "metadata": {},
   "source": [
    "<div class = \"alert alert-block alert-info\">\n",
    "    Q5.7 - À l'aide de la fonction <code>np.sum()</code> par exemple, calculer en une ligne le nombre de lieux avec un prix supérieur à 0 pour chaque type de lieu (ne pas oublier d'utiliser la variable `types` définie ci-dessus).\n",
    "</div>"
   ]
  },
  {
   "cell_type": "code",
   "execution_count": 37,
   "id": "dynamic-witness",
   "metadata": {},
   "outputs": [
    {
     "data": {
      "text/plain": [
       "nom                  AM.PM.Aaron'sWilliams-Sonoma franceLa Bovida M...\n",
       "latitude                                                  35327.859567\n",
       "longitude                                                  1685.044577\n",
       "note                                                            2629.2\n",
       "prix                                                              1684\n",
       "furniture_store                                                      6\n",
       "laundry                                                              0\n",
       "bakery                                                              62\n",
       "cafe                                                               101\n",
       "home_goods_store                                                    12\n",
       "clothing_store                                                     176\n",
       "atm                                                                  0\n",
       "lodging                                                             11\n",
       "night_club                                                           7\n",
       "convenience_store                                                    1\n",
       "restaurant                                                         413\n",
       "bar                                                                 88\n",
       "dtype: object"
      ]
     },
     "execution_count": 37,
     "metadata": {},
     "output_type": "execute_result"
    }
   ],
   "source": [
    "np.sum(tableau_prix)"
   ]
  },
  {
   "cell_type": "markdown",
   "id": "8b609772",
   "metadata": {},
   "source": [
    "<div class = \"alert alert-block alert-info\">\n",
    "Q5.8 - Combien y a-t-il : \n",
    "</div>"
   ]
  },
  {
   "cell_type": "markdown",
   "id": "829327b4",
   "metadata": {},
   "source": [
    "<div class = \"alert alert-block alert-info\">\n",
    "Q5.8.a - de restaurants ? \n",
    "</div>"
   ]
  },
  {
   "cell_type": "code",
   "execution_count": 38,
   "id": "64f4d785",
   "metadata": {},
   "outputs": [
    {
     "data": {
      "text/plain": [
       "413"
      ]
     },
     "execution_count": 38,
     "metadata": {},
     "output_type": "execute_result"
    }
   ],
   "source": [
    "len(tableau_prix[tableau_prix[\"restaurant\"] > 0])"
   ]
  },
  {
   "cell_type": "markdown",
   "id": "9c55ff55",
   "metadata": {},
   "source": [
    "<div class = \"alert alert-block alert-info\">\n",
    "Q5.8.b - de bars ? \n",
    "</div>"
   ]
  },
  {
   "cell_type": "code",
   "execution_count": 39,
   "id": "c3affd15",
   "metadata": {},
   "outputs": [
    {
     "data": {
      "text/plain": [
       "88"
      ]
     },
     "execution_count": 39,
     "metadata": {},
     "output_type": "execute_result"
    }
   ],
   "source": [
    "len(tableau_prix[tableau_prix[\"bar\"] > 0])"
   ]
  },
  {
   "cell_type": "markdown",
   "id": "089e7a85",
   "metadata": {},
   "source": [
    "<div class = \"alert alert-block alert-info\">\n",
    "Q5.8.c - de restaurants qui sont également des bars ? \n",
    "</div>"
   ]
  },
  {
   "cell_type": "code",
   "execution_count": 40,
   "id": "732d14b2",
   "metadata": {},
   "outputs": [
    {
     "data": {
      "text/plain": [
       "79"
      ]
     },
     "execution_count": 40,
     "metadata": {},
     "output_type": "execute_result"
    }
   ],
   "source": [
    "len(tableau_prix[(tableau_prix[\"restaurant\"] > 0) & (tableau_prix[\"bar\"] > 0)])"
   ]
  },
  {
   "cell_type": "markdown",
   "id": "28978b32",
   "metadata": {},
   "source": [
    "<div class = \"alert alert-block alert-info\">\n",
    "Q5.8.d - de bars qui ne sont pas des restaurants ? \n",
    "</div>"
   ]
  },
  {
   "cell_type": "code",
   "execution_count": 41,
   "id": "3e26a36f",
   "metadata": {},
   "outputs": [
    {
     "data": {
      "text/plain": [
       "9"
      ]
     },
     "execution_count": 41,
     "metadata": {},
     "output_type": "execute_result"
    }
   ],
   "source": [
    "len(tableau_prix[(tableau_prix[\"restaurant\"] == 0) & (tableau_prix[\"bar\"] > 0)])"
   ]
  },
  {
   "cell_type": "markdown",
   "id": "frank-concept",
   "metadata": {},
   "source": [
    "## 6 - Visualisation de données"
   ]
  },
  {
   "cell_type": "markdown",
   "id": "domestic-series",
   "metadata": {},
   "source": [
    "<div class=\"alert alert-block alert-warning\">\n",
    "Pandas dispose de quelques fonctions d'affichage graphique mais il est plus générique et plus flexible de passer par une bibliothèque externe. Nous utiliserons dans la suite <code>matplotlib.pyplot</code> qui est la bibliothèque de base pour l'affichage graphique en python (la plupart des autres bibliothèques se fondent dessus avec une syntaxe très similaire).\n",
    "</div>\n",
    "<div class = \"alert alert-block alert-info\">\n",
    "    Exécuter le bloc ci-dessous pour importer la bibliothèque <code>matplotlib</code>.\n",
    "</div>"
   ]
  },
  {
   "cell_type": "code",
   "execution_count": 42,
   "id": "global-germany",
   "metadata": {},
   "outputs": [],
   "source": [
    "%matplotlib inline\n",
    "import matplotlib.pyplot as plt"
   ]
  },
  {
   "cell_type": "markdown",
   "id": "adjustable-virtue",
   "metadata": {},
   "source": [
    "<div class=\"alert alert-block alert-warning\">\n",
    "Un premier type d'affichage  pour la visualisation de données est l'affichage par des barres représentant le nombre d'éléments par catégories. Par exemple, pour afficher le nombre de lieux des 5 premiers types : <code>plt.bar([1,2,3,4,5], np.sum(tableau_poi[types[:5]]), tick_label = types[:5])</code>\n",
    "\n",
    "Le premier argument indique les abscisses des barres à tracer, le deuxième la valeur pour chaque barre, et l'argument <code>tick_label</code> permet de préciser le texte en dessous de chaque barre.\n",
    "</div>\n",
    "<div class = \"alert alert-block alert-info\">\n",
    "    Exécuter le bloc ci-dessous pour générer le graphique.\n",
    "</div>"
   ]
  },
  {
   "cell_type": "code",
   "execution_count": 43,
   "id": "norman-tissue",
   "metadata": {},
   "outputs": [
    {
     "data": {
      "image/png": "[encoded data removed]",
      "text/plain": [
       "<Figure size 432x288 with 1 Axes>"
      ]
     },
     "metadata": {
      "needs_background": "light"
     },
     "output_type": "display_data"
    }
   ],
   "source": [
    "_ = plt.bar([1,2,3,4,5], np.sum(tableau_poi[types[:5]]), tick_label = types[:5])"
   ]
  },
  {
   "cell_type": "markdown",
   "id": "inside-audience",
   "metadata": {},
   "source": [
    "<div class=\"alert alert-block alert-warning\">\n",
    "On peut également faire un diagramme en camembert : <code>plt.pie(np.sum(tableau_poi[types[:5]]), labels = types[:5])</code> (ici le texte est passé par l'argument `labels`)\n",
    "</div>\n",
    "<div class = \"alert alert-block alert-info\">\n",
    "    Exécuter le bloc ci-dessous pour générer le graphique.\n",
    "</div>"
   ]
  },
  {
   "cell_type": "code",
   "execution_count": 44,
   "id": "arabic-terrorist",
   "metadata": {},
   "outputs": [
    {
     "data": {
      "image/png": "[encoded data removed]",
      "text/plain": [
       "<Figure size 432x288 with 1 Axes>"
      ]
     },
     "metadata": {},
     "output_type": "display_data"
    }
   ],
   "source": [
    "_ = plt.pie(np.sum(tableau_poi[types[:5]]), labels = types[:5])"
   ]
  },
  {
   "cell_type": "markdown",
   "id": "solid-miniature",
   "metadata": {},
   "source": [
    "<div class=\"alert alert-block alert-warning\">\n",
    "    On peut également tracer des points sur un plan 2d grâce à <code>plt.scatter</code>.\n",
    "</div>\n",
    "<div class = \"alert alert-block alert-info\">\n",
    "    Exécuter le bloc ci-dessous pour générer le graphique.\n",
    "</div>"
   ]
  },
  {
   "cell_type": "code",
   "execution_count": 45,
   "id": "celtic-suspect",
   "metadata": {},
   "outputs": [
    {
     "data": {
      "image/png": "[encoded data removed]",
      "text/plain": [
       "<Figure size 432x288 with 1 Axes>"
      ]
     },
     "metadata": {
      "needs_background": "light"
     },
     "output_type": "display_data"
    }
   ],
   "source": [
    "# s permet de définir la taille des points, color leur couleur\n",
    "_ = plt.scatter(tableau_poi['longitude'], tableau_poi['latitude'], s=0.1, color=\"blue\")"
   ]
  },
  {
   "cell_type": "markdown",
   "id": "fundamental-weight",
   "metadata": {},
   "source": [
    "## 7 - Exercices : visualisation de données"
   ]
  },
  {
   "cell_type": "markdown",
   "id": "declared-nickel",
   "metadata": {},
   "source": [
    "<div class = \"alert alert-block alert-info\">\n",
    "Q7.1 - Observer sous forme de barres la répartition des prix pour les restaurants (seulement pour ceux qui ont un prix supérieur à 0).\n",
    "</div>"
   ]
  },
  {
   "cell_type": "code",
   "execution_count": 46,
   "id": "offensive-clinton",
   "metadata": {
    "scrolled": false
   },
   "outputs": [
    {
     "data": {
      "text/plain": [
       "Text(0, 0.5, 'total')"
      ]
     },
     "execution_count": 46,
     "metadata": {},
     "output_type": "execute_result"
    },
    {
     "data": {
      "image/png": "[encoded data removed]",
      "text/plain": [
       "<Figure size 432x288 with 1 Axes>"
      ]
     },
     "metadata": {
      "needs_background": "light"
     },
     "output_type": "display_data"
    }
   ],
   "source": [
    "plt.bar(\n",
    "    range(4),\n",
    "    tableau_prix[(tableau_prix[\"restaurant\"] == 1) & (tableau_prix[\"prix\"] > 0)][\"prix\"].value_counts(),\n",
    "    color = \"red\",\n",
    "    tick_label = range(1,5))\n",
    "plt.xlabel(\"range of price\")\n",
    "plt.ylabel(\"total\")"
   ]
  },
  {
   "cell_type": "markdown",
   "id": "1acf0628",
   "metadata": {},
   "source": [
    "<div class = \"alert alert-block alert-info\">\n",
    "Q7.2 - Observer sous forme de camembert la répartition des prix pour les restaurants (seulement pour ceux qui ont un prix supérieur à 0).\n",
    "</div>"
   ]
  },
  {
   "cell_type": "code",
   "execution_count": 47,
   "id": "polish-indie",
   "metadata": {},
   "outputs": [
    {
     "data": {
      "text/plain": [
       "Text(0.5, 1.0, 'Répartition de prix sur 4')"
      ]
     },
     "execution_count": 47,
     "metadata": {},
     "output_type": "execute_result"
    },
    {
     "data": {
      "image/png": "[encoded data removed]",
      "text/plain": [
       "<Figure size 432x288 with 1 Axes>"
      ]
     },
     "metadata": {},
     "output_type": "display_data"
    }
   ],
   "source": [
    "plt.pie(\n",
    "    tableau_prix[(tableau_prix[\"restaurant\"] == 1) & (tableau_prix[\"prix\"] > 0)][\"prix\"].value_counts(),\n",
    "    labels = range(1,5))\n",
    "plt.title(\"Répartition de prix sur 4\")"
   ]
  },
  {
   "cell_type": "markdown",
   "id": "rough-penetration",
   "metadata": {},
   "source": [
    "<div class = \"alert alert-block alert-info\">\n",
    "Q7.3 : Observer la répartition spatiale en fonction du prix pour les restaurants.\n",
    "</div>"
   ]
  },
  {
   "cell_type": "code",
   "execution_count": 60,
   "id": "a4529cf1",
   "metadata": {},
   "outputs": [
    {
     "name": "stderr",
     "output_type": "stream",
     "text": [
      "/var/folders/dk/5xxlbv9n6xngmfm92w8343_40000gp/T/ipykernel_58747/3430389937.py:4: UserWarning: Boolean Series key will be reindexed to match DataFrame index.\n",
      "  tableau_prix[tableau_prix[\"restaurant\"] == 1][tableau_prix[\"prix\"] == i+1][\"longitude\"],\n",
      "/var/folders/dk/5xxlbv9n6xngmfm92w8343_40000gp/T/ipykernel_58747/3430389937.py:5: UserWarning: Boolean Series key will be reindexed to match DataFrame index.\n",
      "  tableau_prix[tableau_prix[\"restaurant\"] == 1][tableau_prix[\"prix\"] == i+1][\"latitude\"],\n"
     ]
    },
    {
     "data": {
      "text/plain": [
       "Text(0.5, 1.0, 'Répartition spatial en fonction du prix pour les restos')"
      ]
     },
     "execution_count": 60,
     "metadata": {},
     "output_type": "execute_result"
    },
    {
     "data": {
      "image/png": "[encoded data removed]",
      "text/plain": [
       "<Figure size 432x288 with 1 Axes>"
      ]
     },
     "metadata": {
      "needs_background": "light"
     },
     "output_type": "display_data"
    }
   ],
   "source": [
    "color = [\"red\",\"blue\",\"orange\",\"green\"]\n",
    "for i in range(4):\n",
    "    plt.scatter(\n",
    "        tableau_prix[tableau_prix[\"restaurant\"] == 1][tableau_prix[\"prix\"] == i+1][\"longitude\"],\n",
    "        tableau_prix[tableau_prix[\"restaurant\"] == 1][tableau_prix[\"prix\"] == i+1][\"latitude\"],\n",
    "        color = color[i],s=2.5)\n",
    "plt.xlabel(\"longitude (m)\")\n",
    "plt.ylabel(\"latitude (m)\")\n",
    "plt.title(\"Répartition spatial en fonction du prix pour les restos\")"
   ]
  },
  {
   "cell_type": "markdown",
   "id": "hollywood-japan",
   "metadata": {},
   "source": [
    "<div class=\"alert alert-block alert-warning\">\n",
    "Remarque : il est possible de faire des diagrammes beaucoup plus compliqués avec un peu d'algorithmique (ce qui ne vous est pas demandé).\n",
    "</div>\n",
    "<div class = \"alert alert-block alert-info\">\n",
    "Par exemple : exécuter le bloc suivant.\n",
    "</div>"
   ]
  },
  {
   "cell_type": "code",
   "execution_count": 82,
   "id": "relevant-surrey",
   "metadata": {},
   "outputs": [
    {
     "data": {
      "image/png": "[encoded data removed]",
      "text/plain": [
       "<Figure size 432x288 with 1 Axes>"
      ]
     },
     "metadata": {
      "needs_background": "light"
     },
     "output_type": "display_data"
    }
   ],
   "source": [
    "prix = [1,2,3,4]\n",
    "for p in prix:\n",
    "    plt.bar([i + (p - 1) / (len(prix) + 1)  for i, t in enumerate(types)],\n",
    "            [np.sum(tableau_prix[tableau_prix['prix'] == p][t])\n",
    "             for i, t in enumerate(types)], width = 1 / (len(prix) + 1))\n",
    "_ = plt.xticks(range(len(types)), types, rotation = 'vertical')"
   ]
  },
  {
   "cell_type": "markdown",
   "id": "3269347e",
   "metadata": {},
   "source": [
    "---"
   ]
  }
 ],
 "metadata": {
  "kernelspec": {
   "display_name": "Python 3 (ipykernel)",
   "language": "python",
   "name": "python3"
  },
  "language_info": {
   "codemirror_mode": {
    "name": "ipython",
    "version": 3
   },
   "file_extension": ".py",
   "mimetype": "text/x-python",
   "name": "python",
   "nbconvert_exporter": "python",
   "pygments_lexer": "ipython3",
   "version": "3.9.7"
  }
 },
 "nbformat": 4,
 "nbformat_minor": 5
}
