{
 "cells": [
  {
   "cell_type": "markdown",
   "id": "25758d42",
   "metadata": {},
   "source": [
    "# Qui êtes-vous ?\n",
    "<div class=\"alert alert-block alert-info\">\n",
    "Écrire ci-dessous le nom, le prénom et le numéro étudiant de chaque membre du binôme :\n",
    "</div>"
   ]
  },
  {
   "cell_type": "code",
   "execution_count": 1,
   "id": "c6d64caf",
   "metadata": {},
   "outputs": [],
   "source": [
    "# Vu Hoang Thuy Duong - 21110221 SCFO"
   ]
  },
  {
   "cell_type": "markdown",
   "id": "tracked-control",
   "metadata": {},
   "source": [
    "# TME 08Y - Maximum de vraisemblance 2"
   ]
  },
  {
   "cell_type": "markdown",
   "id": "9819eb80",
   "metadata": {},
   "source": [
    "<div class=\"alert alert-block alert-warning\">\n",
    "Ce TME fait suite au TME 08X que vous devez terminer avant de poursuivre celui-ci\n",
    "</div>"
   ]
  },
  {
   "cell_type": "code",
   "execution_count": 2,
   "id": "beneficial-glossary",
   "metadata": {},
   "outputs": [],
   "source": [
    "import numpy as np\n",
    "import pandas as pd\n",
    "import matplotlib.pyplot as plt\n",
    "%matplotlib inline"
   ]
  },
  {
   "cell_type": "markdown",
   "id": "ad118ac1",
   "metadata": {},
   "source": [
    "# 1 - Test de notre modèle sur de nouvelles données"
   ]
  },
  {
   "cell_type": "markdown",
   "id": "2652d401",
   "metadata": {},
   "source": [
    "<div class=\"alert alert-block alert-warning\">\n",
    "Nous allons commencer par charger des données de test qui se présentent comme les données du TME 08X.\n",
    "</div>"
   ]
  },
  {
   "cell_type": "markdown",
   "id": "2bec0e93",
   "metadata": {},
   "source": [
    "<div class=\"alert alert-block alert-info\">\n",
    "Exécuter le bloc suivant pour charger les données de test (différentes des données du TME 08X).\n",
    "</div>"
   ]
  },
  {
   "cell_type": "code",
   "execution_count": 3,
   "id": "3bf1befd",
   "metadata": {
    "scrolled": true
   },
   "outputs": [
    {
     "data": {
      "text/plain": [
       "(array([[0.        , 0.        , 0.        , 0.        , 0.        ,\n",
       "         0.        , 0.        , 0.        , 0.        , 0.        ,\n",
       "         0.        , 0.        , 0.        , 0.        , 0.        ,\n",
       "         0.        ],\n",
       "        [0.        , 0.        , 0.        , 0.        , 0.        ,\n",
       "         0.60058594, 0.83251953, 0.76464844, 0.35595703, 0.06347656,\n",
       "         0.        , 0.        , 0.        , 0.        , 0.        ,\n",
       "         0.        ],\n",
       "        [0.        , 0.        , 0.        , 0.        , 0.        ,\n",
       "         0.20996094, 0.50878906, 0.74658203, 0.98925781, 0.94189453,\n",
       "         0.49951172, 0.05349731, 0.        , 0.        , 0.        ,\n",
       "         0.        ],\n",
       "        [0.        , 0.        , 0.        , 0.        , 0.        ,\n",
       "         0.        , 0.        , 0.        , 0.10302734, 0.49438477,\n",
       "         0.94140625, 0.83398438, 0.11199951, 0.        , 0.        ,\n",
       "         0.        ],\n",
       "        [0.        , 0.        , 0.        , 0.        , 0.        ,\n",
       "         0.        , 0.        , 0.        , 0.        , 0.        ,\n",
       "         0.10302734, 0.87841797, 0.79736328, 0.        , 0.        ,\n",
       "         0.        ],\n",
       "        [0.        , 0.        , 0.        , 0.        , 0.        ,\n",
       "         0.        , 0.        , 0.        , 0.        , 0.        ,\n",
       "         0.        , 0.31689453, 1.        , 0.27709961, 0.        ,\n",
       "         0.        ],\n",
       "        [0.        , 0.        , 0.        , 0.        , 0.        ,\n",
       "         0.        , 0.        , 0.        , 0.        , 0.        ,\n",
       "         0.        , 0.18896484, 1.        , 0.45703125, 0.        ,\n",
       "         0.        ],\n",
       "        [0.        , 0.        , 0.        , 0.        , 0.        ,\n",
       "         0.        , 0.        , 0.        , 0.        , 0.        ,\n",
       "         0.        , 0.44238281, 1.        , 0.30761719, 0.        ,\n",
       "         0.        ],\n",
       "        [0.43896484, 0.73583984, 0.83886719, 1.        , 1.        ,\n",
       "         1.        , 0.85253906, 0.51953125, 0.14196777, 0.        ,\n",
       "         0.16955566, 0.92773438, 0.91894531, 0.05450439, 0.        ,\n",
       "         0.        ],\n",
       "        [0.88964844, 0.82617188, 0.46191406, 0.36645508, 0.36645508,\n",
       "         0.58886719, 0.91308594, 1.        , 0.97558594, 0.70654297,\n",
       "         0.97265625, 0.99169922, 0.23254395, 0.        , 0.        ,\n",
       "         0.        ],\n",
       "        [0.70947266, 0.55761719, 0.22253418, 0.03900146, 0.22802734,\n",
       "         0.26708984, 0.47900391, 0.94042969, 1.        , 1.        ,\n",
       "         1.        , 0.82617188, 0.05700684, 0.        , 0.        ,\n",
       "         0.        ],\n",
       "        [0.11450195, 0.76855469, 1.        , 1.        , 1.        ,\n",
       "         1.        , 1.        , 0.94580078, 0.8515625 , 0.64404297,\n",
       "         0.70556641, 1.        , 0.91503906, 0.24353027, 0.        ,\n",
       "         0.        ],\n",
       "        [0.        , 0.00900269, 0.13305664, 0.32739258, 0.32739258,\n",
       "         0.32739258, 0.2130127 , 0.05999756, 0.        , 0.        ,\n",
       "         0.        , 0.31103516, 0.91552734, 0.92626953, 0.11999512,\n",
       "         0.        ],\n",
       "        [0.        , 0.        , 0.        , 0.        , 0.        ,\n",
       "         0.        , 0.        , 0.        , 0.        , 0.        ,\n",
       "         0.        , 0.        , 0.125     , 0.88427734, 0.79443359,\n",
       "         0.43701172],\n",
       "        [0.        , 0.        , 0.        , 0.        , 0.        ,\n",
       "         0.        , 0.        , 0.        , 0.        , 0.        ,\n",
       "         0.        , 0.        , 0.        , 0.1829834 , 0.81738281,\n",
       "         0.56591797],\n",
       "        [0.        , 0.        , 0.        , 0.        , 0.        ,\n",
       "         0.        , 0.        , 0.        , 0.        , 0.        ,\n",
       "         0.        , 0.        , 0.        , 0.        , 0.        ,\n",
       "         0.        ]]),\n",
       " 2)"
      ]
     },
     "execution_count": 3,
     "metadata": {},
     "output_type": "execute_result"
    }
   ],
   "source": [
    "import pickle as pkl\n",
    "import gzip\n",
    "image_test = pkl.load(gzip.open('image-test.pkl.gz','rb'))\n",
    "chiffre_test = pkl.load(gzip.open('chiffre-test.pkl.gz','rb')) \n",
    "image_test[0], chiffre_test[0]"
   ]
  },
  {
   "cell_type": "markdown",
   "id": "c2d15d60",
   "metadata": {},
   "source": [
    "<div class=\"alert alert-block alert-info\">\n",
    "Exécuter le bloc suivant pour définir la liste, pour chacun des chiffres, des tuples <code>(mu, sigma)</code> que vous auriez dû trouver au TME 08X.\n",
    "</div>"
   ]
  },
  {
   "cell_type": "code",
   "execution_count": 4,
   "id": "e6689318",
   "metadata": {
    "scrolled": false
   },
   "outputs": [],
   "source": [
    "parametres_tous_chiffres = pkl.load(gzip.open(\"modele.pkl.gz\", 'rb'))"
   ]
  },
  {
   "cell_type": "markdown",
   "id": "9d4e3aa4",
   "metadata": {},
   "source": [
    "<div class=\"alert alert-block alert-warning\">\n",
    "<code>parametres_tous_chiffres</code> est une liste de 10 tuples, chaque tuple correspond à un chiffre entre 0 et 9.\n",
    "    \n",
    "Par exemple, le premier tuple correspond à l'estimation de la moyenne et de la variance des images représentant des 0.\n",
    "    \n",
    "Le premier tuple est constitué :\n",
    "<ul>\n",
    "    <li>d'une matrice $16 \\times 16$ constituée des estimations des moyennes $\\mu^{(0)}_{i, j}$</li>\n",
    "    <li>d'une matrice $16 \\times 16$ constituée des estimations des variances $(\\sigma^{(0)}_{i, j})^2$</li>\n",
    "</ul>\n",
    "Par exemple, $\\mu^{(0)}_{5, 4}$ est, pour les images représentant des 0, la moyenne des pixels situés ligne 5 et colonne 4.\n",
    "    \n",
    "Par exemple, $(\\sigma^{(0)}_{5, 4})^2$ est, pour les images représentant des 0, la variance des pixels situés ligne 5 et colonne 4.  \n",
    "    \n",
    "    \n",
    "Les tuples suivants sont constitués de la même manière mais correspondent aux autres chiffres.\n",
    "</div>"
   ]
  },
  {
   "cell_type": "markdown",
   "id": "10c5cffa",
   "metadata": {},
   "source": [
    "<div class=\"alert alert-block alert-info\">\n",
    "    Q1.1 - Récupérer la fonction <code>log_densite</code> du TME 08X qui calcule la valeur de la log-densité pour une image et les paramètres $\\mu^{(0)}_{i, j}, (\\sigma^{(0)}_{i, j})^2$ correspondant à un chiffre particulier.\n",
    "</div>"
   ]
  },
  {
   "cell_type": "code",
   "execution_count": 5,
   "id": "25e22ecf",
   "metadata": {
    "scrolled": true
   },
   "outputs": [],
   "source": [
    "def log_densite(image,parametres):\n",
    "    mu,sig2=parametres\n",
    "    sig2=np.maximum(sig2,1e-3)\n",
    "    return (-1/2)*np.sum(np.log(2*np.pi*sig2)+((image-mu)**2/sig2))"
   ]
  },
  {
   "cell_type": "markdown",
   "id": "ebccb061",
   "metadata": {},
   "source": [
    "<div class=\"alert alert-block alert-info\">\n",
    "    Q1.2 - Récupérer la fonction <code>plus_vraisemblable</code> du TME 08X qui, étant donné une seule image\n",
    "    et l'ensemble des <code>parametres_tous_chiffres</code>, calcule le chiffre le plus vraisemblablement représenté sur l'image.\n",
    "</div>"
   ]
  },
  {
   "cell_type": "code",
   "execution_count": 6,
   "id": "81fc6487",
   "metadata": {},
   "outputs": [],
   "source": [
    "def plus_vraisemblable(image,parametres):\n",
    "    return np.argmax([log_densite(image,parametres_tous_chiffres[i])for i in range(10)])"
   ]
  },
  {
   "cell_type": "markdown",
   "id": "578bb406",
   "metadata": {},
   "source": [
    "<div class=\"alert alert-block alert-info\">\n",
    "    Q1.3 - Récupérer la fonction <code>prediction</code> du TME 08X qui, étant donné un vecteur d'<code>image</code>s\n",
    "    et l'ensemble des <code>parametres_tous_chiffres</code>, calcule le vecteur des chiffres les plus vraisemblablement représentés.\n",
    "</div>"
   ]
  },
  {
   "cell_type": "code",
   "execution_count": 7,
   "id": "21afb43a",
   "metadata": {},
   "outputs": [],
   "source": [
    "def prediction(tout_image,tous_parametres):\n",
    "    return np.array([plus_vraisemblable(tout_image[i],tous_parametres)for i in range (len(tout_image))])"
   ]
  },
  {
   "cell_type": "markdown",
   "id": "6eb178e5",
   "metadata": {},
   "source": [
    "<div class=\"alert alert-block alert-info\">\n",
    "Exécuter le bloc suivant pour stocker dans une variable <code>chiffre_predit</code> le vecteur des prédictions.\n",
    "</div>"
   ]
  },
  {
   "cell_type": "code",
   "execution_count": 8,
   "id": "4ecc7877",
   "metadata": {},
   "outputs": [
    {
     "data": {
      "text/plain": [
       "array([2, 0, 0, ..., 1, 8, 3])"
      ]
     },
     "execution_count": 8,
     "metadata": {},
     "output_type": "execute_result"
    }
   ],
   "source": [
    "chiffre_predit = prediction(image_test, parametres_tous_chiffres)\n",
    "chiffre_predit"
   ]
  },
  {
   "cell_type": "markdown",
   "id": "7085a75e",
   "metadata": {},
   "source": [
    "<div class=\"alert alert-block alert-info\">\n",
    "Q1.4 - Récupérer la fonction <code>matrice_confusion</code>  du TME 08X qui, étant donné les <code>prédictions</code> précédentes et les <code>vrais_chiffres</code>, calcule la matrice de confusion.\n",
    "</div>"
   ]
  },
  {
   "cell_type": "code",
   "execution_count": 9,
   "id": "56048f27",
   "metadata": {},
   "outputs": [],
   "source": [
    "def matrice_confusion(vpred,vvrai):\n",
    "    return np.array([\n",
    "        [len([vpred[k] for k in range (len(vpred)) if ((vpred[k]==i) & (vvrai[k]==j)) ]) \n",
    "         for j in range (np.max(vvrai)+1)] for i in range(np.max(vvrai)+1)])"
   ]
  },
  {
   "cell_type": "markdown",
   "id": "a016350d",
   "metadata": {},
   "source": [
    "<div class=\"alert alert-block alert-info\">\n",
    "Exécuter le bloc suivant pour visualiser la matrice de confusion.\n",
    "</div>"
   ]
  },
  {
   "cell_type": "code",
   "execution_count": 10,
   "id": "eaf76b63",
   "metadata": {
    "scrolled": true
   },
   "outputs": [
    {
     "data": {
      "image/png": "[encoded data removed]",
      "text/plain": [
       "<Figure size 432x288 with 2 Axes>"
      ]
     },
     "metadata": {
      "needs_background": "light"
     },
     "output_type": "display_data"
    }
   ],
   "source": [
    "_ = plt.imshow(matrice_confusion(chiffre_predit, chiffre_test))\n",
    "_ = plt.colorbar()"
   ]
  },
  {
   "cell_type": "markdown",
   "id": "2b738405",
   "metadata": {},
   "source": [
    "<div class=\"alert alert-block alert-info\">\n",
    "    Q1.5 - Écrire une fonction <code>taux_bonne_classif</code> qui, étant donné les <code>prédictions</code> précédentes et les <code>vrais_chiffres</code>, calcule le taux de bonnes classifications.\n",
    "</div>"
   ]
  },
  {
   "cell_type": "code",
   "execution_count": 11,
   "id": "5e14d6d8",
   "metadata": {},
   "outputs": [],
   "source": [
    "def taux_bonne_classif(pred,vraiChiff):\n",
    "    return (pred == vraiChiff).mean()"
   ]
  },
  {
   "cell_type": "markdown",
   "id": "beb3f07a",
   "metadata": {},
   "source": [
    "<div class=\"alert alert-block alert-info\">\n",
    "    Q1.6 - Calculer le taux de bonne classification sur nos données de test.\n",
    "</div>"
   ]
  },
  {
   "cell_type": "code",
   "execution_count": 12,
   "id": "0e6af8ac",
   "metadata": {},
   "outputs": [
    {
     "data": {
      "text/plain": [
       "0.8002606712284132"
      ]
     },
     "execution_count": 12,
     "metadata": {},
     "output_type": "execute_result"
    }
   ],
   "source": [
    "taux_bonne_classif(chiffre_test,chiffre_predit)"
   ]
  },
  {
   "cell_type": "markdown",
   "id": "69a29344",
   "metadata": {},
   "source": [
    "<div class=\"alert alert-block alert-warning\">\n",
    "    Vous devez trouver <code>0.7018572825024438</code>. Pas trop mal, non ?\n",
    "</div>"
   ]
  },
  {
   "cell_type": "markdown",
   "id": "c46f0381",
   "metadata": {},
   "source": [
    "# 2 -Binarisation des images"
   ]
  },
  {
   "cell_type": "markdown",
   "id": "57761264",
   "metadata": {},
   "source": [
    "<div class=\"alert alert-block alert-warning\">\n",
    "Au lieu d'estimer chaque pixel par une loi normale, nous allons l'estimer par une loi de Bernoulli. Nous gardons l'hypothèse qu'au sein d'un modèle représentant un des chiffres, les pixels sont indépendants les uns des autres.\n",
    "</div>"
   ]
  },
  {
   "cell_type": "markdown",
   "id": "7a84f00b",
   "metadata": {},
   "source": [
    "<div class=\"alert alert-block alert-warning\">\n",
    "Pour cela, nous avons besoin de binariser les pixels, c'est-à-dire faire en sorte qu'ils ne prennent que deux valeurs : 0 ou 1.\n",
    "</div>"
   ]
  },
  {
   "cell_type": "markdown",
   "id": "b8e2a6af",
   "metadata": {},
   "source": [
    "<div class=\"alert alert-block alert-info\">\n",
    "Exécuter le bloc suivant pour recharger les données d'apprentissage.\n",
    "</div>"
   ]
  },
  {
   "cell_type": "code",
   "execution_count": 36,
   "id": "41be1012",
   "metadata": {},
   "outputs": [],
   "source": [
    "image = pkl.load(gzip.open('image.pkl.gz','rb'))\n",
    "chiffre = pkl.load(gzip.open('chiffre.pkl.gz','rb')) "
   ]
  },
  {
   "cell_type": "markdown",
   "id": "177a38b1",
   "metadata": {},
   "source": [
    "<div class=\"alert alert-block alert-info\">\n",
    "    Exécuter le bloc suivant pour définir les fonctions <code>affiche_une_image</code> et <code>affiche_des_images</code>.\n",
    "</div>"
   ]
  },
  {
   "cell_type": "code",
   "execution_count": 37,
   "id": "f88ac4b3",
   "metadata": {},
   "outputs": [],
   "source": [
    "def affiche_une_image(image):\n",
    "    _ = plt.imshow(image, cmap='gray', interpolation='none')\n",
    "    _ = plt.colorbar()\n",
    "    return None\n",
    "\n",
    "def affiche_des_images(tab_images):\n",
    "    nb = min(len(tab_images), 10)\n",
    "    fig = plt.figure(figsize=(16, 16))\n",
    "    for i in range(nb):\n",
    "        fig.add_subplot(1, nb, i+1)\n",
    "        _ = plt.imshow(tab_images[i], cmap='gray', interpolation='none')\n",
    "    plt.show()\n",
    "    return None"
   ]
  },
  {
   "cell_type": "markdown",
   "id": "9178b4fe",
   "metadata": {},
   "source": [
    "<div class=\"alert alert-block alert-info\">\n",
    "    Q2.1 - Écrire une fonction <code>binarise</code> qui, étant donné une image <code>im</code>, retourne l'image binarisée en remplaçant toutes les valeurs strictement positives par des 1.\n",
    "</div>"
   ]
  },
  {
   "cell_type": "code",
   "execution_count": 38,
   "id": "723a378b",
   "metadata": {},
   "outputs": [],
   "source": [
    "def binarise(im):\n",
    "    lres=[]\n",
    "    for i in range (len(im)):\n",
    "        l=[]\n",
    "        for j in range (len(im[0])):\n",
    "            if im[i][j] > 0:\n",
    "                l.append(1)\n",
    "            else:\n",
    "                l.append(0)\n",
    "        lres.append(l)\n",
    "    return np.array(lres)"
   ]
  },
  {
   "cell_type": "markdown",
   "id": "19aeabe0",
   "metadata": {},
   "source": [
    "<div class=\"alert alert-block alert-info\">\n",
    "Tester votre fonction sur l'image d'un 8.\n",
    "</div>"
   ]
  },
  {
   "cell_type": "code",
   "execution_count": 39,
   "id": "d97a4d9e",
   "metadata": {},
   "outputs": [
    {
     "data": {
      "image/png": "[encoded data removed]",
      "text/plain": [
       "<Figure size 432x288 with 2 Axes>"
      ]
     },
     "metadata": {
      "needs_background": "light"
     },
     "output_type": "display_data"
    }
   ],
   "source": [
    "affiche_une_image(binarise(image[0]))"
   ]
  },
  {
   "cell_type": "markdown",
   "id": "6b2b0515",
   "metadata": {},
   "source": [
    "<div class=\"alert alert-block alert-info\">\n",
    "    Q2.2 - Définir une variable <code>image_bin</code> contenant le vecteur des images binarisées de la base <code>image</code>.\n",
    "</div>"
   ]
  },
  {
   "cell_type": "code",
   "execution_count": 40,
   "id": "805de623",
   "metadata": {},
   "outputs": [
    {
     "data": {
      "text/plain": [
       "array([[[0, 0, 0, ..., 0, 0, 0],\n",
       "        [0, 0, 1, ..., 0, 0, 0],\n",
       "        [0, 0, 1, ..., 0, 0, 0],\n",
       "        ...,\n",
       "        [0, 0, 1, ..., 0, 0, 0],\n",
       "        [0, 0, 0, ..., 0, 0, 0],\n",
       "        [0, 0, 0, ..., 0, 0, 0]],\n",
       "\n",
       "       [[0, 0, 0, ..., 0, 0, 0],\n",
       "        [0, 0, 0, ..., 1, 0, 0],\n",
       "        [0, 0, 0, ..., 1, 0, 0],\n",
       "        ...,\n",
       "        [0, 0, 0, ..., 0, 0, 0],\n",
       "        [0, 0, 0, ..., 0, 0, 0],\n",
       "        [0, 0, 0, ..., 0, 0, 0]],\n",
       "\n",
       "       [[0, 0, 0, ..., 0, 0, 0],\n",
       "        [0, 0, 0, ..., 0, 0, 0],\n",
       "        [0, 0, 0, ..., 0, 0, 0],\n",
       "        ...,\n",
       "        [0, 0, 0, ..., 0, 0, 0],\n",
       "        [0, 0, 0, ..., 0, 0, 0],\n",
       "        [0, 0, 0, ..., 0, 0, 0]],\n",
       "\n",
       "       ...,\n",
       "\n",
       "       [[0, 0, 0, ..., 0, 0, 0],\n",
       "        [0, 0, 0, ..., 0, 0, 0],\n",
       "        [0, 0, 0, ..., 0, 0, 0],\n",
       "        ...,\n",
       "        [0, 0, 0, ..., 0, 0, 0],\n",
       "        [0, 0, 0, ..., 0, 0, 0],\n",
       "        [0, 0, 0, ..., 0, 0, 0]],\n",
       "\n",
       "       [[0, 0, 0, ..., 0, 0, 0],\n",
       "        [0, 0, 0, ..., 0, 0, 0],\n",
       "        [0, 1, 1, ..., 0, 0, 0],\n",
       "        ...,\n",
       "        [1, 1, 1, ..., 1, 1, 0],\n",
       "        [1, 1, 1, ..., 1, 0, 0],\n",
       "        [0, 0, 1, ..., 0, 0, 0]],\n",
       "\n",
       "       [[0, 0, 0, ..., 0, 0, 0],\n",
       "        [0, 0, 0, ..., 0, 0, 0],\n",
       "        [0, 0, 0, ..., 0, 0, 0],\n",
       "        ...,\n",
       "        [0, 1, 1, ..., 1, 0, 0],\n",
       "        [0, 1, 1, ..., 1, 1, 0],\n",
       "        [0, 0, 0, ..., 1, 0, 0]]])"
      ]
     },
     "execution_count": 40,
     "metadata": {},
     "output_type": "execute_result"
    }
   ],
   "source": [
    "image_bin=np.array([binarise(x) for x in image])\n",
    "image_bin"
   ]
  },
  {
   "cell_type": "markdown",
   "id": "8a765ddd",
   "metadata": {},
   "source": [
    "<div class=\"alert alert-block alert-info\">\n",
    "Observer les images de <code>image_bin</code>\n",
    "</div>"
   ]
  },
  {
   "cell_type": "code",
   "execution_count": 41,
   "id": "9d1b5614",
   "metadata": {},
   "outputs": [
    {
     "data": {
      "image/png": "[encoded data removed]",
      "text/plain": [
       "<Figure size 1152x1152 with 10 Axes>"
      ]
     },
     "metadata": {
      "needs_background": "light"
     },
     "output_type": "display_data"
    }
   ],
   "source": [
    "affiche_des_images(image_bin)"
   ]
  },
  {
   "cell_type": "markdown",
   "id": "e29ac263",
   "metadata": {},
   "source": [
    "# 3 - Modèle de Bernoulli"
   ]
  },
  {
   "cell_type": "markdown",
   "id": "32e2822b",
   "metadata": {},
   "source": [
    "<div class=\"alert alert-block alert-warning\">\n",
    "On définit des variable aléatoire représentant les pixels composant une image d'un chiffre donné :\n",
    "$$\n",
    "\\begin{bmatrix} \n",
    "    X_{0, 0} & \\dots & X_{0, 15} \\\\\n",
    "    \\vdots & \\ddots & \\vdots \\\\\n",
    "    X_{15, 0} & \\dots & X_{15, 15} \n",
    "    \\end{bmatrix}\n",
    "$$\n",
    "\n",
    "On suppose de plus que la teinte de chaque pixel suit une loi de Bernoulli.\n",
    "$$\\forall i\\in\\{0,\\dots,15\\}, \\forall j\\in\\{0,\\dots,15\\}, X_{i,j} \\sim {\\mathcal B}(\\pi_{i,j})$$ \n",
    "</div>"
   ]
  },
  {
   "cell_type": "markdown",
   "id": "e229e249",
   "metadata": {},
   "source": [
    "<div class=\"alert alert-block alert-warning\">\n",
    "L'estimateur de maximum de vraisemblance pour les paramètres d'une loi de Bernoulli\n",
    "    pour des $X_i \\sim {\\mathcal B}(\\pi)$ <em>iid</em> sont :\n",
    "\n",
    "$$ \\Pi_{ML} = \\frac{1}{n} \\sum_{i = 1}^{n} X_i$$\n",
    "</div>"
   ]
  },
  {
   "cell_type": "markdown",
   "id": "8a0b9140",
   "metadata": {},
   "source": [
    "<div class=\"alert alert-block alert-info\">\n",
    "Q3 - Refaire le même travail que dans le TME 8X mais avec le modèle de Bernoulli.\n",
    "</div>"
   ]
  },
  {
   "cell_type": "code",
   "execution_count": 64,
   "id": "552c14ae",
   "metadata": {},
   "outputs": [
    {
     "data": {
      "image/png": "[encoded data removed]",
      "text/plain": [
       "<Figure size 1152x1152 with 10 Axes>"
      ]
     },
     "metadata": {
      "needs_background": "light"
     },
     "output_type": "display_data"
    }
   ],
   "source": [
    "# TME8X - Déclarer la variable huit qui contiendra toutes les lignes correspondant au chiffre 8.\n",
    "\n",
    "mainLr = []\n",
    "\n",
    "for i in range(len(chiffre)):\n",
    "    if chiffre[i] == 8:\n",
    "        mainLr.append(i)\n",
    "\n",
    "huit = np.array(image_bin[mainLr])\n",
    "affiche_des_images(huit)"
   ]
  },
  {
   "cell_type": "code",
   "execution_count": 65,
   "id": "995ca16c",
   "metadata": {},
   "outputs": [],
   "source": [
    "# TME8X->8Y : fonction estimation\n",
    "\n",
    "def estimation_ber(df):\n",
    "    return df.mean()\n",
    "\n",
    "lbda = estimation_ber(huit)"
   ]
  },
  {
   "cell_type": "code",
   "execution_count": 81,
   "id": "ad39d3b8",
   "metadata": {},
   "outputs": [],
   "source": [
    "def loi_ber(x) : \n",
    "    pixel = []\n",
    "    for i in range(len(x[0][0])) : \n",
    "        pixel.append(np.zeros(len(x[0])))\n",
    "        \n",
    "    for k in range(len(x)) : \n",
    "        for i in range(len(x[k])) :\n",
    "            for j in range(len(x[k][i])) :\n",
    "                pixel[i][j] = np.random.binomial(1,image[k][i][j])\n",
    "        pixel = np.array(pixel)\n",
    "        \n",
    "    return pixel"
   ]
  },
  {
   "cell_type": "code",
   "execution_count": 83,
   "id": "306818aa",
   "metadata": {},
   "outputs": [
    {
     "data": {
      "image/png": "[encoded data removed]",
      "text/plain": [
       "<Figure size 432x288 with 2 Axes>"
      ]
     },
     "metadata": {
      "needs_background": "light"
     },
     "output_type": "display_data"
    }
   ],
   "source": [
    "affiche_une_image(loi_ber(huit))\n",
    "\n",
    "### Idk where is the error"
   ]
  },
  {
   "cell_type": "code",
   "execution_count": 90,
   "id": "1528863a",
   "metadata": {},
   "outputs": [],
   "source": [
    "### log densité\n",
    "def log_densite_ber(image):\n",
    "    return 1/len(image) * np.sum(image)\n",
    "\n",
    "def plus_vraisemblable(image):\n",
    "    return np.argmax([log_densite_ber(image)for i in range(10)])"
   ]
  },
  {
   "cell_type": "markdown",
   "id": "29df7abc",
   "metadata": {},
   "source": [
    "---"
   ]
  }
 ],
 "metadata": {
  "kernelspec": {
   "display_name": "Python 3 (ipykernel)",
   "language": "python",
   "name": "python3"
  },
  "language_info": {
   "codemirror_mode": {
    "name": "ipython",
    "version": 3
   },
   "file_extension": ".py",
   "mimetype": "text/x-python",
   "name": "python",
   "nbconvert_exporter": "python",
   "pygments_lexer": "ipython3",
   "version": "3.9.7"
  }
 },
 "nbformat": 4,
 "nbformat_minor": 5
}
