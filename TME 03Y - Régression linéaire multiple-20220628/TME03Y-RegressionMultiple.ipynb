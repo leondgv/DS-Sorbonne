{
 "cells": [
  {
   "cell_type": "markdown",
   "id": "25758d42",
   "metadata": {},
   "source": [
    "# Qui êtes-vous ?\n",
    "<div class=\"alert alert-block alert-info\">\n",
    "Écrire ci-dessous le nom, le prénom et le numéro étudiant de chaque membre du binôme :\n",
    "</div>"
   ]
  },
  {
   "cell_type": "code",
   "execution_count": 1,
   "id": "c6d64caf",
   "metadata": {},
   "outputs": [],
   "source": [
    "# Vu Hoang Thuy Duong - 21110221 SCFO"
   ]
  },
  {
   "cell_type": "markdown",
   "id": "9379cb74",
   "metadata": {},
   "source": [
    "# TME 3Y - Régression linéaire multiple"
   ]
  },
  {
   "cell_type": "markdown",
   "id": "89c89eb6",
   "metadata": {},
   "source": [
    "<div class=\"alert alert-block alert-warning\">\n",
    "Dans ce TME, nous allons voir une méthode générale pour effectuer une régression linéaire multiple. Pour cela, nous allons tout d'abord appliquer cette méthode générale pour retrouver les résultats du TME précédent sur la régression simple. Nous allons ensuite utiliser cette nouvelle méthode pour réaliser une régression linéaire multiple.\n",
    "</div>\n",
    "<div class=\"alert alert-block alert-warning\">\n",
    "Voici le plan :\n",
    "    <ol>\n",
    "        <li>Chargement de données à partir d'un fichier</li>\n",
    "        <li>Moindres carrés avec les matrices</li>\n",
    "        <li>Tracé du résultat</li>\n",
    "        <li>Régression linéaire multiple</li>\n",
    "    </ol>\n",
    "</div>"
   ]
  },
  {
   "cell_type": "markdown",
   "id": "b1c71e86",
   "metadata": {},
   "source": [
    "<div class=\"alert alert-block alert-info\">\n",
    "Tout d'abord, exécuter la boite ci-dessous pour importer les bibliothèques nécessaires.\n",
    "</div>"
   ]
  },
  {
   "cell_type": "code",
   "execution_count": 2,
   "id": "c8165340",
   "metadata": {},
   "outputs": [],
   "source": [
    "import numpy as np\n",
    "import pandas as pd\n",
    "%matplotlib inline\n",
    "import matplotlib.pyplot as plt"
   ]
  },
  {
   "cell_type": "markdown",
   "id": "aa5be4ac",
   "metadata": {},
   "source": [
    "## 1 - Chargement de données à partir d'un fichier\n",
    "\n",
    "<div class=\"alert alert-block alert-warning\">\n",
    "Les données nécessaires à ce TME sont stockées dans le fichier <code>advertising.csv</code> qui se présente ainsi :\n",
    "<pre>\n",
    "TV,Radio,Newspaper,Sales\n",
    "230.1,37.8,69.2,22.1\n",
    "44.5,39.3,45.1,10.4\n",
    "17.2,45.9,69.3,12\n",
    "151.5,41.3,58.5,16.5\n",
    "...\n",
    "</pre>\n",
    "    Il contient quatre colonnes. Les trois premières sont une mesure de la quantité de publicité diffusée respectivement à la télévision, à la radio et dans les journaux. La dernière colonne mesure les ventes.\n",
    "    <br/><em>Source : <a href=\"https://www.kaggle.com/ashydv/advertising-dataset\">https://www.kaggle.com/ashydv/advertising-dataset</a></em>\n",
    "</div>\n",
    "<div class=\"alert alert-block alert-info\">\n",
    "    Q1.1 - Charger les données du fichier dans une variable <code>data_pub</code> à l'aide de la fonction <code>pd.read_csv('nom_de_fichier.csv')</code>.\n",
    "</div>"
   ]
  },
  {
   "cell_type": "code",
   "execution_count": 3,
   "id": "7f5001d3",
   "metadata": {},
   "outputs": [],
   "source": [
    "data_pub = pd.read_csv(\"advertising.csv\")"
   ]
  },
  {
   "cell_type": "markdown",
   "id": "af1e28c5",
   "metadata": {},
   "source": [
    "<div class=\"alert alert-block alert-info\">\n",
    "    Q1.2 - Définir la variable <code>x</code> pour qu'elle contienne le vecteur NumPy de la colonne <code>'TV'</code>.\n",
    "</div>"
   ]
  },
  {
   "cell_type": "code",
   "execution_count": 4,
   "id": "b234cf95",
   "metadata": {},
   "outputs": [],
   "source": [
    "x = data_pub[\"TV\"]"
   ]
  },
  {
   "cell_type": "markdown",
   "id": "e51fb72a",
   "metadata": {},
   "source": [
    "<div class=\"alert alert-block alert-info\">\n",
    "    Q1.3 - Définir la variable <code>y</code> pour qu'elle contienne le tableau NumPy de la colonne des ventes.\n",
    "</div>"
   ]
  },
  {
   "cell_type": "code",
   "execution_count": 5,
   "id": "a5c10dca",
   "metadata": {},
   "outputs": [],
   "source": [
    "y = data_pub[\"Sales\"]"
   ]
  },
  {
   "cell_type": "markdown",
   "id": "cc325b9e",
   "metadata": {},
   "source": [
    "## 2 - Moindres carrés avec les matrices"
   ]
  },
  {
   "cell_type": "markdown",
   "id": "e8405b3a",
   "metadata": {},
   "source": [
    "<div class=\"alert alert-block alert-warning\">\n",
    "    La fonction <code>np.linalg.solve(M, v)</code> permet de déterminer un vecteur $\\mathbf{b}$, unique solution lorsqu'elle existe de l'équation matricielle :\n",
    "  $$ \\mathbf{M} \\mathbf{b} = \\mathbf{v} $$\n",
    "    avec $\\mathbf{M}$ matrice carrée $n \\times n$ et $\\mathbf{v}$ un vecteur de taille $n$.\n",
    "  <br/>\n",
    "    Cette fonction utilise des outils mathématiques que vous ne verrez que plus tard dans votre cursus. On va se contenter de dire ici qu'elle \"fait le travail\".\n",
    "</div>"
   ]
  },
  {
   "cell_type": "markdown",
   "id": "ddd615ef",
   "metadata": {},
   "source": [
    "<div class=\"alert alert-block alert-info\">\n",
    "  Q2.1 - Résoudre l'équation matricielle $\\mathbf{M}\\mathbf{b} = \\mathbf{v}$ d'inconnue $\\mathbf{b}$ où :\n",
    "  $$\n",
    "  \\mathbf{M} = \\left[\\begin{array}{cc}\n",
    "    2 & -1 \\\\\n",
    "    -4 & 3 \\\\\n",
    "  \\end{array} \\right],\n",
    "  \\qquad\n",
    "  \\mathbf{v} = \\left[\\begin{array}{c} 1 \\\\ 7 \\end{array} \\right],\n",
    "  \\qquad\n",
    "  \\mathbf{b} = \\left[\\begin{array}{c} b_0 \\\\ b_1 \\end{array} \\right],\n",
    "  $$\n",
    "Le résultat trouvé doit être l'unique solution du système de deux équations à deux inconnues :\n",
    "  $$\n",
    "  \\left\\{\n",
    "    \\begin{array}{rcrl}\n",
    "      2 b_0 & - & b_1 & = 1 \\\\\n",
    "      -4 b_0 & + & 3 b_1 & = 7 \\\\\n",
    "    \\end{array}\n",
    "  \\right.\n",
    "  $$\n",
    "</div>"
   ]
  },
  {
   "cell_type": "code",
   "execution_count": 6,
   "id": "8bb0a5a9",
   "metadata": {},
   "outputs": [],
   "source": [
    "M = [[2,-1],[-4,3]]\n",
    "v = [1,7]\n",
    "\n",
    "b = np.linalg.solve(M,v)"
   ]
  },
  {
   "cell_type": "markdown",
   "id": "9fdb4cb1",
   "metadata": {},
   "source": [
    "<div class=\"alert alert-block alert-warning\">\n",
    "    Dans la partie précédente, vous devez avoir défini les deux séries de données <code>x</code> pour la publicité à la télévision et <code>y</code> pour les ventes.\n",
    " </div>\n",
    " <div class=\"alert alert-block alert-warning\">\n",
    "    Nous allons voir une méthode différente du dernier TME pour calculer une régression par la méthode des moindres carrés. On retrouvera évidemment la même droite de régression. Cette nouvelle méthode que nous allons voir sera facilement généralisable pour faire de la régression linéaire multiple dans la partie suivante.<br/>\n",
    "    Avec deux séries de données $\\mathbf{x}$ et $\\mathbf{y}$ puis en définissant :\n",
    "      $$\n",
    "  \\mathbf{X} = [\\mathbf{1} \\; \\mathbf{x}] = \\left[\\begin{array}{cc}\n",
    "                        1 & x_1 \\\\\n",
    "                        \\vdots & \\vdots \\\\\n",
    "                        1 & x_i \\\\\n",
    "                        \\vdots & \\vdots \\\\\n",
    "                        1 & x_n \\\\\n",
    "                        \\end{array} \\right],\n",
    "  \\qquad\n",
    "  \\mathbf{b} = \\left[\\begin{array}{c} b_0 \\\\ b_1 \\end{array} \\right],\n",
    "  $$\n",
    "    D'après le cours, la régression par la méthode des moindres carrés consiste déterminer $\\mathbf{b}$ en minimisant la quantité suivante :\n",
    "  $$\n",
    "  C(a, b) = \\|\\mathbf{X} \\mathbf{b} - \\mathbf{y}\\|^2$$\n",
    "  On obtient alors la droite de régression :\n",
    "  $$ y = b_0 + b_1x $$\n",
    "</div>\n",
    "<div class=\"alert alert-block alert-warning\">\n",
    "    Pour minimiser $C(a, b)$, la matrice $X$ n'étant pas carrée, on peut montrer [hors programme] qu'il suffit de trouver $\\mathbf{b}$ solution de l'équation matricielle :\n",
    "  $$\n",
    "  \\left(\\mathbf{X}^T\\mathbf{X}\\right) \\mathbf{b} = \\left(\\mathbf{X}^T\\mathbf{y}\\right)\n",
    "  $$\n",
    "  (multiplication matricielle par $\\mathbf{X}^T$ à gauche)\n",
    "</div>"
   ]
  },
  {
   "cell_type": "markdown",
   "id": "3da5488b",
   "metadata": {},
   "source": [
    "<div class=\"alert alert-block alert-info\">\n",
    "Q2.2 - Quelle instruction faut-il écrire pour créer un vecteur ne contenant que la valeur 1 et de taille 5 ?\n",
    "<div>"
   ]
  },
  {
   "cell_type": "code",
   "execution_count": 7,
   "id": "38c0be4d",
   "metadata": {},
   "outputs": [
    {
     "data": {
      "text/plain": [
       "array([1., 1., 1., 1., 1.])"
      ]
     },
     "execution_count": 7,
     "metadata": {},
     "output_type": "execute_result"
    }
   ],
   "source": [
    "np.ones(5)"
   ]
  },
  {
   "cell_type": "markdown",
   "id": "5bd34045",
   "metadata": {},
   "source": [
    "<div class=\"alert alert-block alert-info\">\n",
    "    Q2.3 - Définir la variable <code>X</code> pour qu'elle corresponde à :\n",
    "  $$\n",
    "    \\mathbf{X} = [\\mathbf{1} \\; \\mathbf{x}] = \\left[\\begin{array}{cc}\n",
    "                        1 & x_1 \\\\\n",
    "                        \\vdots & \\vdots \\\\\n",
    "                        1 & x_i \\\\\n",
    "                        \\vdots & \\vdots \\\\\n",
    "                        1 & x_n \\\\\n",
    "                        \\end{array} \\right].\n",
    "  $$\n",
    "    On utilisera la fonction <code>np.column_stack([A, B])</code>.\n",
    "</div>"
   ]
  },
  {
   "cell_type": "code",
   "execution_count": 8,
   "id": "e21eda22",
   "metadata": {},
   "outputs": [],
   "source": [
    "X = np.column_stack([np.ones(len(x)),x])"
   ]
  },
  {
   "cell_type": "markdown",
   "id": "99c21da6",
   "metadata": {},
   "source": [
    "<div class=\"alert alert-block alert-warning\">\n",
    "    Vous devez obtenir :\n",
    "    <code>\n",
    "array([[  1. , 230.1],\n",
    "       [  1. ,  44.5],\n",
    "       [  1. ,  17.2],\n",
    "       [  1. , 151.5],\n",
    "       [  1. , 180.8],\n",
    "        ...         ])</code>\n",
    " </div>"
   ]
  },
  {
   "cell_type": "markdown",
   "id": "685bd527",
   "metadata": {},
   "source": [
    "<div class=\"alert alert-block alert-info\">\n",
    "    Q2.4 - Calculer $\\left(\\mathbf{X}^T\\mathbf{y}\\right)$. Vous devez obtenir un vecteur de taille 2.\n",
    "</div>"
   ]
  },
  {
   "cell_type": "code",
   "execution_count": 9,
   "id": "b7ff6fc2",
   "metadata": {},
   "outputs": [
    {
     "data": {
      "text/plain": [
       "array([  3026.1 , 526322.09])"
      ]
     },
     "execution_count": 9,
     "metadata": {},
     "output_type": "execute_result"
    }
   ],
   "source": [
    "np.dot(X.T,y)"
   ]
  },
  {
   "cell_type": "markdown",
   "id": "ded7a82c",
   "metadata": {},
   "source": [
    "<div class=\"alert alert-block alert-info\">\n",
    "    Q2.5 - Retrouver le résultat précédent en calculant les composantes du vecteur :\n",
    "    $$\n",
    "    \\left[\\sum_{i = 1}^{n} y_i , \\sum_{i = 1}^{n}x_i y_i\\right]\n",
    "    $$\n",
    "</div>"
   ]
  },
  {
   "cell_type": "code",
   "execution_count": 10,
   "id": "20bfb462",
   "metadata": {},
   "outputs": [
    {
     "data": {
      "text/plain": [
       "(3026.1000000000004, 526322.0899999999)"
      ]
     },
     "execution_count": 10,
     "metadata": {},
     "output_type": "execute_result"
    }
   ],
   "source": [
    "(np.sum(y),np.sum(np.dot(x,y)))"
   ]
  },
  {
   "cell_type": "markdown",
   "id": "7c69587e",
   "metadata": {},
   "source": [
    "<div class=\"alert alert-block alert-info\">\n",
    "    Q2.6 - Calculer $\\left(\\mathbf{X}^T\\mathbf{X}\\right)$. Vous devez obtenir une matrice $2 \\times 2$.\n",
    "</div>"
   ]
  },
  {
   "cell_type": "code",
   "execution_count": 11,
   "id": "b4ab9f48",
   "metadata": {},
   "outputs": [
    {
     "data": {
      "text/plain": [
       "array([[2.00000000e+02, 2.94085000e+04],\n",
       "       [2.94085000e+04, 5.79111839e+06]])"
      ]
     },
     "execution_count": 11,
     "metadata": {},
     "output_type": "execute_result"
    }
   ],
   "source": [
    "np.dot(X.T,X)"
   ]
  },
  {
   "cell_type": "markdown",
   "id": "588ea894",
   "metadata": {},
   "source": [
    "<div class=\"alert alert-block alert-info\">\n",
    "    Q2.7 - Retrouver le résultat précédent en calculant les composantes de la matrice :\n",
    "  $$\n",
    "    \\left[\\begin{array}{cc}\n",
    "                        \\displaystyle \\sum_{i = 1}^{n}1 & \\displaystyle \\sum_{i = 1}^{n} x_i \\\\\n",
    "                        \\displaystyle \\sum_{i = 1}^{n} x_i & \\displaystyle \\sum_{i = 1}^n x_i^2 \\\\\n",
    "    \\end{array} \\right]\n",
    "  $$  \n",
    "</div>"
   ]
  },
  {
   "cell_type": "code",
   "execution_count": 12,
   "id": "55909395",
   "metadata": {},
   "outputs": [
    {
     "data": {
      "text/plain": [
       "([200.0, 29408.5], [29408.5, 5791118.39])"
      ]
     },
     "execution_count": 12,
     "metadata": {},
     "output_type": "execute_result"
    }
   ],
   "source": [
    "([np.sum(np.ones(len(x))),np.sum(x)],[np.sum(x),np.sum(np.dot(x,x))])"
   ]
  },
  {
   "cell_type": "markdown",
   "id": "3c3883a7",
   "metadata": {},
   "source": [
    "<div class=\"alert alert-block alert-info\">\n",
    "    Q2.8 - Écrire la définition de la fonction <code>regression_mc</code> qui, étant donné deux séries de nombres <code>x</code> et <code>y</code>, retourne le vecteur $\\mathbf{b}$ qui minimise :\n",
    "  $$\n",
    "  \\|\\mathbf{X} \\mathbf{b} - \\mathbf{y} \\|^2.\n",
    "  $$\n",
    "  c'est-à-dire la solution de l'équation matricielle :\n",
    "  $$\n",
    "    \\left(\\mathbf{X}^T\\mathbf{X}\\right) \\mathbf{b} = \\left(\\mathbf{X}^T\\mathbf{y}\\right)\n",
    "  $$\n",
    "  avec\n",
    "  $$\n",
    "    \\mathbf{X} = [\\mathbf{1} \\; \\mathbf{x}] = \\left[\\begin{array}{cc}\n",
    "                        1 & x_1 \\\\\n",
    "                        \\vdots & \\vdots \\\\\n",
    "                        1 & x_i \\\\\n",
    "                        \\vdots & \\vdots \\\\\n",
    "                        1 & x_n \\\\\n",
    "                        \\end{array} \\right].\n",
    "  $$\n",
    "  On utilisera la fonction <code>np.linalg.solve</code> vue plus haut.\n",
    "</div>"
   ]
  },
  {
   "cell_type": "code",
   "execution_count": 58,
   "id": "1d719e2c",
   "metadata": {},
   "outputs": [],
   "source": [
    "def regression_mc(x,y):\n",
    "    A = np.column_stack([np.ones(len(x)),x])\n",
    "    M = np.dot(A.T,A)\n",
    "    v = np.dot(A.T,y)\n",
    "    \n",
    "    return np.linalg.solve(M,v)"
   ]
  },
  {
   "cell_type": "markdown",
   "id": "417d5f2b",
   "metadata": {},
   "source": [
    "<div class=\"alert alert-block alert-info\">\n",
    "Q2.9 - Appliquer la fonction <code>regression_mc</code> pour calculer les coefficients de la régression des ventes en fonction de la publicité à la télévision.\n",
    "</div>"
   ]
  },
  {
   "cell_type": "code",
   "execution_count": 59,
   "id": "4d484efe",
   "metadata": {},
   "outputs": [
    {
     "data": {
      "text/plain": [
       "array([6.97482149, 0.05546477])"
      ]
     },
     "execution_count": 59,
     "metadata": {},
     "output_type": "execute_result"
    }
   ],
   "source": [
    "regression_mc(x,y)"
   ]
  },
  {
   "cell_type": "markdown",
   "id": "0a9b4df7",
   "metadata": {},
   "source": [
    "<div class=\"alert alert-block alert-warning\">\n",
    "    Vous devez retrouver le résultat du TME précédent, à savoir :\n",
    "    <code>\n",
    "array([6.97482149, 0.05546477])\n",
    "</code>\n",
    "    qui correspond à la droite d'équation : $$y = 6.97482149 + 0.05546477 x$$\n",
    " </div>"
   ]
  },
  {
   "cell_type": "markdown",
   "id": "1a555293",
   "metadata": {},
   "source": [
    "<div class=\"alert alert-block alert-info\">\n",
    "Exercice facultatif à la maison - Vérifier que les formules, démontrées en cours, des coefficients $b_0$ et $b_1$ de la droite de régression $y = b_0 + b_1x$ sont bien solutions de l'équation matricielle :\n",
    "  $$\n",
    "      \\left(\\mathbf{X}^T\\mathbf{X}\\right) \\mathbf{b} = \\left(\\mathbf{X}^T\\mathbf{y}\\right)\n",
    "  $$\n",
    "    c'est-à-dire du système de deux équations à deux inconnues :\n",
    "  $$\n",
    "  \\left\\{\n",
    "    \\begin{array}{rcrl}\n",
    "      \\displaystyle n b_0 & + & \\displaystyle \\left( \\sum_{i = 1}^{n} x_i \\right) b_1 & \\displaystyle = \\sum_{i = 1}^{n} y_i \\\\\n",
    "      \\displaystyle \\left( \\sum_{i = 1}^{n} x_i \\right) b_0 & + & \\displaystyle \\left( \\sum_{i = 1}^n x_i^2 \\right) b_1 & \\displaystyle = \\sum_{i = 1}^{n}x_i y_i \\\\\n",
    "    \\end{array}\n",
    "  \\right.\n",
    "  $$\n",
    "</div>"
   ]
  },
  {
   "cell_type": "markdown",
   "id": "6eb89a33",
   "metadata": {},
   "source": [
    "## 3 - Tracé du résultat"
   ]
  },
  {
   "cell_type": "markdown",
   "id": "9c5304ef",
   "metadata": {},
   "source": [
    "<div class=\"alert alert-block alert-info\">\n",
    "Q3.1 - Écrire la définition de la fonction <code>fig_regression</code> qui, étant donné deux vecteurs d'observations <code>x</code> et <code>y</code> de même taille, génère le  graphique avec le nuage de points et la droite de régression par les moindres carrés en rouge.\n",
    "</div>"
   ]
  },
  {
   "cell_type": "code",
   "execution_count": 68,
   "id": "29e4f04b",
   "metadata": {},
   "outputs": [],
   "source": [
    "def fig_regression(x,y):\n",
    "    m,p = regression_mc(x,y)\n",
    "    X = np.array((x.min(),x.max()))\n",
    "    Y = p*X + m\n",
    "    \n",
    "    #plot\n",
    "    plt.plot(X,Y,color=\"black\")\n",
    "    \n",
    "    #nuage de points\n",
    "    plt.scatter(x,y,color=\"orange\",s=5)"
   ]
  },
  {
   "cell_type": "markdown",
   "id": "349f3738",
   "metadata": {},
   "source": [
    "<div class=\"alert alert-block alert-info\">\n",
    "Q3.2 - Appliquer la fonction <code>fig_regression</code> pour visualiser le nuage de points des ventes en fonction de la publicité à la télévision ainsi que la droite de régression sur le même graphique.\n",
    "</div>"
   ]
  },
  {
   "cell_type": "code",
   "execution_count": 69,
   "id": "20fd3416",
   "metadata": {},
   "outputs": [
    {
     "data": {
      "image/png": "[encoded data removed]",
      "text/plain": [
       "<Figure size 432x288 with 1 Axes>"
      ]
     },
     "metadata": {
      "needs_background": "light"
     },
     "output_type": "display_data"
    }
   ],
   "source": [
    "fig_regression(x,y)"
   ]
  },
  {
   "cell_type": "markdown",
   "id": "cb5c7dc7",
   "metadata": {},
   "source": [
    "## 4 - Régression linéaire multiple"
   ]
  },
  {
   "cell_type": "markdown",
   "id": "bab61f79",
   "metadata": {},
   "source": [
    "<div class=\"alert alert-block alert-warning\">\n",
    "Dans cette partie, nous allons utiliser exactement la même méthode que précédemment pour réaliser une régression linéaire multiple.\n",
    "<br/>Cette méthode permet de minimiser le critère des moindres carrés pour la régression linéaire multiple vu en cours. Cependant, la démonstration de ce résultat dépasse le cadre de ce cours.\n",
    "    \n",
    "Nous allons donc rechercher $\\mathbf{\\tilde{y}} = b_0 + b_1 \\mathbf{x_{tv}} + b_2 \\mathbf{x_{radio}} + b_3 \\mathbf{x_{newspaper}}$ où $\\mathbf{\\tilde{y}}\\approx \\mathbf{y}$ au sens des moindres carrés.\n",
    "<div>"
   ]
  },
  {
   "cell_type": "markdown",
   "id": "7d33b1dd",
   "metadata": {},
   "source": [
    "<div class=\"alert alert-block alert-info\">\n",
    "    Q4.1 - Extraire dans une variable <code>Xmul</code> les trois colonnes <code>'TV'</code>, <code>'Radio'</code> et <code>'Newspaper'</code><!-- dans un tableau <code>numpy</code> à l'aide de la méthode <code>.to_numpy()</code>-->.\n",
    "</div>"
   ]
  },
  {
   "cell_type": "code",
   "execution_count": 102,
   "id": "889715ff",
   "metadata": {
    "scrolled": true
   },
   "outputs": [],
   "source": [
    "Xmul = np.column_stack([x,data_pub[\"Radio\"],data_pub[\"Newspaper\"]])"
   ]
  },
  {
   "cell_type": "markdown",
   "id": "5c5c8ac7",
   "metadata": {},
   "source": [
    "<div class=\"alert alert-block alert-info\">\n",
    "Q4.2 - Appliquer la fonction <code>regression_mc</code> pour calculer les coefficients $b$ de la régression des ventes en fonction de la publicité à la télévision, à la radio et dans les journaux.\n",
    "</div>"
   ]
  },
  {
   "cell_type": "code",
   "execution_count": 103,
   "id": "d3906e1e",
   "metadata": {},
   "outputs": [
    {
     "data": {
      "text/plain": [
       "array([4.62512408e+00, 5.44457803e-02, 1.07001228e-01, 3.35657922e-04])"
      ]
     },
     "execution_count": 103,
     "metadata": {},
     "output_type": "execute_result"
    }
   ],
   "source": [
    "regression_mc(Xmul,y)"
   ]
  },
  {
   "cell_type": "markdown",
   "id": "ec75b039",
   "metadata": {},
   "source": [
    "<div class=\"alert alert-block alert-warning\">\n",
    "Vous devez trouver :\n",
    "<code>\n",
    "array([4.62512408e+00, 5.44457803e-02, 1.07001228e-01, 3.35657922e-04])\n",
    "</code>\n",
    "</div>"
   ]
  },
  {
   "cell_type": "markdown",
   "id": "e002fc6c",
   "metadata": {},
   "source": [
    "<div class=\"alert alert-block alert-info\">\n",
    "Q4.3 - Écrire la définition de la fonction <code>fig_regression_mult</code> qui, étant donné une matrice d'observations <code>X</code> et <code>y</code> avec le même nombre de lignes, génère le  graphique avec le nuage de points $(\\tilde{y}_i, y_i)$.\n",
    "</div>"
   ]
  },
  {
   "cell_type": "code",
   "execution_count": 104,
   "id": "35f4e96d",
   "metadata": {},
   "outputs": [],
   "source": [
    "def fig_regression_mult(x,y):\n",
    "    b0,b1,b2,b3 = regression_mc(x,y)\n",
    "    \n",
    "    lr = []\n",
    "    for i in range(len(x)):\n",
    "        lr.append(b0 + b1*x[i][0] + b2*x[i][1] + b3*x[i][2])\n",
    "    \n",
    "    plt.scatter(lr,y,color=\"orange\",s=5)"
   ]
  },
  {
   "cell_type": "markdown",
   "id": "3365fafc",
   "metadata": {},
   "source": [
    "<div class=\"alert alert-block alert-info\">\n",
    "Q4.4 - Appliquer la fonction <code>fig_regression_mult</code> pour visualiser le nuage de points des ventes en fonction de $\\mathbf{\\tilde{y}}$.\n",
    "</div>"
   ]
  },
  {
   "cell_type": "code",
   "execution_count": 105,
   "id": "bd4429a9",
   "metadata": {},
   "outputs": [
    {
     "data": {
      "image/png": "[encoded data removed]",
      "text/plain": [
       "<Figure size 432x288 with 1 Axes>"
      ]
     },
     "metadata": {
      "needs_background": "light"
     },
     "output_type": "display_data"
    }
   ],
   "source": [
    "fig_regression_mult(Xmul,y)"
   ]
  },
  {
   "cell_type": "markdown",
   "id": "2c6c8a3c",
   "metadata": {},
   "source": [
    "<div class=\"alert alert-block alert-info\">\n",
    "Q4.5 - Calculer le $R^2$ de cette régression multiple.\n",
    "</div>"
   ]
  },
  {
   "cell_type": "code",
   "execution_count": 107,
   "id": "215ca5e1",
   "metadata": {},
   "outputs": [
    {
     "data": {
      "text/plain": [
       "array([[1.        , 0.00300399, 0.00320898, 0.8121757 ],\n",
       "       [0.00300399, 1.        , 0.12538947, 0.1222419 ],\n",
       "       [0.00320898, 0.12538947, 1.        , 0.02495137],\n",
       "       [0.8121757 , 0.1222419 , 0.02495137, 1.        ]])"
      ]
     },
     "execution_count": 107,
     "metadata": {},
     "output_type": "execute_result"
    }
   ],
   "source": [
    "np.corrcoef(np.array([x,data_pub[\"Radio\"],data_pub[\"Newspaper\"]]),y)**2"
   ]
  },
  {
   "cell_type": "markdown",
   "id": "135fc9d0",
   "metadata": {},
   "source": [
    "<div class=\"alert alert-block alert-info\">\n",
    "Q4.6 - Comparer la contribution de chaque variable de la régression multiple par rapport aux régressions simples vues dans le TME-3X.\n",
    "</div>"
   ]
  },
  {
   "cell_type": "raw",
   "id": "a2eded13",
   "metadata": {},
   "source": [
    "Échelle de l'axis abscisse de celle du TME-3X est beaucoup plus grand que celle du TME-3Y, tandis que l'axe coordonnée reste presque le même"
   ]
  },
  {
   "cell_type": "markdown",
   "id": "b785243d",
   "metadata": {},
   "source": [
    "---"
   ]
  }
 ],
 "metadata": {
  "kernelspec": {
   "display_name": "Python 3 (ipykernel)",
   "language": "python",
   "name": "python3"
  },
  "language_info": {
   "codemirror_mode": {
    "name": "ipython",
    "version": 3
   },
   "file_extension": ".py",
   "mimetype": "text/x-python",
   "name": "python",
   "nbconvert_exporter": "python",
   "pygments_lexer": "ipython3",
   "version": "3.9.7"
  }
 },
 "nbformat": 4,
 "nbformat_minor": 5
}
