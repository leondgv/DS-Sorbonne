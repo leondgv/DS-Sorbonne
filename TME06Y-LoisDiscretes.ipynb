{
 "cells": [
  {
   "cell_type": "markdown",
   "id": "25758d42",
   "metadata": {},
   "source": [
    "# Qui êtes-vous ?\n",
    "<div class=\"alert alert-block alert-info\">\n",
    "Écrire ci-dessous le nom, le prénom et le numéro étudiant de chaque membre du binôme :\n",
    "</div>"
   ]
  },
  {
   "cell_type": "code",
   "execution_count": 2,
   "id": "c6d64caf",
   "metadata": {},
   "outputs": [],
   "source": [
    "# Vu Hoang Thuy Duong - 21110221 SCFO"
   ]
  },
  {
   "cell_type": "markdown",
   "id": "tracked-control",
   "metadata": {},
   "source": [
    "# TME 06Y - Lois discrètes"
   ]
  },
  {
   "cell_type": "code",
   "execution_count": 3,
   "id": "beneficial-glossary",
   "metadata": {},
   "outputs": [],
   "source": [
    "import numpy as np\n",
    "import pandas as pd\n",
    "import matplotlib.pyplot as plt\n",
    "%matplotlib inline"
   ]
  },
  {
   "cell_type": "markdown",
   "id": "b4b3755a",
   "metadata": {},
   "source": [
    "## 1 - Observations sur la loi de Bernoulli"
   ]
  },
  {
   "cell_type": "markdown",
   "id": "a9e5fd3f",
   "metadata": {},
   "source": [
    "<div class=\"alert alert-block alert-warning\">\n",
    "Dans cette première partie, nous allons effectuer des tirages aléatoires indépendants selon une loi de Bernoulli et représenter la moyenne empirique et la variance empririque en fonction du nombre de tirages.\n",
    "</div>"
   ]
  },
  {
   "cell_type": "markdown",
   "id": "e6aa5800",
   "metadata": {},
   "source": [
    "<div class=\"alert alert-block alert-info\">\n",
    "Q1.1 - Définir la fonction <code>ber</code> qui prend en paramètres une réalisation <code>x</code> (entier 0 ou 1) et une probabilité de succès <code>pi</code> et qui renvoie la probabilité de <code>x</code> selon la loi de Bernoulli $\\mathcal{B}(\\pi)$.\n",
    "</div>"
   ]
  },
  {
   "cell_type": "code",
   "execution_count": 4,
   "id": "23b46615",
   "metadata": {},
   "outputs": [],
   "source": [
    "def ber(x,pi):\n",
    "    if x == 0:\n",
    "        return 1-pi\n",
    "    return pi"
   ]
  },
  {
   "cell_type": "markdown",
   "id": "675957bb",
   "metadata": {},
   "source": [
    "<div class=\"alert alert-block alert-info\">\n",
    "Exécuter le bloc suivant pour visualiser la loi de Bernoulli $\\mathcal{B}(\\pi)$.\n",
    "</div>"
   ]
  },
  {
   "cell_type": "code",
   "execution_count": 5,
   "id": "895d0ee2",
   "metadata": {},
   "outputs": [
    {
     "data": {
      "text/plain": [
       "array([0.2, 0.8])"
      ]
     },
     "execution_count": 5,
     "metadata": {},
     "output_type": "execute_result"
    }
   ],
   "source": [
    "np.array([ber(0, 0.8), ber(1, 0.8)])"
   ]
  },
  {
   "cell_type": "markdown",
   "id": "ad2db8a8",
   "metadata": {},
   "source": [
    "<div class=\"alert alert-block alert-info\">\n",
    "Q1.2 - Définir la fonction <code>ber_tirage_simple</code> qui prend en paramètre une probabilité de succès <code>pi</code> et qui renvoie le résultat d'un tirage aléatoire selon la loi de Bernoulli $\\mathcal{B}(n, \\pi)$.\n",
    "    \n",
    "Pour cela, on utilisera <code>np.random.rand()</code> qui tire un nombre pseudo-aléatoire uniformément dans $[0, 1[$ et le renvoie.\n",
    "</div>"
   ]
  },
  {
   "cell_type": "code",
   "execution_count": 6,
   "id": "4a790f20",
   "metadata": {
    "scrolled": true
   },
   "outputs": [],
   "source": [
    "def ber_tirage_simple(pi):\n",
    "    randNbr = np.random.rand()\n",
    "    if randNbr <= pi:\n",
    "        return 1\n",
    "    else:\n",
    "        return 0"
   ]
  },
  {
   "cell_type": "markdown",
   "id": "86a7f94f",
   "metadata": {},
   "source": [
    "<div class=\"alert alert-block alert-info\">\n",
    "Exécuter plusieurs fois le bloc suivant pour voir les résultats d'une série de tirages avec une probabilité de succès $\\pi = 0.8$.\n",
    "</div>"
   ]
  },
  {
   "cell_type": "code",
   "execution_count": 7,
   "id": "e7984c01",
   "metadata": {},
   "outputs": [
    {
     "data": {
      "text/plain": [
       "1"
      ]
     },
     "execution_count": 7,
     "metadata": {},
     "output_type": "execute_result"
    }
   ],
   "source": [
    "ber_tirage_simple(0.8)"
   ]
  },
  {
   "cell_type": "markdown",
   "id": "c1072a74",
   "metadata": {},
   "source": [
    "<div class=\"alert alert-block alert-info\">\n",
    "Exécuter le bloc suivant pour voir un moyen rapide de convertir un tableaux de booléens en tableau d'entiers.\n",
    "</div>"
   ]
  },
  {
   "cell_type": "code",
   "execution_count": 8,
   "id": "e826aded",
   "metadata": {},
   "outputs": [
    {
     "data": {
      "text/plain": [
       "array([0, 0, 1, 0])"
      ]
     },
     "execution_count": 8,
     "metadata": {},
     "output_type": "execute_result"
    }
   ],
   "source": [
    "np.array([False, False, True, False]) + 0"
   ]
  },
  {
   "cell_type": "markdown",
   "id": "bcedc6db",
   "metadata": {},
   "source": [
    "<div class=\"alert alert-block alert-info\">\n",
    "Q1.3 - Définir la fonction <code>ber_tirages</code> qui prend en paramètres une probabilité de succès <code>pi</code> et un nombre d'exprériences <code>nexp</code> et qui renvoie le résultat de <code>nexp</code> tirages indépendants selon la loi de Bernoulli $\\mathcal{B}(\\pi)$.\n",
    "    \n",
    "<code>np.random.rand(n)</code> renvoie un vecteur de valeurs pseudo-aléatoires de taille $n$.\n",
    "</div>"
   ]
  },
  {
   "cell_type": "code",
   "execution_count": 9,
   "id": "e1c67e3a",
   "metadata": {},
   "outputs": [],
   "source": [
    "def ber_tirages(pi,nExp):\n",
    "    return [ber_tirage_simple(pi) for i in range(nExp)]"
   ]
  },
  {
   "cell_type": "markdown",
   "id": "6c284460",
   "metadata": {},
   "source": [
    "<div class=\"alert alert-block alert-info\">\n",
    "Q1.4 - Effectuer 20 tirages indépendants selon la loi de Bernoulli $\\mathcal{B}(\\frac{8}{10})$.\n",
    "</div>"
   ]
  },
  {
   "cell_type": "code",
   "execution_count": 10,
   "id": "35c6f974",
   "metadata": {},
   "outputs": [
    {
     "data": {
      "text/plain": [
       "[1, 1, 1, 1, 1, 1, 1, 0, 0, 1, 1, 1, 0, 1, 1, 1, 1, 1, 0, 1]"
      ]
     },
     "execution_count": 10,
     "metadata": {},
     "output_type": "execute_result"
    }
   ],
   "source": [
    "ber_tirages(0.8,20)"
   ]
  },
  {
   "cell_type": "markdown",
   "id": "9eb23b12",
   "metadata": {},
   "source": [
    "<div class=\"alert alert-block alert-info\">\n",
    "Q1.5 - Écrire une fonction <code>freq_succes</code> qui, étant donné une probabilité <code>pi</code> et un nombre d'expériences <code>nexp</code>, renvoie renvoie la moyenne empririque de succès de <code>nexp</code> tirages aléatoires indépendants selon $\\mathcal{B}(\\pi)$\n",
    "</div>"
   ]
  },
  {
   "cell_type": "code",
   "execution_count": 11,
   "id": "80c86d20",
   "metadata": {},
   "outputs": [],
   "source": [
    "def freq_succes(pi, nExp) : \n",
    "    return np.mean(ber_tirages(pi, nExp))"
   ]
  },
  {
   "cell_type": "markdown",
   "id": "73a3a6e4",
   "metadata": {},
   "source": [
    "<div class=\"alert alert-block alert-info\">\n",
    "Q1.6 - Écrire une fonction <code>dessin_freq</code> qui, étant donné une probabilité <code>pi</code> et un nombre maximal d'expériences <code>nmax</code>, affiche le graphique du nuage de points de la fréquence en fonction du nombre d'expériences en 1 et <code>nmax</code> ainsi que la droite d'équation $y = \\pi$.\n",
    "</div>"
   ]
  },
  {
   "cell_type": "code",
   "execution_count": 12,
   "id": "17a3e3ee",
   "metadata": {
    "scrolled": true
   },
   "outputs": [],
   "source": [
    "def dessin_freq(pi, nMax) : \n",
    "    experience = [freq_succes(pi, i) for i in range(nMax)]\n",
    "    plt.scatter(range(nMax), experience,s=20,color=\"pink\")\n",
    "    plt.plot((0, nMax), (pi, pi), color = 'blue', linewidth=2.0)"
   ]
  },
  {
   "cell_type": "markdown",
   "id": "600798a4",
   "metadata": {},
   "source": [
    "<div class=\"alert alert-block alert-info\">\n",
    "Appliquer la fonction précédente pour voir le graphique.\n",
    "</div>"
   ]
  },
  {
   "cell_type": "code",
   "execution_count": 13,
   "id": "e647e2af",
   "metadata": {},
   "outputs": [
    {
     "name": "stderr",
     "output_type": "stream",
     "text": [
      "/Library/Frameworks/Python.framework/Versions/3.9/lib/python3.9/site-packages/numpy/core/fromnumeric.py:3474: RuntimeWarning: Mean of empty slice.\n",
      "  return _methods._mean(a, axis=axis, dtype=dtype,\n",
      "/Library/Frameworks/Python.framework/Versions/3.9/lib/python3.9/site-packages/numpy/core/_methods.py:189: RuntimeWarning: invalid value encountered in double_scalars\n",
      "  ret = ret.dtype.type(ret / rcount)\n"
     ]
    },
    {
     "data": {
      "image/png": "[encoded data removed]",
      "text/plain": [
       "<Figure size 432x288 with 1 Axes>"
      ]
     },
     "metadata": {
      "needs_background": "light"
     },
     "output_type": "display_data"
    }
   ],
   "source": [
    "dessin_freq(0.8, 1000)"
   ]
  },
  {
   "cell_type": "markdown",
   "id": "9b57a7c0",
   "metadata": {},
   "source": [
    "<div class=\"alert alert-block alert-info\">\n",
    "Q1.7 - De même, écrire la fonction <code>variance_succes</code> pour la variance empirique.\n",
    "\n",
    "Remarque : il s'agit d'un estimatieur biaisé de la variance.\n",
    "</div>"
   ]
  },
  {
   "cell_type": "code",
   "execution_count": 14,
   "id": "9a63794c",
   "metadata": {},
   "outputs": [],
   "source": [
    "def variance_succes(pi, nExp) : \n",
    "    mean = freq_succes(pi, nExp)\n",
    "    return 1.0/nExp * np.sum((ber_tirages(pi, nExp) - mean) ** 2)"
   ]
  },
  {
   "cell_type": "markdown",
   "id": "fa8aeb38",
   "metadata": {},
   "source": [
    "<div class=\"alert alert-block alert-info\">\n",
    "Q1.8 - De même, écrire la fonction <code>dessin_variance</code> qui produit le même type de graphique que <code>dessin_freq</code> mais pour la variance.\n",
    "</div>"
   ]
  },
  {
   "cell_type": "code",
   "execution_count": 15,
   "id": "49a98afb",
   "metadata": {},
   "outputs": [],
   "source": [
    "def dessin_variance(pi, nMax) : \n",
    "    experience = [variance_succes(pi, i) for i in range(1, nMax)]\n",
    "    plt.scatter(range(1, nMax), experience,s=20,color=\"pink\")\n",
    "    plt.plot((1, nMax), (pi*(1-pi), pi*(1-pi)), color = 'blue', linewidth = 1.5)"
   ]
  },
  {
   "cell_type": "code",
   "execution_count": 16,
   "id": "7d3c0c92",
   "metadata": {
    "scrolled": true
   },
   "outputs": [
    {
     "data": {
      "image/png": "[encoded data removed]",
      "text/plain": [
       "<Figure size 432x288 with 1 Axes>"
      ]
     },
     "metadata": {
      "needs_background": "light"
     },
     "output_type": "display_data"
    }
   ],
   "source": [
    "dessin_variance(0.8, 5000)"
   ]
  },
  {
   "cell_type": "markdown",
   "id": "3d48e39f",
   "metadata": {},
   "source": [
    "## 2 - Observations sur la loi binomiale"
   ]
  },
  {
   "cell_type": "markdown",
   "id": "6b5d1226",
   "metadata": {},
   "source": [
    "<div class=\"alert alert-block alert-info\">\n",
    "Q2.1 - Écrire la fonction <code>binomiale_tirages</code> qui, étant donné les paramètres <code>n</code> et <code>pi</code> et un nombre d'expériences <code>nexp</code>, renvoie un vecteur de <code>nexp</code> tirages indépendants selon la loi binomiale $\\mathcal{B}(n, \\pi)$.\n",
    "    \n",
    "Pour effectuer un tirage selon la loi binomiale, on pourra effectuer $n$ tirages selon une loi de Bernoulli.\n",
    "</div>"
   ]
  },
  {
   "cell_type": "code",
   "execution_count": 17,
   "id": "d8e314fd",
   "metadata": {},
   "outputs": [],
   "source": [
    "import math\n",
    "\n",
    "def binomiale_tirages(n, pi, nExp):\n",
    "    \n",
    "    vector = []\n",
    "    #tirage = ber_tirages(pi,n)\n",
    "\n",
    "    for i in range(nExp):\n",
    "        for j in range(n):\n",
    "            vector.append(\n",
    "                math.factorial(n)/(math.factorial(j) * math.factorial(n - j)) * pi**j * (1 - pi)**(n-j)\n",
    "            )\n",
    "    return vector"
   ]
  },
  {
   "cell_type": "code",
   "execution_count": 18,
   "id": "8f92bf87",
   "metadata": {},
   "outputs": [
    {
     "data": {
      "text/plain": [
       "[<matplotlib.lines.Line2D at 0x7faa89697250>]"
      ]
     },
     "execution_count": 18,
     "metadata": {},
     "output_type": "execute_result"
    },
    {
     "data": {
      "image/png": "[encoded data removed]",
      "text/plain": [
       "<Figure size 432x288 with 1 Axes>"
      ]
     },
     "metadata": {
      "needs_background": "light"
     },
     "output_type": "display_data"
    }
   ],
   "source": [
    "plt.plot(range(500), binomiale_tirages(500, 0.8, 1),color=\"red\")"
   ]
  },
  {
   "cell_type": "markdown",
   "id": "8a4afd5f",
   "metadata": {},
   "source": [
    "<div class=\"alert alert-block alert-info\">\n",
    "Q2.2 - Écrire une fonction <code>binomiale_effectifs</code> qui, étant donné les paramètres <code>n</code> et <code>pi</code> et un nombre d'expériences <code>nexp</code>, renvoie un vecteur de taille $n + 1$ comptant les effectifs des réalisations de la loi binomiale.\n",
    "</div>"
   ]
  },
  {
   "cell_type": "code",
   "execution_count": 19,
   "id": "e96036fb",
   "metadata": {},
   "outputs": [],
   "source": [
    "def binomial_effectifs(n, pi, nExp) : \n",
    "    vector = []\n",
    "    \n",
    "    for j in range(n+1):\n",
    "        vector.append(np.sum(ber_tirages(pi, n)))\n",
    "    vector = np.array(vector)\n",
    "    return vector"
   ]
  },
  {
   "cell_type": "markdown",
   "id": "25559e8f",
   "metadata": {},
   "source": [
    "<div class=\"alert alert-block alert-info\">\n",
    "Exécuter le bloc suivant pour créer un vecteur correspondant au 21 réalisation possibles d'une variable aléatoire qui suit une loi binomiale de paramètre 20.\n",
    "</div>"
   ]
  },
  {
   "cell_type": "code",
   "execution_count": 20,
   "id": "d558c1ab",
   "metadata": {},
   "outputs": [
    {
     "data": {
      "text/plain": [
       "array([ 0,  1,  2,  3,  4,  5,  6,  7,  8,  9, 10, 11, 12, 13, 14, 15, 16,\n",
       "       17, 18, 19, 20])"
      ]
     },
     "execution_count": 20,
     "metadata": {},
     "output_type": "execute_result"
    }
   ],
   "source": [
    "np.arange(0, 21, 1)"
   ]
  },
  {
   "cell_type": "code",
   "execution_count": 21,
   "id": "4f9a3343",
   "metadata": {},
   "outputs": [
    {
     "data": {
      "text/plain": [
       "array([16, 16, 15, 17, 16, 16, 19, 17, 15, 16, 15, 18, 15, 17, 15, 17, 16,\n",
       "       16, 15, 16, 16])"
      ]
     },
     "execution_count": 21,
     "metadata": {},
     "output_type": "execute_result"
    }
   ],
   "source": [
    "binomial_effectifs(20,0.8,10)"
   ]
  },
  {
   "cell_type": "markdown",
   "id": "7faa1faf",
   "metadata": {},
   "source": [
    "<div class=\"alert alert-block alert-info\">\n",
    "    Q2.3 - Écrire la fonction <code>dessin_binomiale</code> qui, étant donné les paramètres <code>n</code> et <code>pi</code> et un nombre d'expériences <code>nexp</code>, affiche l'histogramme des effectifs obtenus pour chaque réalisation.\n",
    "</div>"
   ]
  },
  {
   "cell_type": "code",
   "execution_count": 22,
   "id": "a999cee2",
   "metadata": {
    "scrolled": true
   },
   "outputs": [],
   "source": [
    "def dessin_binomiale(n,pi,nExp):\n",
    "    plt.hist(binomial_effectifs(n,pi,nExp),color=\"lightskyblue\",density=True)"
   ]
  },
  {
   "cell_type": "markdown",
   "id": "7c4eb440",
   "metadata": {},
   "source": [
    "<div class=\"alert alert-block alert-info\">\n",
    "Exécuter le bloc suivant pour tester votre fonction.\n",
    "</div>"
   ]
  },
  {
   "cell_type": "code",
   "execution_count": 23,
   "id": "c60374cb",
   "metadata": {},
   "outputs": [
    {
     "data": {
      "image/png": "[encoded data removed]",
      "text/plain": [
       "<Figure size 432x288 with 1 Axes>"
      ]
     },
     "metadata": {
      "needs_background": "light"
     },
     "output_type": "display_data"
    }
   ],
   "source": [
    "dessin_binomiale(20, 0.8, 10000)"
   ]
  },
  {
   "cell_type": "code",
   "execution_count": 24,
   "id": "0e86966e",
   "metadata": {},
   "outputs": [
    {
     "data": {
      "image/png": "[encoded data removed]",
      "text/plain": [
       "<Figure size 432x288 with 1 Axes>"
      ]
     },
     "metadata": {
      "needs_background": "light"
     },
     "output_type": "display_data"
    }
   ],
   "source": [
    "#dessin_binomiale(2000, 0.8, 10000)\n",
    "plt.plot(range(500), binomiale_tirages(500, 0.8, 1),color=\"red\")\n",
    "dessin_binomiale(500, 0.8, 1)"
   ]
  },
  {
   "cell_type": "markdown",
   "id": "672fc130",
   "metadata": {},
   "source": [
    "## 3 - Loi jointe"
   ]
  },
  {
   "cell_type": "markdown",
   "id": "4838912e",
   "metadata": {},
   "source": [
    "<div class=\"alert alert-block alert-warning\">\n",
    "On reprend la loi de probabilité jonte du TME précédent.\n",
    "\n",
    "Soit deux variables aléatoires $X$ et $Y$ qui suivent la loi de probabilité jointe suivante :\n",
    "$$\n",
    "    \\begin{array}{c|cccc}\n",
    "      p_{XY}(x, y) & 0 & 1 & 2 & 3 \\\\\n",
    "      \\hline\n",
    "      0 & \\frac{9}{32} & \\frac{3}{32} & \\frac{1}{32} & \\frac{7}{32} \\\\\n",
    "      1 & \\frac{1}{32} & \\frac{2}{32} & \\frac{8}{32} & \\frac{1}{32}\n",
    "    \\end{array}\n",
    "$$\n",
    "</div>"
   ]
  },
  {
   "cell_type": "markdown",
   "id": "7738ffde",
   "metadata": {},
   "source": [
    "<div class=\"alert alert-block alert-info\">\n",
    "Q3.1 - Calculer la loi marginale de $p_X$ ainsi que la loi conditionnelle $p_{Y|X}$.\n",
    "</div>"
   ]
  },
  {
   "cell_type": "code",
   "execution_count": 184,
   "id": "c4c9421b",
   "metadata": {},
   "outputs": [
    {
     "data": {
      "text/plain": [
       "array([[0.45      , 0.15      , 0.05      , 0.35      ],\n",
       "       [0.08333333, 0.16666667, 0.66666667, 0.08333333]])"
      ]
     },
     "execution_count": 184,
     "metadata": {},
     "output_type": "execute_result"
    }
   ],
   "source": [
    "pxy = np.array([\n",
    "    [9/32,3/32,1/32,7/32],\n",
    "    [1/32,2/32,8/32,1/32]\n",
    "])\n",
    "\n",
    "pX = np.array([np.sum(pxy[0]),np.sum(pxy[1])])\n",
    "\n",
    "pySx = (pxy.T/pX).T\n",
    "pySx"
   ]
  },
  {
   "cell_type": "markdown",
   "id": "97cee69e",
   "metadata": {},
   "source": [
    "<div class=\"alert alert-block alert-warning\">\n",
    "Nous savons déjà tirer selon $p_X$ puisqu'il s'agit d'une loi de Bernoulli.\n",
    "\n",
    "Pour tirer selon $p_{Y|X}$, nous allons commencer par calculer la fonction de répartition.\n",
    "</div>"
   ]
  },
  {
   "cell_type": "markdown",
   "id": "9131a178",
   "metadata": {},
   "source": [
    "<div class=\"alert alert-block alert-info\">\n",
    "Q3.2 - Écrire une fonction <code>repartition</code> qui, étant donné une loi de probabilité discrète sous la forme d'un vecteur, renvoie la fonction de répartition (probabilités cumulées) sous la forme d'un vecteur de même taille.\n",
    "</div>"
   ]
  },
  {
   "cell_type": "code",
   "execution_count": 25,
   "id": "3a96aa4f",
   "metadata": {},
   "outputs": [],
   "source": [
    "def repartition(loi):\n",
    "    \n",
    "    mainLr = [loi[0]]\n",
    "    \n",
    "    for i in range(1,len(loi)):\n",
    "        mainLr.append(loi[i] + loi[i-1])\n",
    "    return mainLr"
   ]
  },
  {
   "cell_type": "markdown",
   "id": "21af16f4",
   "metadata": {},
   "source": [
    "<div class=\"alert alert-block alert-info\">\n",
    "Q3.3 - À l'aide de la fonction précédente, écrire une fonction <code>tirage</code> qui, étant donné une loi de probabilité sous la forme d'un vecteur, renvoie l'indice du vecteur tiré aléatoirement compte tenu des probabilités.\n",
    "</div>"
   ]
  },
  {
   "cell_type": "code",
   "execution_count": 26,
   "id": "1d57c6d1",
   "metadata": {},
   "outputs": [],
   "source": [
    "def tirage(loi):\n",
    "    tmp = np.random.rand()\n",
    "    for i in range(1,len(loi)):\n",
    "        if loi[i] > tmp:\n",
    "            return loi[i-1]\n",
    "        elif tmp in loi:\n",
    "            return tmp"
   ]
  },
  {
   "cell_type": "markdown",
   "id": "ffedcf8c",
   "metadata": {},
   "source": [
    "<div class=\"alert alert-block alert-info\">\n",
    "Q3.4 - À l'aide d'un grand nombre de tirages, vérifier si les fréquences se rapprochent des probabilités théoriques.\n",
    "</div>"
   ]
  },
  {
   "cell_type": "markdown",
   "id": "a8d1f78c",
   "metadata": {},
   "source": [
    "---"
   ]
  }
 ],
 "metadata": {
  "kernelspec": {
   "display_name": "Python 3 (ipykernel)",
   "language": "python",
   "name": "python3"
  },
  "language_info": {
   "codemirror_mode": {
    "name": "ipython",
    "version": 3
   },
   "file_extension": ".py",
   "mimetype": "text/x-python",
   "name": "python",
   "nbconvert_exporter": "python",
   "pygments_lexer": "ipython3",
   "version": "3.9.7"
  }
 },
 "nbformat": 4,
 "nbformat_minor": 5
}
